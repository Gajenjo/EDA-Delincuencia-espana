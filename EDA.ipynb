{
 "cells": [
  {
   "cell_type": "code",
   "execution_count": 280,
   "metadata": {},
   "outputs": [],
   "source": [
    "\n",
    "import seaborn as sns\n",
    "import numpy as np\n",
    "import pandas as pd\n",
    "import matplotlib.pyplot as plt\n",
    "import plotly.graph_objs as go\n",
    "import plotly.express as px\n",
    "from bs4 import BeautifulSoup"
   ]
  },
  {
   "cell_type": "code",
   "execution_count": 281,
   "metadata": {},
   "outputs": [],
   "source": [
    "# Opciones pandas para visualización cómoda de DF\n",
    "\n",
    "pd.set_option('display.max_columns', 50)\n",
    "pd.set_option('display.max_rows', 50)\n",
    "pd.set_option('display.width', 50)\n",
    "\n",
    "# sns.set_style(\"dark\")"
   ]
  },
  {
   "cell_type": "code",
   "execution_count": 282,
   "metadata": {},
   "outputs": [
    {
     "data": {
      "text/html": [
       "<div>\n",
       "<style scoped>\n",
       "    .dataframe tbody tr th:only-of-type {\n",
       "        vertical-align: middle;\n",
       "    }\n",
       "\n",
       "    .dataframe tbody tr th {\n",
       "        vertical-align: top;\n",
       "    }\n",
       "\n",
       "    .dataframe thead th {\n",
       "        text-align: right;\n",
       "    }\n",
       "</style>\n",
       "<table border=\"1\" class=\"dataframe\">\n",
       "  <thead>\n",
       "    <tr style=\"text-align: right;\">\n",
       "      <th></th>\n",
       "      <th>Tipo de Delito: Nivel 1</th>\n",
       "      <th>Tipo de Delito: Nivel 2</th>\n",
       "      <th>Tipo de Delito: Nivel 3</th>\n",
       "      <th>Periodo</th>\n",
       "      <th>Total</th>\n",
       "    </tr>\n",
       "  </thead>\n",
       "  <tbody>\n",
       "    <tr>\n",
       "      <th>0</th>\n",
       "      <td>A Delitos</td>\n",
       "      <td>NaN</td>\n",
       "      <td>NaN</td>\n",
       "      <td>2021</td>\n",
       "      <td>410.842</td>\n",
       "    </tr>\n",
       "    <tr>\n",
       "      <th>1</th>\n",
       "      <td>A Delitos</td>\n",
       "      <td>NaN</td>\n",
       "      <td>NaN</td>\n",
       "      <td>2020</td>\n",
       "      <td>311.271</td>\n",
       "    </tr>\n",
       "    <tr>\n",
       "      <th>2</th>\n",
       "      <td>A Delitos</td>\n",
       "      <td>NaN</td>\n",
       "      <td>NaN</td>\n",
       "      <td>2019</td>\n",
       "      <td>412.571</td>\n",
       "    </tr>\n",
       "    <tr>\n",
       "      <th>3</th>\n",
       "      <td>A Delitos</td>\n",
       "      <td>NaN</td>\n",
       "      <td>NaN</td>\n",
       "      <td>2018</td>\n",
       "      <td>406.327</td>\n",
       "    </tr>\n",
       "    <tr>\n",
       "      <th>4</th>\n",
       "      <td>A Delitos</td>\n",
       "      <td>NaN</td>\n",
       "      <td>NaN</td>\n",
       "      <td>2017</td>\n",
       "      <td>394.301</td>\n",
       "    </tr>\n",
       "    <tr>\n",
       "      <th>...</th>\n",
       "      <td>...</td>\n",
       "      <td>...</td>\n",
       "      <td>...</td>\n",
       "      <td>...</td>\n",
       "      <td>...</td>\n",
       "    </tr>\n",
       "    <tr>\n",
       "      <th>985</th>\n",
       "      <td>L3 Ley Penal y Procesal de la Navegación aérea</td>\n",
       "      <td>NaN</td>\n",
       "      <td>NaN</td>\n",
       "      <td>2017</td>\n",
       "      <td>1.000</td>\n",
       "    </tr>\n",
       "    <tr>\n",
       "      <th>986</th>\n",
       "      <td>L3 Ley Penal y Procesal de la Navegación aérea</td>\n",
       "      <td>NaN</td>\n",
       "      <td>NaN</td>\n",
       "      <td>2016</td>\n",
       "      <td>NaN</td>\n",
       "    </tr>\n",
       "    <tr>\n",
       "      <th>987</th>\n",
       "      <td>L3 Ley Penal y Procesal de la Navegación aérea</td>\n",
       "      <td>NaN</td>\n",
       "      <td>NaN</td>\n",
       "      <td>2015</td>\n",
       "      <td>NaN</td>\n",
       "    </tr>\n",
       "    <tr>\n",
       "      <th>988</th>\n",
       "      <td>L3 Ley Penal y Procesal de la Navegación aérea</td>\n",
       "      <td>NaN</td>\n",
       "      <td>NaN</td>\n",
       "      <td>2014</td>\n",
       "      <td>NaN</td>\n",
       "    </tr>\n",
       "    <tr>\n",
       "      <th>989</th>\n",
       "      <td>L3 Ley Penal y Procesal de la Navegación aérea</td>\n",
       "      <td>NaN</td>\n",
       "      <td>NaN</td>\n",
       "      <td>2013</td>\n",
       "      <td>NaN</td>\n",
       "    </tr>\n",
       "  </tbody>\n",
       "</table>\n",
       "<p>990 rows × 5 columns</p>\n",
       "</div>"
      ],
      "text/plain": [
       "                            Tipo de Delito: Nivel 1  \\\n",
       "0                                         A Delitos   \n",
       "1                                         A Delitos   \n",
       "2                                         A Delitos   \n",
       "3                                         A Delitos   \n",
       "4                                         A Delitos   \n",
       "..                                              ...   \n",
       "985  L3 Ley Penal y Procesal de la Navegación aérea   \n",
       "986  L3 Ley Penal y Procesal de la Navegación aérea   \n",
       "987  L3 Ley Penal y Procesal de la Navegación aérea   \n",
       "988  L3 Ley Penal y Procesal de la Navegación aérea   \n",
       "989  L3 Ley Penal y Procesal de la Navegación aérea   \n",
       "\n",
       "    Tipo de Delito: Nivel 2  \\\n",
       "0                       NaN   \n",
       "1                       NaN   \n",
       "2                       NaN   \n",
       "3                       NaN   \n",
       "4                       NaN   \n",
       "..                      ...   \n",
       "985                     NaN   \n",
       "986                     NaN   \n",
       "987                     NaN   \n",
       "988                     NaN   \n",
       "989                     NaN   \n",
       "\n",
       "    Tipo de Delito: Nivel 3  Periodo    Total  \n",
       "0                       NaN     2021  410.842  \n",
       "1                       NaN     2020  311.271  \n",
       "2                       NaN     2019  412.571  \n",
       "3                       NaN     2018  406.327  \n",
       "4                       NaN     2017  394.301  \n",
       "..                      ...      ...      ...  \n",
       "985                     NaN     2017    1.000  \n",
       "986                     NaN     2016      NaN  \n",
       "987                     NaN     2015      NaN  \n",
       "988                     NaN     2014      NaN  \n",
       "989                     NaN     2013      NaN  \n",
       "\n",
       "[990 rows x 5 columns]"
      ]
     },
     "execution_count": 282,
     "metadata": {},
     "output_type": "execute_result"
    }
   ],
   "source": [
    "# Asignación de csv a df\n",
    "\n",
    "delit_type = pd.read_csv(\"delitosportipo.csv\", sep=\";\",encoding=\"latin_1\")\n",
    "delit_gender = pd.read_csv(\"delitosporcondena.csv\",sep=\";\",encoding=\"latin-1\")\n",
    "viogen = pd.read_csv(\"viogen.csv\",sep=\";\",encoding=\"latin-1\")\n",
    "delit_type"
   ]
  },
  {
   "cell_type": "code",
   "execution_count": 283,
   "metadata": {},
   "outputs": [],
   "source": [
    "# Renombramos las columnas por comodidad\n",
    "\n",
    "delit_type.rename(columns={\"Tipo de Delito: Nivel 1\":\"Nv1\",\n",
    "                             \"Tipo de Delito: Nivel 2\":\"Nv2\",\n",
    "                             \"Tipo de Delito: Nivel 3\":\"Nv3\"},inplace=True)"
   ]
  },
  {
   "cell_type": "code",
   "execution_count": 284,
   "metadata": {},
   "outputs": [],
   "source": [
    "# Renombramos el nv2 de delitos\n",
    "\n",
    "delitos_nv2_dict = {\n",
    "        '10 Contra la intimidad, derecho a la propia imagen'                                           :'Contra la intimidad, derecho a la propia imagen',\n",
    "        '11 Contra el honor'                                                                           :'Contra el honor',\n",
    "        '12 Contra las relaciones familiares'                                                          :'Contra las relaciones familiares',\n",
    "        '13 Contra el patrimonio y el orden socioeconómico'                                            :'Contra el patrimonio y el orden socioeconómico',\n",
    "        '14 Contra la Hacienda Pública y Seguridad Social'                                             :'Contra la Hacienda Pública y Seguridad Social',\n",
    "        '15 BIS Contra los derechos de los ciudadanos extranjeros'                                     :'Contra los derechos de los ciudadanos extranjeros',\n",
    "        '15 Contra los derechos de los trabajadores'                                                   :'Contra los derechos de los trabajadores',\n",
    "        '16 Ordenación del territorio, urbanismo, protección del patrimonio histórico y medio ambiente':'Ordenación del territorio, urbanismo, protección del patrimonio histórico y medio ambiente',\n",
    "        '17 Contra la seguridad colectiva'                                                             :'Contra la seguridad colectiva',\n",
    "        '18 Falsedades'                                                                                :'Falsedades',\n",
    "        '19 Contra la Administración Pública'                                                          :'Contra la Administración Pública',\n",
    "        '20 Contra la Administración de Justicia'                                                      :'Contra la Administración de Justicia',\n",
    "        '21 Contra la Constitución'                                                                    :'Contra la Constitución',\n",
    "        '22 Contra el orden público'                                                                   :'Contra el orden público',\n",
    "        '23 Traición, contra la paz y defensa nacional'                                                :'Traición, contra la paz y defensa nacional',\n",
    "        '24 Contra la Comunidad Internacional'                                                         :'Contra la Comunidad Internacional',\n",
    "        \"1 Homicidio y sus formas\"                                                                     :\"Homicidio y sus formas\",\n",
    "        \"2 Aborto\"                                                                                     :\"Aborto\",\n",
    "        \"3 Lesiones\"                                                                                   :\"Lesiones\",\n",
    "        \"4 Lesiones al feto\"                                                                           :\"Lesiones al feto\",\n",
    "        \"5 Manipulación genética\"                                                                      :\"Manipulación genética\",\n",
    "        \"6 Contra la libertad\"                                                                         :\"Contra la libertad\",\n",
    "        \"7 BIS Trata de seres humanos\"                                                                 :\"Trata de seres humanos\",\n",
    "        \"7 Torturas e integridad moral\"                                                                :\"Torturas e integridad moral\",\n",
    "        \"8 Contra la libertad e indemnidad sexuales\"                                                   :\"Contra la libertad e indemnidad sexuales\",\n",
    "        \"9 Omisión del deber de socorro\"                                                               :\"Omisión del deber de socorro\"\n",
    "    }\n",
    "for k,v in delitos_nv2_dict.items():\n",
    "    delit_type.loc[delit_type[\"Nv2\"]==k, \"Nv2\"] = v"
   ]
  },
  {
   "cell_type": "code",
   "execution_count": 285,
   "metadata": {},
   "outputs": [],
   "source": [
    "# Renombramos el nv3 de delitos\n",
    "\n",
    "delitos_nv3_dict = {'6.1 Detenciones ilegales y secuestro':'Detenciones ilegales y secuestro', \n",
    "                    '6.2 Amenazas':'Amenazas',\n",
    "                     '6.3 Coacciones':'Coacciones', \n",
    "                     '8.1 Agresiones sexuales':'Agresiones sexuales', \n",
    "                     '8.2 Abusos sexuales':'Abusos sexuales',\n",
    "                     '8.2 BIS Abusos y agresiones sexuales a menores de 16 años':'Abusos y agresiones sexuales a menores de 16 años',\n",
    "                     '8.3 Acoso sexual':'Acoso sexual', \n",
    "                     '8.4 Exhibicionismo y provocación sexual':'Exhibicionismo y provocación sexual',\n",
    "                     '8.5 Prostitución y corrupción menores':'Prostitución y corrupción menores',\n",
    "                     '10.1 Descubrimiento y revelación de secretos':'Descubrimiento y revelación de secretos',\n",
    "                     '10.2 Allanamiento de morada':'Allanamiento de morada', \n",
    "                     '11.1 Calumnias':'Calumnias', \n",
    "                     '11.2 Injurias':'Injurias',\n",
    "                     '12.1 Matrimonios ilegales':'Matrimonios ilegales',\n",
    "                     '12.2 Suposición de parto y alteración de la paternidad':'Suposición de parto y alteración de la paternidad',\n",
    "                     '12.3 Contra los derechos y deberes familiares':'Contra los derechos y deberes familiares', \n",
    "                     '13.1 Hurtos':'Hurtos',\n",
    "                     '13.2 Robos':'Robos', \n",
    "                     '13.3 Extorsión':'Extorsión',\n",
    "                     '13.4 Robo y hurto de uso de vehículo':'Robo y hurto de uso de vehículo', \n",
    "                     '13.5 Usurpación':'Usurpación',\n",
    "                     '13.6 Defraudaciones':'Defraudaciones', \n",
    "                     '13.7 Frustración de la ejecución':'Frustración de la ejecución',\n",
    "                     '13.7 BIS Insolvencias punibles':'Insolvencias punibles',\n",
    "                     '13.8 Alteración de precios en concursos y subastas públicas':'Alteración de precios en concursos y subastas públicas',\n",
    "                     '13.9 Daños':'Daños', \n",
    "                     '13.11 Propiedad intelectual e industrial':'Propiedad intelectual e industrial',\n",
    "                     '13.12 De la sustracción de cosa propia a su utilidad social o cultural':'De la sustracción de cosa propia a su utilidad social o cultural',\n",
    "                     '13.13 Delitos societarios':'Delitos societarios',\n",
    "                     '13.14 Receptación y blanqueo de capitales':'Receptación y blanqueo de capitales',\n",
    "                     '16.1 Ordenación del territorio y el urbanismo':'Ordenación del territorio y el urbanismo',\n",
    "                     '16.2 Patrimonio histórico':'Patrimonio histórico',\n",
    "                     '16.3 Recursos naturales y medio ambiente':'Recursos naturales y medio ambiente',\n",
    "                     '16.4 Protección de flora, fauna y animales domésticos':'Protección de flora, fauna y animales domésticos',\n",
    "                     '17.1 Delitos de riesgo catastrófico':'Delitos de riesgo catastrófico', \n",
    "                     '17.2 Incendios':'Incendios',\n",
    "                     '17.3 Contra la salud pública':'Contra la salud pública', \n",
    "                     '17.4 Contra la seguridad vial':'Contra la seguridad vial',\n",
    "                     '18.1 Falsificación de moneda y efectos timbrados':'Falsificación de moneda y efectos timbrados',\n",
    "                     '18.2 Falsedades documentales':'Falsedades documentales',\n",
    "                     '18.3 Fabricación o tenencia de útiles para falsificación':'Fabricación o tenencia de útiles para falsificación',\n",
    "                     '18.4 Usurpación del estado civil':'Usurpación del estado civil',\n",
    "                     '18.5 Usurpación de funciones públicas':'Usurpación de funciones públicas',\n",
    "                     '19.1 Prevaricación de los funcionarios públicos':'Prevaricación de los funcionarios públicos',\n",
    "                     '19.2 Abandono destino':'Abandono destino', \n",
    "                     '19.3 Desobediencia y denegación auxilio':'Desobediencia y denegación auxilio',\n",
    "                     '19.4 Infidelidad custodia documentos':'Infidelidad custodia documentos', \n",
    "                     '19.5 Cohecho':'Cohecho',\n",
    "                     '19.6 Tráfico influencias':'Tráfico influencias', \n",
    "                     '19.7 Malversación':'Malversación',\n",
    "                     '19.8 Fraudes y exacciones ilegales':'Fraudes y exacciones ilegales',\n",
    "                     '19.9 Negociaciones prohibidas a los funcionarios':'Negociaciones prohibidas a los funcionarios',\n",
    "                     '20.1 Prevaricación':'Prevaricación',\n",
    "                     '20.2 Omisión de los deberes de impedir delitos':'Omisión de los deberes de impedir delitos',\n",
    "                     '20.3 Encubrimiento':'Encubrimiento',\n",
    "                     '20.4 Realización arbitraria del propio derecho':'Realización arbitraria del propio derecho',\n",
    "                     '20.5 Acusación y denuncia falsa':'Acusación y denuncia falsa', \n",
    "                     '20.6 Falso testimonio':'Falso testimonio',\n",
    "                     '20.7 Obstrucción a la justicia':'Obstrucción a la justicia',\n",
    "                     '20.8 Quebrantamiento de condena':'Quebrantamiento de condena',\n",
    "                     '20.9 Contra la Administración de Justicia de la Corte Penal Internacional':'Contra la Administración de Justicia de la Corte Penal Internacional',\n",
    "                     '21.1 Rebelión':'Rebelión', \n",
    "                     '21.2 Contra la Corona':'Contra la Corona',\n",
    "                     '21.3 Contra las Instituciones del Estado':'Contra las Instituciones del Estado',\n",
    "                     '21.4 Ejercicio de los derechos fundamentales':'Ejercicio de los derechos fundamentales',\n",
    "                     '21.5 Cometidos por funcionarios contra libertad individual':'Cometidos por funcionarios contra libertad individual',\n",
    "                     '21.6 Ultrajes a España':'Ultrajes a España', \n",
    "                     '22.1 Sedición':'Sedición',\n",
    "                     '22.2 Atentados contra la autoridad y de la resistencia y desobediencia':'Atentados contra la autoridad y de la resistencia y desobediencia',\n",
    "                     '22.3 Desórdenes públicos':'Desórdenes públicos',\n",
    "                     '22.5 Tenencia, tráfico, depósito de armas y explosivos':'Tenencia, tráfico, depósito de armas y explosivos',\n",
    "                     '22.6 Organizaciones y grupos criminales':'Organizaciones y grupos criminales',\n",
    "                     '22.7 Organizaciones y grupos terroristas y delitos de terrorismo':'Organizaciones y grupos terroristas y delitos de terrorismo',\n",
    "                     '23.1 Traición':'Traición',\n",
    "                     '23.2 Que comprometen la paz o independencia del Estado':'Que comprometen la paz o independencia del Estado',\n",
    "                     '23.3 Descubrimiento y revelación de secretos':'Descubrimiento y revelación de secretos',\n",
    "                     '24.1 Contra el derecho de gentes':'Contra el derecho de gentes', \n",
    "                     '24.2 Genocidio':'Genocidio',\n",
    "                     '24.2 BIS Lesa humanidad':'Lesa humanidad',\n",
    "                     '24.3 Contra las personas y bienes protegidos':'Contra las personas y bienes protegidos'}\n",
    "for k,v in delitos_nv3_dict.items():\n",
    "    delit_type.loc[delit_type[\"Nv3\"]==k, \"Nv3\"] = v"
   ]
  },
  {
   "cell_type": "code",
   "execution_count": 286,
   "metadata": {},
   "outputs": [
    {
     "data": {
      "text/html": [
       "<div>\n",
       "<style scoped>\n",
       "    .dataframe tbody tr th:only-of-type {\n",
       "        vertical-align: middle;\n",
       "    }\n",
       "\n",
       "    .dataframe tbody tr th {\n",
       "        vertical-align: top;\n",
       "    }\n",
       "\n",
       "    .dataframe thead th {\n",
       "        text-align: right;\n",
       "    }\n",
       "</style>\n",
       "<table border=\"1\" class=\"dataframe\">\n",
       "  <thead>\n",
       "    <tr style=\"text-align: right;\">\n",
       "      <th></th>\n",
       "      <th>Periodo</th>\n",
       "      <th>Total</th>\n",
       "    </tr>\n",
       "  </thead>\n",
       "  <tbody>\n",
       "    <tr>\n",
       "      <th>0</th>\n",
       "      <td>2013</td>\n",
       "      <td>13433.882</td>\n",
       "    </tr>\n",
       "    <tr>\n",
       "      <th>1</th>\n",
       "      <td>2014</td>\n",
       "      <td>13789.608</td>\n",
       "    </tr>\n",
       "    <tr>\n",
       "      <th>2</th>\n",
       "      <td>2015</td>\n",
       "      <td>15460.483</td>\n",
       "    </tr>\n",
       "    <tr>\n",
       "      <th>3</th>\n",
       "      <td>2016</td>\n",
       "      <td>16536.454</td>\n",
       "    </tr>\n",
       "    <tr>\n",
       "      <th>4</th>\n",
       "      <td>2017</td>\n",
       "      <td>16437.758</td>\n",
       "    </tr>\n",
       "    <tr>\n",
       "      <th>5</th>\n",
       "      <td>2018</td>\n",
       "      <td>14491.144</td>\n",
       "    </tr>\n",
       "    <tr>\n",
       "      <th>6</th>\n",
       "      <td>2019</td>\n",
       "      <td>14262.983</td>\n",
       "    </tr>\n",
       "    <tr>\n",
       "      <th>7</th>\n",
       "      <td>2020</td>\n",
       "      <td>13636.784</td>\n",
       "    </tr>\n",
       "    <tr>\n",
       "      <th>8</th>\n",
       "      <td>2021</td>\n",
       "      <td>15296.949</td>\n",
       "    </tr>\n",
       "  </tbody>\n",
       "</table>\n",
       "</div>"
      ],
      "text/plain": [
       "   Periodo      Total\n",
       "0     2013  13433.882\n",
       "1     2014  13789.608\n",
       "2     2015  15460.483\n",
       "3     2016  16536.454\n",
       "4     2017  16437.758\n",
       "5     2018  14491.144\n",
       "6     2019  14262.983\n",
       "7     2020  13636.784\n",
       "8     2021  15296.949"
      ]
     },
     "execution_count": 286,
     "metadata": {},
     "output_type": "execute_result"
    }
   ],
   "source": [
    "# Total delitos por año\n",
    "\n",
    "delitos_tipo_py = delit_type.groupby(\"Periodo\")[\"Total\"].sum().reset_index()\n",
    "delitos_tipo_py"
   ]
  },
  {
   "cell_type": "code",
   "execution_count": 287,
   "metadata": {},
   "outputs": [],
   "source": [
    "# Gráfica en Seaborn anterior al cambio\n",
    "\n",
    "# sns.set_theme(style=\"ticks\")\n",
    "# fig, ax = plt.subplots(figsize=(10,6))\n",
    "# sns.barplot(x=\"Periodo\", y=\"Total\", data=delitos_tipo_py, ax=ax) #, palette=[\"#5594B0\",\"#388AAF\"]\n",
    "# sns.lineplot(data=delitos_tipo_py[\"Total\"], ax=ax, label=\"Total\", color=\"orange\", linestyle=\"dashed\")\n",
    "# ax.set_title(\"Delitos totales por año\")\n",
    "# for index, row in delitos_tipo_py.iterrows():\n",
    "#     ax.text(index, row['Total'], int(row['Total']), ha='center')\n",
    "\n",
    "# plt.show()"
   ]
  },
  {
   "cell_type": "code",
   "execution_count": 318,
   "metadata": {},
   "outputs": [
    {
     "data": {
      "application/vnd.plotly.v1+json": {
       "config": {
        "plotlyServerURL": "https://plot.ly"
       },
       "data": [
        {
         "marker": {
          "color": "#5594B0"
         },
         "name": "Total",
         "type": "bar",
         "x": [
          2013,
          2014,
          2015,
          2016,
          2017,
          2018,
          2019,
          2020,
          2021
         ],
         "y": [
          13433.882,
          13789.608,
          15460.483,
          16536.454,
          16437.758,
          14491.144,
          14262.983,
          13636.784,
          15296.949
         ]
        },
        {
         "line": {
          "color": "orange",
          "dash": "dash"
         },
         "mode": "lines",
         "name": "Total",
         "type": "scatter",
         "x": [
          2013,
          2014,
          2015,
          2016,
          2017,
          2018,
          2019,
          2020,
          2021
         ],
         "y": [
          13433.882,
          13789.608,
          15460.483,
          16536.454,
          16437.758,
          14491.144,
          14262.983,
          13636.784,
          15296.949
         ]
        }
       ],
       "layout": {
        "annotations": [
         {
          "font": {
           "size": 14
          },
          "showarrow": false,
          "text": "13433",
          "x": 2013,
          "y": 13433.882
         },
         {
          "font": {
           "size": 14
          },
          "showarrow": false,
          "text": "13789",
          "x": 2014,
          "y": 13789.608
         },
         {
          "font": {
           "size": 14
          },
          "showarrow": false,
          "text": "15460",
          "x": 2015,
          "y": 15460.483
         },
         {
          "font": {
           "size": 14
          },
          "showarrow": false,
          "text": "16536",
          "x": 2016,
          "y": 16536.454
         },
         {
          "font": {
           "size": 14
          },
          "showarrow": false,
          "text": "16437",
          "x": 2017,
          "y": 16437.758
         },
         {
          "font": {
           "size": 14
          },
          "showarrow": false,
          "text": "14491",
          "x": 2018,
          "y": 14491.144
         },
         {
          "font": {
           "size": 14
          },
          "showarrow": false,
          "text": "14262",
          "x": 2019,
          "y": 14262.983
         },
         {
          "font": {
           "size": 14
          },
          "showarrow": false,
          "text": "13636",
          "x": 2020,
          "y": 13636.784
         },
         {
          "font": {
           "size": 14
          },
          "showarrow": false,
          "text": "15296",
          "x": 2021,
          "y": 15296.949
         }
        ],
        "height": 600,
        "showlegend": false,
        "template": {
         "data": {
          "bar": [
           {
            "error_x": {
             "color": "#f2f5fa"
            },
            "error_y": {
             "color": "#f2f5fa"
            },
            "marker": {
             "line": {
              "color": "rgb(17,17,17)",
              "width": 0.5
             },
             "pattern": {
              "fillmode": "overlay",
              "size": 10,
              "solidity": 0.2
             }
            },
            "type": "bar"
           }
          ],
          "barpolar": [
           {
            "marker": {
             "line": {
              "color": "rgb(17,17,17)",
              "width": 0.5
             },
             "pattern": {
              "fillmode": "overlay",
              "size": 10,
              "solidity": 0.2
             }
            },
            "type": "barpolar"
           }
          ],
          "carpet": [
           {
            "aaxis": {
             "endlinecolor": "#A2B1C6",
             "gridcolor": "#506784",
             "linecolor": "#506784",
             "minorgridcolor": "#506784",
             "startlinecolor": "#A2B1C6"
            },
            "baxis": {
             "endlinecolor": "#A2B1C6",
             "gridcolor": "#506784",
             "linecolor": "#506784",
             "minorgridcolor": "#506784",
             "startlinecolor": "#A2B1C6"
            },
            "type": "carpet"
           }
          ],
          "choropleth": [
           {
            "colorbar": {
             "outlinewidth": 0,
             "ticks": ""
            },
            "type": "choropleth"
           }
          ],
          "contour": [
           {
            "colorbar": {
             "outlinewidth": 0,
             "ticks": ""
            },
            "colorscale": [
             [
              0,
              "#0d0887"
             ],
             [
              0.1111111111111111,
              "#46039f"
             ],
             [
              0.2222222222222222,
              "#7201a8"
             ],
             [
              0.3333333333333333,
              "#9c179e"
             ],
             [
              0.4444444444444444,
              "#bd3786"
             ],
             [
              0.5555555555555556,
              "#d8576b"
             ],
             [
              0.6666666666666666,
              "#ed7953"
             ],
             [
              0.7777777777777778,
              "#fb9f3a"
             ],
             [
              0.8888888888888888,
              "#fdca26"
             ],
             [
              1,
              "#f0f921"
             ]
            ],
            "type": "contour"
           }
          ],
          "contourcarpet": [
           {
            "colorbar": {
             "outlinewidth": 0,
             "ticks": ""
            },
            "type": "contourcarpet"
           }
          ],
          "heatmap": [
           {
            "colorbar": {
             "outlinewidth": 0,
             "ticks": ""
            },
            "colorscale": [
             [
              0,
              "#0d0887"
             ],
             [
              0.1111111111111111,
              "#46039f"
             ],
             [
              0.2222222222222222,
              "#7201a8"
             ],
             [
              0.3333333333333333,
              "#9c179e"
             ],
             [
              0.4444444444444444,
              "#bd3786"
             ],
             [
              0.5555555555555556,
              "#d8576b"
             ],
             [
              0.6666666666666666,
              "#ed7953"
             ],
             [
              0.7777777777777778,
              "#fb9f3a"
             ],
             [
              0.8888888888888888,
              "#fdca26"
             ],
             [
              1,
              "#f0f921"
             ]
            ],
            "type": "heatmap"
           }
          ],
          "heatmapgl": [
           {
            "colorbar": {
             "outlinewidth": 0,
             "ticks": ""
            },
            "colorscale": [
             [
              0,
              "#0d0887"
             ],
             [
              0.1111111111111111,
              "#46039f"
             ],
             [
              0.2222222222222222,
              "#7201a8"
             ],
             [
              0.3333333333333333,
              "#9c179e"
             ],
             [
              0.4444444444444444,
              "#bd3786"
             ],
             [
              0.5555555555555556,
              "#d8576b"
             ],
             [
              0.6666666666666666,
              "#ed7953"
             ],
             [
              0.7777777777777778,
              "#fb9f3a"
             ],
             [
              0.8888888888888888,
              "#fdca26"
             ],
             [
              1,
              "#f0f921"
             ]
            ],
            "type": "heatmapgl"
           }
          ],
          "histogram": [
           {
            "marker": {
             "pattern": {
              "fillmode": "overlay",
              "size": 10,
              "solidity": 0.2
             }
            },
            "type": "histogram"
           }
          ],
          "histogram2d": [
           {
            "colorbar": {
             "outlinewidth": 0,
             "ticks": ""
            },
            "colorscale": [
             [
              0,
              "#0d0887"
             ],
             [
              0.1111111111111111,
              "#46039f"
             ],
             [
              0.2222222222222222,
              "#7201a8"
             ],
             [
              0.3333333333333333,
              "#9c179e"
             ],
             [
              0.4444444444444444,
              "#bd3786"
             ],
             [
              0.5555555555555556,
              "#d8576b"
             ],
             [
              0.6666666666666666,
              "#ed7953"
             ],
             [
              0.7777777777777778,
              "#fb9f3a"
             ],
             [
              0.8888888888888888,
              "#fdca26"
             ],
             [
              1,
              "#f0f921"
             ]
            ],
            "type": "histogram2d"
           }
          ],
          "histogram2dcontour": [
           {
            "colorbar": {
             "outlinewidth": 0,
             "ticks": ""
            },
            "colorscale": [
             [
              0,
              "#0d0887"
             ],
             [
              0.1111111111111111,
              "#46039f"
             ],
             [
              0.2222222222222222,
              "#7201a8"
             ],
             [
              0.3333333333333333,
              "#9c179e"
             ],
             [
              0.4444444444444444,
              "#bd3786"
             ],
             [
              0.5555555555555556,
              "#d8576b"
             ],
             [
              0.6666666666666666,
              "#ed7953"
             ],
             [
              0.7777777777777778,
              "#fb9f3a"
             ],
             [
              0.8888888888888888,
              "#fdca26"
             ],
             [
              1,
              "#f0f921"
             ]
            ],
            "type": "histogram2dcontour"
           }
          ],
          "mesh3d": [
           {
            "colorbar": {
             "outlinewidth": 0,
             "ticks": ""
            },
            "type": "mesh3d"
           }
          ],
          "parcoords": [
           {
            "line": {
             "colorbar": {
              "outlinewidth": 0,
              "ticks": ""
             }
            },
            "type": "parcoords"
           }
          ],
          "pie": [
           {
            "automargin": true,
            "type": "pie"
           }
          ],
          "scatter": [
           {
            "marker": {
             "line": {
              "color": "#283442"
             }
            },
            "type": "scatter"
           }
          ],
          "scatter3d": [
           {
            "line": {
             "colorbar": {
              "outlinewidth": 0,
              "ticks": ""
             }
            },
            "marker": {
             "colorbar": {
              "outlinewidth": 0,
              "ticks": ""
             }
            },
            "type": "scatter3d"
           }
          ],
          "scattercarpet": [
           {
            "marker": {
             "colorbar": {
              "outlinewidth": 0,
              "ticks": ""
             }
            },
            "type": "scattercarpet"
           }
          ],
          "scattergeo": [
           {
            "marker": {
             "colorbar": {
              "outlinewidth": 0,
              "ticks": ""
             }
            },
            "type": "scattergeo"
           }
          ],
          "scattergl": [
           {
            "marker": {
             "line": {
              "color": "#283442"
             }
            },
            "type": "scattergl"
           }
          ],
          "scattermapbox": [
           {
            "marker": {
             "colorbar": {
              "outlinewidth": 0,
              "ticks": ""
             }
            },
            "type": "scattermapbox"
           }
          ],
          "scatterpolar": [
           {
            "marker": {
             "colorbar": {
              "outlinewidth": 0,
              "ticks": ""
             }
            },
            "type": "scatterpolar"
           }
          ],
          "scatterpolargl": [
           {
            "marker": {
             "colorbar": {
              "outlinewidth": 0,
              "ticks": ""
             }
            },
            "type": "scatterpolargl"
           }
          ],
          "scatterternary": [
           {
            "marker": {
             "colorbar": {
              "outlinewidth": 0,
              "ticks": ""
             }
            },
            "type": "scatterternary"
           }
          ],
          "surface": [
           {
            "colorbar": {
             "outlinewidth": 0,
             "ticks": ""
            },
            "colorscale": [
             [
              0,
              "#0d0887"
             ],
             [
              0.1111111111111111,
              "#46039f"
             ],
             [
              0.2222222222222222,
              "#7201a8"
             ],
             [
              0.3333333333333333,
              "#9c179e"
             ],
             [
              0.4444444444444444,
              "#bd3786"
             ],
             [
              0.5555555555555556,
              "#d8576b"
             ],
             [
              0.6666666666666666,
              "#ed7953"
             ],
             [
              0.7777777777777778,
              "#fb9f3a"
             ],
             [
              0.8888888888888888,
              "#fdca26"
             ],
             [
              1,
              "#f0f921"
             ]
            ],
            "type": "surface"
           }
          ],
          "table": [
           {
            "cells": {
             "fill": {
              "color": "#506784"
             },
             "line": {
              "color": "rgb(17,17,17)"
             }
            },
            "header": {
             "fill": {
              "color": "#2a3f5f"
             },
             "line": {
              "color": "rgb(17,17,17)"
             }
            },
            "type": "table"
           }
          ]
         },
         "layout": {
          "annotationdefaults": {
           "arrowcolor": "#f2f5fa",
           "arrowhead": 0,
           "arrowwidth": 1
          },
          "autotypenumbers": "strict",
          "coloraxis": {
           "colorbar": {
            "outlinewidth": 0,
            "ticks": ""
           }
          },
          "colorscale": {
           "diverging": [
            [
             0,
             "#8e0152"
            ],
            [
             0.1,
             "#c51b7d"
            ],
            [
             0.2,
             "#de77ae"
            ],
            [
             0.3,
             "#f1b6da"
            ],
            [
             0.4,
             "#fde0ef"
            ],
            [
             0.5,
             "#f7f7f7"
            ],
            [
             0.6,
             "#e6f5d0"
            ],
            [
             0.7,
             "#b8e186"
            ],
            [
             0.8,
             "#7fbc41"
            ],
            [
             0.9,
             "#4d9221"
            ],
            [
             1,
             "#276419"
            ]
           ],
           "sequential": [
            [
             0,
             "#0d0887"
            ],
            [
             0.1111111111111111,
             "#46039f"
            ],
            [
             0.2222222222222222,
             "#7201a8"
            ],
            [
             0.3333333333333333,
             "#9c179e"
            ],
            [
             0.4444444444444444,
             "#bd3786"
            ],
            [
             0.5555555555555556,
             "#d8576b"
            ],
            [
             0.6666666666666666,
             "#ed7953"
            ],
            [
             0.7777777777777778,
             "#fb9f3a"
            ],
            [
             0.8888888888888888,
             "#fdca26"
            ],
            [
             1,
             "#f0f921"
            ]
           ],
           "sequentialminus": [
            [
             0,
             "#0d0887"
            ],
            [
             0.1111111111111111,
             "#46039f"
            ],
            [
             0.2222222222222222,
             "#7201a8"
            ],
            [
             0.3333333333333333,
             "#9c179e"
            ],
            [
             0.4444444444444444,
             "#bd3786"
            ],
            [
             0.5555555555555556,
             "#d8576b"
            ],
            [
             0.6666666666666666,
             "#ed7953"
            ],
            [
             0.7777777777777778,
             "#fb9f3a"
            ],
            [
             0.8888888888888888,
             "#fdca26"
            ],
            [
             1,
             "#f0f921"
            ]
           ]
          },
          "colorway": [
           "#636efa",
           "#EF553B",
           "#00cc96",
           "#ab63fa",
           "#FFA15A",
           "#19d3f3",
           "#FF6692",
           "#B6E880",
           "#FF97FF",
           "#FECB52"
          ],
          "font": {
           "color": "#f2f5fa"
          },
          "geo": {
           "bgcolor": "rgb(17,17,17)",
           "lakecolor": "rgb(17,17,17)",
           "landcolor": "rgb(17,17,17)",
           "showlakes": true,
           "showland": true,
           "subunitcolor": "#506784"
          },
          "hoverlabel": {
           "align": "left"
          },
          "hovermode": "closest",
          "mapbox": {
           "style": "dark"
          },
          "paper_bgcolor": "rgb(17,17,17)",
          "plot_bgcolor": "rgb(17,17,17)",
          "polar": {
           "angularaxis": {
            "gridcolor": "#506784",
            "linecolor": "#506784",
            "ticks": ""
           },
           "bgcolor": "rgb(17,17,17)",
           "radialaxis": {
            "gridcolor": "#506784",
            "linecolor": "#506784",
            "ticks": ""
           }
          },
          "scene": {
           "xaxis": {
            "backgroundcolor": "rgb(17,17,17)",
            "gridcolor": "#506784",
            "gridwidth": 2,
            "linecolor": "#506784",
            "showbackground": true,
            "ticks": "",
            "zerolinecolor": "#C8D4E3"
           },
           "yaxis": {
            "backgroundcolor": "rgb(17,17,17)",
            "gridcolor": "#506784",
            "gridwidth": 2,
            "linecolor": "#506784",
            "showbackground": true,
            "ticks": "",
            "zerolinecolor": "#C8D4E3"
           },
           "zaxis": {
            "backgroundcolor": "rgb(17,17,17)",
            "gridcolor": "#506784",
            "gridwidth": 2,
            "linecolor": "#506784",
            "showbackground": true,
            "ticks": "",
            "zerolinecolor": "#C8D4E3"
           }
          },
          "shapedefaults": {
           "line": {
            "color": "#f2f5fa"
           }
          },
          "sliderdefaults": {
           "bgcolor": "#C8D4E3",
           "bordercolor": "rgb(17,17,17)",
           "borderwidth": 1,
           "tickwidth": 0
          },
          "ternary": {
           "aaxis": {
            "gridcolor": "#506784",
            "linecolor": "#506784",
            "ticks": ""
           },
           "baxis": {
            "gridcolor": "#506784",
            "linecolor": "#506784",
            "ticks": ""
           },
           "bgcolor": "rgb(17,17,17)",
           "caxis": {
            "gridcolor": "#506784",
            "linecolor": "#506784",
            "ticks": ""
           }
          },
          "title": {
           "x": 0.05
          },
          "updatemenudefaults": {
           "bgcolor": "#506784",
           "borderwidth": 0
          },
          "xaxis": {
           "automargin": true,
           "gridcolor": "#283442",
           "linecolor": "#506784",
           "ticks": "",
           "title": {
            "standoff": 15
           },
           "zerolinecolor": "#283442",
           "zerolinewidth": 2
          },
          "yaxis": {
           "automargin": true,
           "gridcolor": "#283442",
           "linecolor": "#506784",
           "ticks": "",
           "title": {
            "standoff": 15
           },
           "zerolinecolor": "#283442",
           "zerolinewidth": 2
          }
         }
        },
        "title": {
         "text": "Delitos totales por año"
        },
        "width": 800,
        "xaxis": {
         "title": {
          "text": "Periodo"
         }
        },
        "yaxis": {
         "title": {
          "text": "Total"
         }
        }
       }
      }
     },
     "metadata": {},
     "output_type": "display_data"
    }
   ],
   "source": [
    "# Crear la gráfica\n",
    "fig = go.Figure()\n",
    "fig.add_trace(go.Bar(x=delitos_tipo_py[\"Periodo\"], y=delitos_tipo_py[\"Total\"], name=\"Total\", marker_color=\"#5594B0\"))\n",
    "fig.add_trace(go.Scatter(x=delitos_tipo_py[\"Periodo\"], y=delitos_tipo_py[\"Total\"], name=\"Total\", mode=\"lines\", line=dict(color=\"orange\", dash=\"dash\")))\n",
    "\n",
    "# Personalizar el diseño de la gráfica\n",
    "fig.update_layout(title=\"Delitos totales por año\", xaxis_title=\"Periodo\", yaxis_title=\"Total\", showlegend=False, template=\"plotly_dark\", width=800, height=600)\n",
    "for i, row in delitos_tipo_py.iterrows():\n",
    "    fig.add_annotation(x=row[\"Periodo\"], y=row[\"Total\"], text=str(int(row[\"Total\"])), showarrow=False, font=dict(size=14))\n",
    "\n",
    "# Mostrar la gráfica\n",
    "fig.show()"
   ]
  },
  {
   "cell_type": "code",
   "execution_count": 289,
   "metadata": {},
   "outputs": [
    {
     "data": {
      "text/html": [
       "<div>\n",
       "<style scoped>\n",
       "    .dataframe tbody tr th:only-of-type {\n",
       "        vertical-align: middle;\n",
       "    }\n",
       "\n",
       "    .dataframe tbody tr th {\n",
       "        vertical-align: top;\n",
       "    }\n",
       "\n",
       "    .dataframe thead th {\n",
       "        text-align: right;\n",
       "    }\n",
       "</style>\n",
       "<table border=\"1\" class=\"dataframe\">\n",
       "  <thead>\n",
       "    <tr style=\"text-align: right;\">\n",
       "      <th></th>\n",
       "      <th>Periodo</th>\n",
       "      <th>Total</th>\n",
       "      <th>Incremento</th>\n",
       "      <th>Incremento%</th>\n",
       "    </tr>\n",
       "  </thead>\n",
       "  <tbody>\n",
       "    <tr>\n",
       "      <th>0</th>\n",
       "      <td>2013</td>\n",
       "      <td>13433.882</td>\n",
       "      <td>0.000</td>\n",
       "      <td>0.000000</td>\n",
       "    </tr>\n",
       "    <tr>\n",
       "      <th>1</th>\n",
       "      <td>2014</td>\n",
       "      <td>13789.608</td>\n",
       "      <td>355.726</td>\n",
       "      <td>2.647976</td>\n",
       "    </tr>\n",
       "    <tr>\n",
       "      <th>2</th>\n",
       "      <td>2015</td>\n",
       "      <td>15460.483</td>\n",
       "      <td>1670.875</td>\n",
       "      <td>12.116914</td>\n",
       "    </tr>\n",
       "    <tr>\n",
       "      <th>3</th>\n",
       "      <td>2016</td>\n",
       "      <td>16536.454</td>\n",
       "      <td>1075.971</td>\n",
       "      <td>6.959491</td>\n",
       "    </tr>\n",
       "    <tr>\n",
       "      <th>4</th>\n",
       "      <td>2017</td>\n",
       "      <td>16437.758</td>\n",
       "      <td>-98.696</td>\n",
       "      <td>-0.596839</td>\n",
       "    </tr>\n",
       "    <tr>\n",
       "      <th>5</th>\n",
       "      <td>2018</td>\n",
       "      <td>14491.144</td>\n",
       "      <td>-1946.614</td>\n",
       "      <td>-11.842333</td>\n",
       "    </tr>\n",
       "    <tr>\n",
       "      <th>6</th>\n",
       "      <td>2019</td>\n",
       "      <td>14262.983</td>\n",
       "      <td>-228.161</td>\n",
       "      <td>-1.574486</td>\n",
       "    </tr>\n",
       "    <tr>\n",
       "      <th>7</th>\n",
       "      <td>2020</td>\n",
       "      <td>13636.784</td>\n",
       "      <td>-626.199</td>\n",
       "      <td>-4.390379</td>\n",
       "    </tr>\n",
       "    <tr>\n",
       "      <th>8</th>\n",
       "      <td>2021</td>\n",
       "      <td>15296.949</td>\n",
       "      <td>1660.165</td>\n",
       "      <td>12.174168</td>\n",
       "    </tr>\n",
       "  </tbody>\n",
       "</table>\n",
       "</div>"
      ],
      "text/plain": [
       "   Periodo      Total  Incremento  Incremento%\n",
       "0     2013  13433.882       0.000     0.000000\n",
       "1     2014  13789.608     355.726     2.647976\n",
       "2     2015  15460.483    1670.875    12.116914\n",
       "3     2016  16536.454    1075.971     6.959491\n",
       "4     2017  16437.758     -98.696    -0.596839\n",
       "5     2018  14491.144   -1946.614   -11.842333\n",
       "6     2019  14262.983    -228.161    -1.574486\n",
       "7     2020  13636.784    -626.199    -4.390379\n",
       "8     2021  15296.949    1660.165    12.174168"
      ]
     },
     "execution_count": 289,
     "metadata": {},
     "output_type": "execute_result"
    }
   ],
   "source": [
    "# Incremento anual delitos en términos absolutos\n",
    "\n",
    "delitos_tipo_py['Incremento'] = delitos_tipo_py['Total'] - delitos_tipo_py['Total'].shift(1)\n",
    "delitos_tipo_py['Incremento'] = delitos_tipo_py['Incremento'].fillna(0)\n",
    "\n",
    "# Incremento anual delitos en términos relativos\n",
    "delitos_tipo_py['Incremento%'] = (delitos_tipo_py['Total'] - delitos_tipo_py['Total'].shift(1)) / delitos_tipo_py['Total'].shift(1) * 100\n",
    "delitos_tipo_py['Incremento%'] = delitos_tipo_py['Incremento%'].fillna(0)\n",
    "\n",
    "delitos_tipo_py"
   ]
  },
  {
   "cell_type": "code",
   "execution_count": 314,
   "metadata": {},
   "outputs": [
    {
     "data": {
      "application/vnd.plotly.v1+json": {
       "config": {
        "plotlyServerURL": "https://plot.ly"
       },
       "data": [
        {
         "name": "Incremento",
         "type": "bar",
         "x": [
          2013,
          2014,
          2015,
          2016,
          2017,
          2018,
          2019,
          2020,
          2021
         ],
         "y": [
          0,
          355.72600000000057,
          1670.875,
          1075.9710000000014,
          -98.69599999999991,
          -1946.6140000000014,
          -228.16100000000006,
          -626.1990000000005,
          1660.1650000000009
         ]
        },
        {
         "line": {
          "color": "orange",
          "dash": "dash"
         },
         "name": "Total",
         "type": "scatter",
         "x": [
          2013,
          2014,
          2015,
          2016,
          2017,
          2018,
          2019,
          2020,
          2021
         ],
         "y": [
          0,
          355.72600000000057,
          1670.875,
          1075.9710000000014,
          -98.69599999999991,
          -1946.6140000000014,
          -228.16100000000006,
          -626.1990000000005,
          1660.1650000000009
         ]
        }
       ],
       "layout": {
        "annotations": [
         {
          "font": {
           "size": 14
          },
          "showarrow": false,
          "text": "0",
          "x": 2013,
          "y": 0
         },
         {
          "font": {
           "size": 14
          },
          "showarrow": false,
          "text": "355",
          "x": 2014,
          "y": 355.72600000000057
         },
         {
          "font": {
           "size": 14
          },
          "showarrow": false,
          "text": "1670",
          "x": 2015,
          "y": 1670.875
         },
         {
          "font": {
           "size": 14
          },
          "showarrow": false,
          "text": "1075",
          "x": 2016,
          "y": 1075.9710000000014
         },
         {
          "font": {
           "size": 14
          },
          "showarrow": false,
          "text": "-98",
          "x": 2017,
          "y": -98.69599999999991
         },
         {
          "font": {
           "size": 14
          },
          "showarrow": false,
          "text": "-1946",
          "x": 2018,
          "y": -1946.6140000000014
         },
         {
          "font": {
           "size": 14
          },
          "showarrow": false,
          "text": "-228",
          "x": 2019,
          "y": -228.16100000000006
         },
         {
          "font": {
           "size": 14
          },
          "showarrow": false,
          "text": "-626",
          "x": 2020,
          "y": -626.1990000000005
         },
         {
          "font": {
           "size": 14
          },
          "showarrow": false,
          "text": "1660",
          "x": 2021,
          "y": 1660.1650000000009
         }
        ],
        "height": 600,
        "template": {
         "data": {
          "bar": [
           {
            "error_x": {
             "color": "#f2f5fa"
            },
            "error_y": {
             "color": "#f2f5fa"
            },
            "marker": {
             "line": {
              "color": "rgb(17,17,17)",
              "width": 0.5
             },
             "pattern": {
              "fillmode": "overlay",
              "size": 10,
              "solidity": 0.2
             }
            },
            "type": "bar"
           }
          ],
          "barpolar": [
           {
            "marker": {
             "line": {
              "color": "rgb(17,17,17)",
              "width": 0.5
             },
             "pattern": {
              "fillmode": "overlay",
              "size": 10,
              "solidity": 0.2
             }
            },
            "type": "barpolar"
           }
          ],
          "carpet": [
           {
            "aaxis": {
             "endlinecolor": "#A2B1C6",
             "gridcolor": "#506784",
             "linecolor": "#506784",
             "minorgridcolor": "#506784",
             "startlinecolor": "#A2B1C6"
            },
            "baxis": {
             "endlinecolor": "#A2B1C6",
             "gridcolor": "#506784",
             "linecolor": "#506784",
             "minorgridcolor": "#506784",
             "startlinecolor": "#A2B1C6"
            },
            "type": "carpet"
           }
          ],
          "choropleth": [
           {
            "colorbar": {
             "outlinewidth": 0,
             "ticks": ""
            },
            "type": "choropleth"
           }
          ],
          "contour": [
           {
            "colorbar": {
             "outlinewidth": 0,
             "ticks": ""
            },
            "colorscale": [
             [
              0,
              "#0d0887"
             ],
             [
              0.1111111111111111,
              "#46039f"
             ],
             [
              0.2222222222222222,
              "#7201a8"
             ],
             [
              0.3333333333333333,
              "#9c179e"
             ],
             [
              0.4444444444444444,
              "#bd3786"
             ],
             [
              0.5555555555555556,
              "#d8576b"
             ],
             [
              0.6666666666666666,
              "#ed7953"
             ],
             [
              0.7777777777777778,
              "#fb9f3a"
             ],
             [
              0.8888888888888888,
              "#fdca26"
             ],
             [
              1,
              "#f0f921"
             ]
            ],
            "type": "contour"
           }
          ],
          "contourcarpet": [
           {
            "colorbar": {
             "outlinewidth": 0,
             "ticks": ""
            },
            "type": "contourcarpet"
           }
          ],
          "heatmap": [
           {
            "colorbar": {
             "outlinewidth": 0,
             "ticks": ""
            },
            "colorscale": [
             [
              0,
              "#0d0887"
             ],
             [
              0.1111111111111111,
              "#46039f"
             ],
             [
              0.2222222222222222,
              "#7201a8"
             ],
             [
              0.3333333333333333,
              "#9c179e"
             ],
             [
              0.4444444444444444,
              "#bd3786"
             ],
             [
              0.5555555555555556,
              "#d8576b"
             ],
             [
              0.6666666666666666,
              "#ed7953"
             ],
             [
              0.7777777777777778,
              "#fb9f3a"
             ],
             [
              0.8888888888888888,
              "#fdca26"
             ],
             [
              1,
              "#f0f921"
             ]
            ],
            "type": "heatmap"
           }
          ],
          "heatmapgl": [
           {
            "colorbar": {
             "outlinewidth": 0,
             "ticks": ""
            },
            "colorscale": [
             [
              0,
              "#0d0887"
             ],
             [
              0.1111111111111111,
              "#46039f"
             ],
             [
              0.2222222222222222,
              "#7201a8"
             ],
             [
              0.3333333333333333,
              "#9c179e"
             ],
             [
              0.4444444444444444,
              "#bd3786"
             ],
             [
              0.5555555555555556,
              "#d8576b"
             ],
             [
              0.6666666666666666,
              "#ed7953"
             ],
             [
              0.7777777777777778,
              "#fb9f3a"
             ],
             [
              0.8888888888888888,
              "#fdca26"
             ],
             [
              1,
              "#f0f921"
             ]
            ],
            "type": "heatmapgl"
           }
          ],
          "histogram": [
           {
            "marker": {
             "pattern": {
              "fillmode": "overlay",
              "size": 10,
              "solidity": 0.2
             }
            },
            "type": "histogram"
           }
          ],
          "histogram2d": [
           {
            "colorbar": {
             "outlinewidth": 0,
             "ticks": ""
            },
            "colorscale": [
             [
              0,
              "#0d0887"
             ],
             [
              0.1111111111111111,
              "#46039f"
             ],
             [
              0.2222222222222222,
              "#7201a8"
             ],
             [
              0.3333333333333333,
              "#9c179e"
             ],
             [
              0.4444444444444444,
              "#bd3786"
             ],
             [
              0.5555555555555556,
              "#d8576b"
             ],
             [
              0.6666666666666666,
              "#ed7953"
             ],
             [
              0.7777777777777778,
              "#fb9f3a"
             ],
             [
              0.8888888888888888,
              "#fdca26"
             ],
             [
              1,
              "#f0f921"
             ]
            ],
            "type": "histogram2d"
           }
          ],
          "histogram2dcontour": [
           {
            "colorbar": {
             "outlinewidth": 0,
             "ticks": ""
            },
            "colorscale": [
             [
              0,
              "#0d0887"
             ],
             [
              0.1111111111111111,
              "#46039f"
             ],
             [
              0.2222222222222222,
              "#7201a8"
             ],
             [
              0.3333333333333333,
              "#9c179e"
             ],
             [
              0.4444444444444444,
              "#bd3786"
             ],
             [
              0.5555555555555556,
              "#d8576b"
             ],
             [
              0.6666666666666666,
              "#ed7953"
             ],
             [
              0.7777777777777778,
              "#fb9f3a"
             ],
             [
              0.8888888888888888,
              "#fdca26"
             ],
             [
              1,
              "#f0f921"
             ]
            ],
            "type": "histogram2dcontour"
           }
          ],
          "mesh3d": [
           {
            "colorbar": {
             "outlinewidth": 0,
             "ticks": ""
            },
            "type": "mesh3d"
           }
          ],
          "parcoords": [
           {
            "line": {
             "colorbar": {
              "outlinewidth": 0,
              "ticks": ""
             }
            },
            "type": "parcoords"
           }
          ],
          "pie": [
           {
            "automargin": true,
            "type": "pie"
           }
          ],
          "scatter": [
           {
            "marker": {
             "line": {
              "color": "#283442"
             }
            },
            "type": "scatter"
           }
          ],
          "scatter3d": [
           {
            "line": {
             "colorbar": {
              "outlinewidth": 0,
              "ticks": ""
             }
            },
            "marker": {
             "colorbar": {
              "outlinewidth": 0,
              "ticks": ""
             }
            },
            "type": "scatter3d"
           }
          ],
          "scattercarpet": [
           {
            "marker": {
             "colorbar": {
              "outlinewidth": 0,
              "ticks": ""
             }
            },
            "type": "scattercarpet"
           }
          ],
          "scattergeo": [
           {
            "marker": {
             "colorbar": {
              "outlinewidth": 0,
              "ticks": ""
             }
            },
            "type": "scattergeo"
           }
          ],
          "scattergl": [
           {
            "marker": {
             "line": {
              "color": "#283442"
             }
            },
            "type": "scattergl"
           }
          ],
          "scattermapbox": [
           {
            "marker": {
             "colorbar": {
              "outlinewidth": 0,
              "ticks": ""
             }
            },
            "type": "scattermapbox"
           }
          ],
          "scatterpolar": [
           {
            "marker": {
             "colorbar": {
              "outlinewidth": 0,
              "ticks": ""
             }
            },
            "type": "scatterpolar"
           }
          ],
          "scatterpolargl": [
           {
            "marker": {
             "colorbar": {
              "outlinewidth": 0,
              "ticks": ""
             }
            },
            "type": "scatterpolargl"
           }
          ],
          "scatterternary": [
           {
            "marker": {
             "colorbar": {
              "outlinewidth": 0,
              "ticks": ""
             }
            },
            "type": "scatterternary"
           }
          ],
          "surface": [
           {
            "colorbar": {
             "outlinewidth": 0,
             "ticks": ""
            },
            "colorscale": [
             [
              0,
              "#0d0887"
             ],
             [
              0.1111111111111111,
              "#46039f"
             ],
             [
              0.2222222222222222,
              "#7201a8"
             ],
             [
              0.3333333333333333,
              "#9c179e"
             ],
             [
              0.4444444444444444,
              "#bd3786"
             ],
             [
              0.5555555555555556,
              "#d8576b"
             ],
             [
              0.6666666666666666,
              "#ed7953"
             ],
             [
              0.7777777777777778,
              "#fb9f3a"
             ],
             [
              0.8888888888888888,
              "#fdca26"
             ],
             [
              1,
              "#f0f921"
             ]
            ],
            "type": "surface"
           }
          ],
          "table": [
           {
            "cells": {
             "fill": {
              "color": "#506784"
             },
             "line": {
              "color": "rgb(17,17,17)"
             }
            },
            "header": {
             "fill": {
              "color": "#2a3f5f"
             },
             "line": {
              "color": "rgb(17,17,17)"
             }
            },
            "type": "table"
           }
          ]
         },
         "layout": {
          "annotationdefaults": {
           "arrowcolor": "#f2f5fa",
           "arrowhead": 0,
           "arrowwidth": 1
          },
          "autotypenumbers": "strict",
          "coloraxis": {
           "colorbar": {
            "outlinewidth": 0,
            "ticks": ""
           }
          },
          "colorscale": {
           "diverging": [
            [
             0,
             "#8e0152"
            ],
            [
             0.1,
             "#c51b7d"
            ],
            [
             0.2,
             "#de77ae"
            ],
            [
             0.3,
             "#f1b6da"
            ],
            [
             0.4,
             "#fde0ef"
            ],
            [
             0.5,
             "#f7f7f7"
            ],
            [
             0.6,
             "#e6f5d0"
            ],
            [
             0.7,
             "#b8e186"
            ],
            [
             0.8,
             "#7fbc41"
            ],
            [
             0.9,
             "#4d9221"
            ],
            [
             1,
             "#276419"
            ]
           ],
           "sequential": [
            [
             0,
             "#0d0887"
            ],
            [
             0.1111111111111111,
             "#46039f"
            ],
            [
             0.2222222222222222,
             "#7201a8"
            ],
            [
             0.3333333333333333,
             "#9c179e"
            ],
            [
             0.4444444444444444,
             "#bd3786"
            ],
            [
             0.5555555555555556,
             "#d8576b"
            ],
            [
             0.6666666666666666,
             "#ed7953"
            ],
            [
             0.7777777777777778,
             "#fb9f3a"
            ],
            [
             0.8888888888888888,
             "#fdca26"
            ],
            [
             1,
             "#f0f921"
            ]
           ],
           "sequentialminus": [
            [
             0,
             "#0d0887"
            ],
            [
             0.1111111111111111,
             "#46039f"
            ],
            [
             0.2222222222222222,
             "#7201a8"
            ],
            [
             0.3333333333333333,
             "#9c179e"
            ],
            [
             0.4444444444444444,
             "#bd3786"
            ],
            [
             0.5555555555555556,
             "#d8576b"
            ],
            [
             0.6666666666666666,
             "#ed7953"
            ],
            [
             0.7777777777777778,
             "#fb9f3a"
            ],
            [
             0.8888888888888888,
             "#fdca26"
            ],
            [
             1,
             "#f0f921"
            ]
           ]
          },
          "colorway": [
           "#636efa",
           "#EF553B",
           "#00cc96",
           "#ab63fa",
           "#FFA15A",
           "#19d3f3",
           "#FF6692",
           "#B6E880",
           "#FF97FF",
           "#FECB52"
          ],
          "font": {
           "color": "#f2f5fa"
          },
          "geo": {
           "bgcolor": "rgb(17,17,17)",
           "lakecolor": "rgb(17,17,17)",
           "landcolor": "rgb(17,17,17)",
           "showlakes": true,
           "showland": true,
           "subunitcolor": "#506784"
          },
          "hoverlabel": {
           "align": "left"
          },
          "hovermode": "closest",
          "mapbox": {
           "style": "dark"
          },
          "paper_bgcolor": "rgb(17,17,17)",
          "plot_bgcolor": "rgb(17,17,17)",
          "polar": {
           "angularaxis": {
            "gridcolor": "#506784",
            "linecolor": "#506784",
            "ticks": ""
           },
           "bgcolor": "rgb(17,17,17)",
           "radialaxis": {
            "gridcolor": "#506784",
            "linecolor": "#506784",
            "ticks": ""
           }
          },
          "scene": {
           "xaxis": {
            "backgroundcolor": "rgb(17,17,17)",
            "gridcolor": "#506784",
            "gridwidth": 2,
            "linecolor": "#506784",
            "showbackground": true,
            "ticks": "",
            "zerolinecolor": "#C8D4E3"
           },
           "yaxis": {
            "backgroundcolor": "rgb(17,17,17)",
            "gridcolor": "#506784",
            "gridwidth": 2,
            "linecolor": "#506784",
            "showbackground": true,
            "ticks": "",
            "zerolinecolor": "#C8D4E3"
           },
           "zaxis": {
            "backgroundcolor": "rgb(17,17,17)",
            "gridcolor": "#506784",
            "gridwidth": 2,
            "linecolor": "#506784",
            "showbackground": true,
            "ticks": "",
            "zerolinecolor": "#C8D4E3"
           }
          },
          "shapedefaults": {
           "line": {
            "color": "#f2f5fa"
           }
          },
          "sliderdefaults": {
           "bgcolor": "#C8D4E3",
           "bordercolor": "rgb(17,17,17)",
           "borderwidth": 1,
           "tickwidth": 0
          },
          "ternary": {
           "aaxis": {
            "gridcolor": "#506784",
            "linecolor": "#506784",
            "ticks": ""
           },
           "baxis": {
            "gridcolor": "#506784",
            "linecolor": "#506784",
            "ticks": ""
           },
           "bgcolor": "rgb(17,17,17)",
           "caxis": {
            "gridcolor": "#506784",
            "linecolor": "#506784",
            "ticks": ""
           }
          },
          "title": {
           "x": 0.05
          },
          "updatemenudefaults": {
           "bgcolor": "#506784",
           "borderwidth": 0
          },
          "xaxis": {
           "automargin": true,
           "gridcolor": "#283442",
           "linecolor": "#506784",
           "ticks": "",
           "title": {
            "standoff": 15
           },
           "zerolinecolor": "#283442",
           "zerolinewidth": 2
          },
          "yaxis": {
           "automargin": true,
           "gridcolor": "#283442",
           "linecolor": "#506784",
           "ticks": "",
           "title": {
            "standoff": 15
           },
           "zerolinecolor": "#283442",
           "zerolinewidth": 2
          }
         }
        },
        "title": {
         "text": "Incremento absoluto anual"
        },
        "width": 800,
        "xaxis": {
         "title": {
          "text": "Periodo"
         }
        },
        "yaxis": {
         "title": {
          "text": "Incremento"
         }
        }
       }
      }
     },
     "metadata": {},
     "output_type": "display_data"
    },
    {
     "data": {
      "application/vnd.plotly.v1+json": {
       "config": {
        "plotlyServerURL": "https://plot.ly"
       },
       "data": [
        {
         "name": "Incremento%",
         "type": "bar",
         "x": [
          2013,
          2014,
          2015,
          2016,
          2017,
          2018,
          2019,
          2020,
          2021
         ],
         "y": [
          0,
          2.6479762141724974,
          12.116914418451923,
          6.959491498422148,
          -0.5968389595496102,
          -11.842332756085113,
          -1.5744857686874139,
          -4.390378927044928,
          12.174168044313094
         ]
        },
        {
         "line": {
          "color": "orange",
          "dash": "dash"
         },
         "name": "Total",
         "type": "scatter",
         "x": [
          2013,
          2014,
          2015,
          2016,
          2017,
          2018,
          2019,
          2020,
          2021
         ],
         "y": [
          0,
          2.6479762141724974,
          12.116914418451923,
          6.959491498422148,
          -0.5968389595496102,
          -11.842332756085113,
          -1.5744857686874139,
          -4.390378927044928,
          12.174168044313094
         ]
        }
       ],
       "layout": {
        "annotations": [
         {
          "font": {
           "size": 14
          },
          "showarrow": false,
          "text": "0.00%",
          "x": 2013,
          "y": 0
         },
         {
          "font": {
           "size": 14
          },
          "showarrow": false,
          "text": "2.65%",
          "x": 2014,
          "y": 2.6479762141724974
         },
         {
          "font": {
           "size": 14
          },
          "showarrow": false,
          "text": "12.12%",
          "x": 2015,
          "y": 12.116914418451923
         },
         {
          "font": {
           "size": 14
          },
          "showarrow": false,
          "text": "6.96%",
          "x": 2016,
          "y": 6.959491498422148
         },
         {
          "font": {
           "size": 14
          },
          "showarrow": false,
          "text": "-0.60%",
          "x": 2017,
          "y": -0.5968389595496102
         },
         {
          "font": {
           "size": 14
          },
          "showarrow": false,
          "text": "-11.84%",
          "x": 2018,
          "y": -11.842332756085113
         },
         {
          "font": {
           "size": 14
          },
          "showarrow": false,
          "text": "-1.57%",
          "x": 2019,
          "y": -1.5744857686874139
         },
         {
          "font": {
           "size": 14
          },
          "showarrow": false,
          "text": "-4.39%",
          "x": 2020,
          "y": -4.390378927044928
         },
         {
          "font": {
           "size": 14
          },
          "showarrow": false,
          "text": "12.17%",
          "x": 2021,
          "y": 12.174168044313094
         }
        ],
        "height": 600,
        "template": {
         "data": {
          "bar": [
           {
            "error_x": {
             "color": "#f2f5fa"
            },
            "error_y": {
             "color": "#f2f5fa"
            },
            "marker": {
             "line": {
              "color": "rgb(17,17,17)",
              "width": 0.5
             },
             "pattern": {
              "fillmode": "overlay",
              "size": 10,
              "solidity": 0.2
             }
            },
            "type": "bar"
           }
          ],
          "barpolar": [
           {
            "marker": {
             "line": {
              "color": "rgb(17,17,17)",
              "width": 0.5
             },
             "pattern": {
              "fillmode": "overlay",
              "size": 10,
              "solidity": 0.2
             }
            },
            "type": "barpolar"
           }
          ],
          "carpet": [
           {
            "aaxis": {
             "endlinecolor": "#A2B1C6",
             "gridcolor": "#506784",
             "linecolor": "#506784",
             "minorgridcolor": "#506784",
             "startlinecolor": "#A2B1C6"
            },
            "baxis": {
             "endlinecolor": "#A2B1C6",
             "gridcolor": "#506784",
             "linecolor": "#506784",
             "minorgridcolor": "#506784",
             "startlinecolor": "#A2B1C6"
            },
            "type": "carpet"
           }
          ],
          "choropleth": [
           {
            "colorbar": {
             "outlinewidth": 0,
             "ticks": ""
            },
            "type": "choropleth"
           }
          ],
          "contour": [
           {
            "colorbar": {
             "outlinewidth": 0,
             "ticks": ""
            },
            "colorscale": [
             [
              0,
              "#0d0887"
             ],
             [
              0.1111111111111111,
              "#46039f"
             ],
             [
              0.2222222222222222,
              "#7201a8"
             ],
             [
              0.3333333333333333,
              "#9c179e"
             ],
             [
              0.4444444444444444,
              "#bd3786"
             ],
             [
              0.5555555555555556,
              "#d8576b"
             ],
             [
              0.6666666666666666,
              "#ed7953"
             ],
             [
              0.7777777777777778,
              "#fb9f3a"
             ],
             [
              0.8888888888888888,
              "#fdca26"
             ],
             [
              1,
              "#f0f921"
             ]
            ],
            "type": "contour"
           }
          ],
          "contourcarpet": [
           {
            "colorbar": {
             "outlinewidth": 0,
             "ticks": ""
            },
            "type": "contourcarpet"
           }
          ],
          "heatmap": [
           {
            "colorbar": {
             "outlinewidth": 0,
             "ticks": ""
            },
            "colorscale": [
             [
              0,
              "#0d0887"
             ],
             [
              0.1111111111111111,
              "#46039f"
             ],
             [
              0.2222222222222222,
              "#7201a8"
             ],
             [
              0.3333333333333333,
              "#9c179e"
             ],
             [
              0.4444444444444444,
              "#bd3786"
             ],
             [
              0.5555555555555556,
              "#d8576b"
             ],
             [
              0.6666666666666666,
              "#ed7953"
             ],
             [
              0.7777777777777778,
              "#fb9f3a"
             ],
             [
              0.8888888888888888,
              "#fdca26"
             ],
             [
              1,
              "#f0f921"
             ]
            ],
            "type": "heatmap"
           }
          ],
          "heatmapgl": [
           {
            "colorbar": {
             "outlinewidth": 0,
             "ticks": ""
            },
            "colorscale": [
             [
              0,
              "#0d0887"
             ],
             [
              0.1111111111111111,
              "#46039f"
             ],
             [
              0.2222222222222222,
              "#7201a8"
             ],
             [
              0.3333333333333333,
              "#9c179e"
             ],
             [
              0.4444444444444444,
              "#bd3786"
             ],
             [
              0.5555555555555556,
              "#d8576b"
             ],
             [
              0.6666666666666666,
              "#ed7953"
             ],
             [
              0.7777777777777778,
              "#fb9f3a"
             ],
             [
              0.8888888888888888,
              "#fdca26"
             ],
             [
              1,
              "#f0f921"
             ]
            ],
            "type": "heatmapgl"
           }
          ],
          "histogram": [
           {
            "marker": {
             "pattern": {
              "fillmode": "overlay",
              "size": 10,
              "solidity": 0.2
             }
            },
            "type": "histogram"
           }
          ],
          "histogram2d": [
           {
            "colorbar": {
             "outlinewidth": 0,
             "ticks": ""
            },
            "colorscale": [
             [
              0,
              "#0d0887"
             ],
             [
              0.1111111111111111,
              "#46039f"
             ],
             [
              0.2222222222222222,
              "#7201a8"
             ],
             [
              0.3333333333333333,
              "#9c179e"
             ],
             [
              0.4444444444444444,
              "#bd3786"
             ],
             [
              0.5555555555555556,
              "#d8576b"
             ],
             [
              0.6666666666666666,
              "#ed7953"
             ],
             [
              0.7777777777777778,
              "#fb9f3a"
             ],
             [
              0.8888888888888888,
              "#fdca26"
             ],
             [
              1,
              "#f0f921"
             ]
            ],
            "type": "histogram2d"
           }
          ],
          "histogram2dcontour": [
           {
            "colorbar": {
             "outlinewidth": 0,
             "ticks": ""
            },
            "colorscale": [
             [
              0,
              "#0d0887"
             ],
             [
              0.1111111111111111,
              "#46039f"
             ],
             [
              0.2222222222222222,
              "#7201a8"
             ],
             [
              0.3333333333333333,
              "#9c179e"
             ],
             [
              0.4444444444444444,
              "#bd3786"
             ],
             [
              0.5555555555555556,
              "#d8576b"
             ],
             [
              0.6666666666666666,
              "#ed7953"
             ],
             [
              0.7777777777777778,
              "#fb9f3a"
             ],
             [
              0.8888888888888888,
              "#fdca26"
             ],
             [
              1,
              "#f0f921"
             ]
            ],
            "type": "histogram2dcontour"
           }
          ],
          "mesh3d": [
           {
            "colorbar": {
             "outlinewidth": 0,
             "ticks": ""
            },
            "type": "mesh3d"
           }
          ],
          "parcoords": [
           {
            "line": {
             "colorbar": {
              "outlinewidth": 0,
              "ticks": ""
             }
            },
            "type": "parcoords"
           }
          ],
          "pie": [
           {
            "automargin": true,
            "type": "pie"
           }
          ],
          "scatter": [
           {
            "marker": {
             "line": {
              "color": "#283442"
             }
            },
            "type": "scatter"
           }
          ],
          "scatter3d": [
           {
            "line": {
             "colorbar": {
              "outlinewidth": 0,
              "ticks": ""
             }
            },
            "marker": {
             "colorbar": {
              "outlinewidth": 0,
              "ticks": ""
             }
            },
            "type": "scatter3d"
           }
          ],
          "scattercarpet": [
           {
            "marker": {
             "colorbar": {
              "outlinewidth": 0,
              "ticks": ""
             }
            },
            "type": "scattercarpet"
           }
          ],
          "scattergeo": [
           {
            "marker": {
             "colorbar": {
              "outlinewidth": 0,
              "ticks": ""
             }
            },
            "type": "scattergeo"
           }
          ],
          "scattergl": [
           {
            "marker": {
             "line": {
              "color": "#283442"
             }
            },
            "type": "scattergl"
           }
          ],
          "scattermapbox": [
           {
            "marker": {
             "colorbar": {
              "outlinewidth": 0,
              "ticks": ""
             }
            },
            "type": "scattermapbox"
           }
          ],
          "scatterpolar": [
           {
            "marker": {
             "colorbar": {
              "outlinewidth": 0,
              "ticks": ""
             }
            },
            "type": "scatterpolar"
           }
          ],
          "scatterpolargl": [
           {
            "marker": {
             "colorbar": {
              "outlinewidth": 0,
              "ticks": ""
             }
            },
            "type": "scatterpolargl"
           }
          ],
          "scatterternary": [
           {
            "marker": {
             "colorbar": {
              "outlinewidth": 0,
              "ticks": ""
             }
            },
            "type": "scatterternary"
           }
          ],
          "surface": [
           {
            "colorbar": {
             "outlinewidth": 0,
             "ticks": ""
            },
            "colorscale": [
             [
              0,
              "#0d0887"
             ],
             [
              0.1111111111111111,
              "#46039f"
             ],
             [
              0.2222222222222222,
              "#7201a8"
             ],
             [
              0.3333333333333333,
              "#9c179e"
             ],
             [
              0.4444444444444444,
              "#bd3786"
             ],
             [
              0.5555555555555556,
              "#d8576b"
             ],
             [
              0.6666666666666666,
              "#ed7953"
             ],
             [
              0.7777777777777778,
              "#fb9f3a"
             ],
             [
              0.8888888888888888,
              "#fdca26"
             ],
             [
              1,
              "#f0f921"
             ]
            ],
            "type": "surface"
           }
          ],
          "table": [
           {
            "cells": {
             "fill": {
              "color": "#506784"
             },
             "line": {
              "color": "rgb(17,17,17)"
             }
            },
            "header": {
             "fill": {
              "color": "#2a3f5f"
             },
             "line": {
              "color": "rgb(17,17,17)"
             }
            },
            "type": "table"
           }
          ]
         },
         "layout": {
          "annotationdefaults": {
           "arrowcolor": "#f2f5fa",
           "arrowhead": 0,
           "arrowwidth": 1
          },
          "autotypenumbers": "strict",
          "coloraxis": {
           "colorbar": {
            "outlinewidth": 0,
            "ticks": ""
           }
          },
          "colorscale": {
           "diverging": [
            [
             0,
             "#8e0152"
            ],
            [
             0.1,
             "#c51b7d"
            ],
            [
             0.2,
             "#de77ae"
            ],
            [
             0.3,
             "#f1b6da"
            ],
            [
             0.4,
             "#fde0ef"
            ],
            [
             0.5,
             "#f7f7f7"
            ],
            [
             0.6,
             "#e6f5d0"
            ],
            [
             0.7,
             "#b8e186"
            ],
            [
             0.8,
             "#7fbc41"
            ],
            [
             0.9,
             "#4d9221"
            ],
            [
             1,
             "#276419"
            ]
           ],
           "sequential": [
            [
             0,
             "#0d0887"
            ],
            [
             0.1111111111111111,
             "#46039f"
            ],
            [
             0.2222222222222222,
             "#7201a8"
            ],
            [
             0.3333333333333333,
             "#9c179e"
            ],
            [
             0.4444444444444444,
             "#bd3786"
            ],
            [
             0.5555555555555556,
             "#d8576b"
            ],
            [
             0.6666666666666666,
             "#ed7953"
            ],
            [
             0.7777777777777778,
             "#fb9f3a"
            ],
            [
             0.8888888888888888,
             "#fdca26"
            ],
            [
             1,
             "#f0f921"
            ]
           ],
           "sequentialminus": [
            [
             0,
             "#0d0887"
            ],
            [
             0.1111111111111111,
             "#46039f"
            ],
            [
             0.2222222222222222,
             "#7201a8"
            ],
            [
             0.3333333333333333,
             "#9c179e"
            ],
            [
             0.4444444444444444,
             "#bd3786"
            ],
            [
             0.5555555555555556,
             "#d8576b"
            ],
            [
             0.6666666666666666,
             "#ed7953"
            ],
            [
             0.7777777777777778,
             "#fb9f3a"
            ],
            [
             0.8888888888888888,
             "#fdca26"
            ],
            [
             1,
             "#f0f921"
            ]
           ]
          },
          "colorway": [
           "#636efa",
           "#EF553B",
           "#00cc96",
           "#ab63fa",
           "#FFA15A",
           "#19d3f3",
           "#FF6692",
           "#B6E880",
           "#FF97FF",
           "#FECB52"
          ],
          "font": {
           "color": "#f2f5fa"
          },
          "geo": {
           "bgcolor": "rgb(17,17,17)",
           "lakecolor": "rgb(17,17,17)",
           "landcolor": "rgb(17,17,17)",
           "showlakes": true,
           "showland": true,
           "subunitcolor": "#506784"
          },
          "hoverlabel": {
           "align": "left"
          },
          "hovermode": "closest",
          "mapbox": {
           "style": "dark"
          },
          "paper_bgcolor": "rgb(17,17,17)",
          "plot_bgcolor": "rgb(17,17,17)",
          "polar": {
           "angularaxis": {
            "gridcolor": "#506784",
            "linecolor": "#506784",
            "ticks": ""
           },
           "bgcolor": "rgb(17,17,17)",
           "radialaxis": {
            "gridcolor": "#506784",
            "linecolor": "#506784",
            "ticks": ""
           }
          },
          "scene": {
           "xaxis": {
            "backgroundcolor": "rgb(17,17,17)",
            "gridcolor": "#506784",
            "gridwidth": 2,
            "linecolor": "#506784",
            "showbackground": true,
            "ticks": "",
            "zerolinecolor": "#C8D4E3"
           },
           "yaxis": {
            "backgroundcolor": "rgb(17,17,17)",
            "gridcolor": "#506784",
            "gridwidth": 2,
            "linecolor": "#506784",
            "showbackground": true,
            "ticks": "",
            "zerolinecolor": "#C8D4E3"
           },
           "zaxis": {
            "backgroundcolor": "rgb(17,17,17)",
            "gridcolor": "#506784",
            "gridwidth": 2,
            "linecolor": "#506784",
            "showbackground": true,
            "ticks": "",
            "zerolinecolor": "#C8D4E3"
           }
          },
          "shapedefaults": {
           "line": {
            "color": "#f2f5fa"
           }
          },
          "sliderdefaults": {
           "bgcolor": "#C8D4E3",
           "bordercolor": "rgb(17,17,17)",
           "borderwidth": 1,
           "tickwidth": 0
          },
          "ternary": {
           "aaxis": {
            "gridcolor": "#506784",
            "linecolor": "#506784",
            "ticks": ""
           },
           "baxis": {
            "gridcolor": "#506784",
            "linecolor": "#506784",
            "ticks": ""
           },
           "bgcolor": "rgb(17,17,17)",
           "caxis": {
            "gridcolor": "#506784",
            "linecolor": "#506784",
            "ticks": ""
           }
          },
          "title": {
           "x": 0.05
          },
          "updatemenudefaults": {
           "bgcolor": "#506784",
           "borderwidth": 0
          },
          "xaxis": {
           "automargin": true,
           "gridcolor": "#283442",
           "linecolor": "#506784",
           "ticks": "",
           "title": {
            "standoff": 15
           },
           "zerolinecolor": "#283442",
           "zerolinewidth": 2
          },
          "yaxis": {
           "automargin": true,
           "gridcolor": "#283442",
           "linecolor": "#506784",
           "ticks": "",
           "title": {
            "standoff": 15
           },
           "zerolinecolor": "#283442",
           "zerolinewidth": 2
          }
         }
        },
        "title": {
         "text": "Incremento porcentual anual"
        },
        "width": 800,
        "xaxis": {
         "title": {
          "text": "Periodo"
         }
        },
        "yaxis": {
         "title": {
          "text": "Incremento%"
         }
        }
       }
      }
     },
     "metadata": {},
     "output_type": "display_data"
    }
   ],
   "source": [
    "# Incremento absoluto\n",
    "fig1 = go.Figure()\n",
    "\n",
    "fig1.add_trace(go.Bar(x=delitos_tipo_py[\"Periodo\"], y=delitos_tipo_py[\"Incremento\"], name=\"Incremento\"))\n",
    "fig1.add_trace(go.Scatter(x=delitos_tipo_py[\"Periodo\"], y=delitos_tipo_py[\"Incremento\"], name=\"Total\", line=dict(color='orange', dash='dash')))\n",
    "\n",
    "fig1.update_layout(title_text=\"Incremento absoluto anual\", xaxis_title=\"Periodo\", yaxis_title=\"Incremento\", template=\"plotly_dark\", width=800, height=600)\n",
    "for i, row in delitos_tipo_py.iterrows():\n",
    "    fig1.add_annotation(x=row[\"Periodo\"], y=row[\"Incremento\"], text=str(int(row[\"Incremento\"])), showarrow=False, font=dict(size=14))\n",
    "\n",
    "fig1.show()\n",
    "\n",
    "# Incremento relativo\n",
    "fig2 = go.Figure()\n",
    "\n",
    "fig2.add_trace(go.Bar(x=delitos_tipo_py[\"Periodo\"], y=delitos_tipo_py[\"Incremento%\"], name=\"Incremento%\"))\n",
    "fig2.add_trace(go.Scatter(x=delitos_tipo_py[\"Periodo\"], y=delitos_tipo_py[\"Incremento%\"], name=\"Total\", line=dict(color='orange', dash='dash')))\n",
    "\n",
    "fig2.update_layout(title_text=\"Incremento porcentual anual\", xaxis_title=\"Periodo\", yaxis_title=\"Incremento%\", template=\"plotly_dark\", width=800, height=600)\n",
    "for i, row in delitos_tipo_py.iterrows():\n",
    "    fig2.add_annotation(x=row[\"Periodo\"], y=row[\"Incremento%\"], text=f\"{row['Incremento%']:.2f}%\", showarrow=False, font=dict(size=14))\n",
    "\n",
    "\n",
    "fig2.show()"
   ]
  },
  {
   "cell_type": "code",
   "execution_count": 291,
   "metadata": {},
   "outputs": [],
   "source": [
    "# Gráfica en Seaborn anterior al cambio\n",
    "\n",
    "# fig, (ax1,ax2) = plt.subplots(ncols=2,figsize=(14,6))\n",
    "\n",
    "# # Incremento absoluto\n",
    "# sns.barplot(x=\"Periodo\", y=\"Incremento\", data=delitos_tipo_py, ax=ax1)\n",
    "# sns.lineplot(data=delitos_tipo_py[\"Incremento\"], ax=ax1, label=\"Total\", color=\"orange\", linestyle=\"dashed\")\n",
    "# ax1.set_title(\"Incremento absoluto anual\")\n",
    "# for index, row in delitos_tipo_py.iterrows():\n",
    "#     ax1.text(index, row['Incremento'], int(row['Incremento']), ha='center')\n",
    "\n",
    "# # Incremento relativo\n",
    "# sns.barplot(x=\"Periodo\", y=\"Incremento%\", data=delitos_tipo_py, ax=ax2)\n",
    "# ax2.set_title(\"Incremento porcentual anual\")\n",
    "# for index, row in delitos_tipo_py.iterrows():\n",
    "#     ax2.text(index, row['Incremento%'], f\"{row['Incremento%']:.2f}%\", ha='center')\n",
    "\n",
    "# plt.show()"
   ]
  },
  {
   "cell_type": "code",
   "execution_count": 292,
   "metadata": {},
   "outputs": [],
   "source": [
    "# Nueva categoría 2.5 para agrupar\n",
    "\n",
    "def assign_nv2_5(x):\n",
    "    if x in ['Homicidio y sus formas', 'Aborto', 'Lesiones', 'Lesiones al feto']:\n",
    "        return 'Delitos contra la vida y la integridad física'\n",
    "    elif x in ['Contra la libertad', 'Torturas e integridad moral', 'Trata de seres humanos']:\n",
    "        return 'Delitos contra la libertad'\n",
    "    elif x == 'Contra la libertad e indemnidad sexuales':\n",
    "        return 'Delitos sexuales'\n",
    "    elif x in ['Contra la intimidad, derecho a la propia imagen', 'Contra el honor']:\n",
    "        return 'Delitos contra la intimidad y el honor'\n",
    "    elif x == 'Contra las relaciones familiares':\n",
    "        return 'Delitos contra las relaciones familiares'\n",
    "    elif x == 'Contra los derechos de los trabajadores':\n",
    "        return 'Delitos contra los derechos de los trabajadores'\n",
    "    elif x in ['Contra el patrimonio y el orden socioeconómico', 'Falsedades']:\n",
    "        return 'Delitos contra el patrimonio y el orden socioeconómico'\n",
    "    elif x in ['Contra la Administración Pública', 'Contra la Administración de Justicia', 'Contra la Hacienda Pública y Seguridad Social']:\n",
    "        return 'Delitos contra la Administración Pública'\n",
    "    elif x in ['Contra la Constitución', 'Contra el orden público', 'Traición, contra la paz y defensa nacional']:\n",
    "        return 'Delitos contra la Constitución y el orden público'\n",
    "    elif x == 'Ordenación del territorio, urbanismo, protección del patrimonio histórico y medio ambiente':\n",
    "        return 'Delitos relacionados con el medio ambiente y la planificación territorial'\n",
    "    elif x in ['Contra la seguridad colectiva', 'Contra la Comunidad Internacional', 'Contra los derechos de los ciudadanos extranjeros', 'Omisión del deber de socorro']:\n",
    "        return 'Delitos contra la seguridad'\n",
    "    else:\n",
    "        return x\n",
    "        \n",
    "delit_type['Nv2.5'] = delit_type['Nv2'].apply(assign_nv2_5)"
   ]
  },
  {
   "cell_type": "code",
   "execution_count": 293,
   "metadata": {},
   "outputs": [],
   "source": [
    "# Total delitos por tipo\n",
    "delitos_tipo_pt = delit_type.groupby([\"Nv2\", \"Periodo\"])[\"Total\"].sum().reset_index()\n",
    "\n",
    "# Delitos por tipo por año\n",
    "del_tip_2013 = delitos_tipo_pt[delitos_tipo_pt[\"Periodo\"]==2013]\n",
    "del_tip_2014 = delitos_tipo_pt[delitos_tipo_pt[\"Periodo\"]==2014]\n",
    "del_tip_2015 = delitos_tipo_pt[delitos_tipo_pt[\"Periodo\"]==2015]\n",
    "del_tip_2016 = delitos_tipo_pt[delitos_tipo_pt[\"Periodo\"]==2016]\n",
    "del_tip_2017 = delitos_tipo_pt[delitos_tipo_pt[\"Periodo\"]==2017]\n",
    "del_tip_2018 = delitos_tipo_pt[delitos_tipo_pt[\"Periodo\"]==2018]\n",
    "del_tip_2019 = delitos_tipo_pt[delitos_tipo_pt[\"Periodo\"]==2019]\n",
    "del_tip_2020 = delitos_tipo_pt[delitos_tipo_pt[\"Periodo\"]==2020]\n",
    "del_tip_2021 = delitos_tipo_pt[delitos_tipo_pt[\"Periodo\"]==2021]\n",
    "\n",
    "dict_years = {2013:del_tip_2013, 2014:del_tip_2014, 2015:del_tip_2015, \n",
    "              2016:del_tip_2016, 2017:del_tip_2017, 2018:del_tip_2018,\n",
    "              2019:del_tip_2019, 2020:del_tip_2020, 2021:del_tip_2021}\n",
    "\n",
    "# Incremento absoluto de delito por tipo por año\n",
    "delitos_tipo_pt['Incremento'] = delitos_tipo_pt['Total'] - delitos_tipo_pt['Total'].shift(1)\n",
    "delitos_tipo_pt['Incremento'] = delitos_tipo_pt['Incremento'].fillna(0)\n",
    "\n",
    "# Incremento relativo de delito por tipo por año\n",
    "delitos_tipo_pt['Incremento%'] = (delitos_tipo_pt['Total'] - delitos_tipo_pt['Total'].shift(1)) / delitos_tipo_pt['Total'].shift(1) * 100\n",
    "delitos_tipo_pt['Incremento%'] = delitos_tipo_pt['Incremento%'].fillna(0)"
   ]
  },
  {
   "cell_type": "code",
   "execution_count": 294,
   "metadata": {},
   "outputs": [],
   "source": [
    "# Gráfica en Seaborn anterior al cambio\n",
    "\n",
    "# fig, ax = plt.subplots(figsize=(13,6))\n",
    "# sns.barplot(x=\"Nv2\",y=\"Total\",data=del_tip_2013, ax=ax,hue='Nv2',palette=\"tab20\",dodge=False)\n",
    "# ax.set_xticklabels([])\n",
    "# ax.set(xlabel='', ylabel='Total', title='Total de Delitos por Tipo en 2017')\n",
    "# ax.legend(title='Tipos de Delito', fontsize=9,bbox_to_anchor=(1.05, 1))\n",
    "# # for p in ax.patches:\n",
    "# #     height = p.get_height()\n",
    "# #     if height > 0:\n",
    "# #         ax.text(x=p.get_x()+(p.get_width()/2), y=height+50, s=f'{height:.0f}', ha='center', fontsize=10)\n",
    "# #         # ax.text(x=p.get_x()+(p.get_width()/2), y=height+50, s=f'{height/sum(del_tip_2013[\"Total\"])*100:.1f}%', ha='center', fontsize=10)\n",
    "# plt.show()\n"
   ]
  },
  {
   "cell_type": "code",
   "execution_count": 295,
   "metadata": {},
   "outputs": [],
   "source": [
    "colores_delitos = {\n",
    "    \"Contra la intimidad, derecho a la propia imagen\": \"#1f77b4\",\n",
    "    \"Contra el honor\": \"#ff7f0e\",\n",
    "    \"Contra las relaciones familiares\": \"#2ca02c\",\n",
    "    \"Contra el patrimonio y el orden socioeconómico\": \"#d62728\",\n",
    "    \"Contra la Hacienda Pública y Seguridad Social\": \"#9467bd\",\n",
    "    \"Contra los derechos de los ciudadanos extranjeros\": \"#8c564b\",\n",
    "    \"Contra los derechos de los trabajadores\": \"#e377c2\",\n",
    "    \"Ordenación del territorio, urbanismo, protección del patrimonio histórico y medio ambiente\": \"#9fd4e5\",\n",
    "    \"Contra la seguridad colectiva\": \"#bcbd22\",\n",
    "    \"Falsedades\": \"#17becf\",\n",
    "    \"Contra la Administración Pública\": \"#ff9896\",\n",
    "    \"Contra la Administración de Justicia\": \"#dbdb8d\",\n",
    "    \"Contra la Constitución\": \"#9edae5\",\n",
    "    \"Contra el orden público\": \"#aec7e8\",\n",
    "    \"Traición, contra la paz y defensa nacional\": \"#c5b0d5\",\n",
    "    \"Contra la Comunidad Internacional\": \"#f7b6d2\",\n",
    "    \"Homicidio y sus formas\": \"#1f77b4\",\n",
    "    \"Aborto\": \"#ff7f0e\",\n",
    "    \"Lesiones\": \"#2ca02c\",\n",
    "    \"Lesiones al feto\": \"#d62728\",\n",
    "    \"Manipulación genética\": \"#9467bd\",\n",
    "    \"Contra la libertad\": \"#8c564b\",\n",
    "    \"Trata de seres humanos\": \"#e377c2\",\n",
    "    \"Torturas e integridad moral\": \"#7f7f7f\",\n",
    "    \"Contra la libertad e indemnidad sexuales\": \"#bcbd22\",\n",
    "    \"Omisión del deber de socorro\": \"#17becf\"\n",
    "}"
   ]
  },
  {
   "cell_type": "code",
   "execution_count": 296,
   "metadata": {},
   "outputs": [
    {
     "data": {
      "application/vnd.plotly.v1+json": {
       "config": {
        "plotlyServerURL": "https://plot.ly"
       },
       "data": [
        {
         "marker": {
          "color": "#ff7f0e"
         },
         "name": "Aborto",
         "type": "bar",
         "x": [
          "Aborto"
         ],
         "y": [
          12
         ]
        },
        {
         "marker": {
          "color": "#ff7f0e"
         },
         "name": "Contra el honor",
         "type": "bar",
         "x": [
          "Contra el honor"
         ],
         "y": [
          196
         ]
        },
        {
         "marker": {
          "color": "#aec7e8"
         },
         "name": "Contra el orden público",
         "type": "bar",
         "x": [
          "Contra el orden público"
         ],
         "y": [
          1250.262
         ]
        },
        {
         "marker": {
          "color": "#d62728"
         },
         "name": "Contra el patrimonio y el orden socioeconómico",
         "type": "bar",
         "x": [
          "Contra el patrimonio y el orden socioeconómico"
         ],
         "y": [
          1411.998
         ]
        },
        {
         "marker": {
          "color": "#ff9896"
         },
         "name": "Contra la Administración Pública",
         "type": "bar",
         "x": [
          "Contra la Administración Pública"
         ],
         "y": [
          276.902
         ]
        },
        {
         "marker": {
          "color": "#dbdb8d"
         },
         "name": "Contra la Administración de Justicia",
         "type": "bar",
         "x": [
          "Contra la Administración de Justicia"
         ],
         "y": [
          971.296
         ]
        },
        {
         "marker": {
          "color": "#f7b6d2"
         },
         "name": "Contra la Comunidad Internacional",
         "type": "bar",
         "x": [
          "Contra la Comunidad Internacional"
         ],
         "y": [
          28
         ]
        },
        {
         "marker": {
          "color": "#9edae5"
         },
         "name": "Contra la Constitución",
         "type": "bar",
         "x": [
          "Contra la Constitución"
         ],
         "y": [
          434
         ]
        },
        {
         "marker": {
          "color": "#9467bd"
         },
         "name": "Contra la Hacienda Pública y Seguridad Social",
         "type": "bar",
         "x": [
          "Contra la Hacienda Pública y Seguridad Social"
         ],
         "y": [
          647
         ]
        },
        {
         "marker": {
          "color": "#1f77b4"
         },
         "name": "Contra la intimidad, derecho a la propia imagen",
         "type": "bar",
         "x": [
          "Contra la intimidad, derecho a la propia imagen"
         ],
         "y": [
          1036
         ]
        },
        {
         "marker": {
          "color": "#8c564b"
         },
         "name": "Contra la libertad",
         "type": "bar",
         "x": [
          "Contra la libertad"
         ],
         "y": [
          323.26800000000003
         ]
        },
        {
         "marker": {
          "color": "#bcbd22"
         },
         "name": "Contra la libertad e indemnidad sexuales",
         "type": "bar",
         "x": [
          "Contra la libertad e indemnidad sexuales"
         ],
         "y": [
          2630.628
         ]
        },
        {
         "marker": {
          "color": "#bcbd22"
         },
         "name": "Contra la seguridad colectiva",
         "type": "bar",
         "x": [
          "Contra la seguridad colectiva"
         ],
         "y": [
          468.663
         ]
        },
        {
         "marker": {
          "color": "#2ca02c"
         },
         "name": "Contra las relaciones familiares",
         "type": "bar",
         "x": [
          "Contra las relaciones familiares"
         ],
         "y": [
          24.552
         ]
        },
        {
         "marker": {
          "color": "#8c564b"
         },
         "name": "Contra los derechos de los ciudadanos extranjeros",
         "type": "bar",
         "x": [
          "Contra los derechos de los ciudadanos extranjeros"
         ],
         "y": [
          206
         ]
        },
        {
         "marker": {
          "color": "#e377c2"
         },
         "name": "Contra los derechos de los trabajadores",
         "type": "bar",
         "x": [
          "Contra los derechos de los trabajadores"
         ],
         "y": [
          854
         ]
        },
        {
         "marker": {
          "color": "#17becf"
         },
         "name": "Falsedades",
         "type": "bar",
         "x": [
          "Falsedades"
         ],
         "y": [
          401.15200000000004
         ]
        },
        {
         "marker": {
          "color": "#1f77b4"
         },
         "name": "Homicidio y sus formas",
         "type": "bar",
         "x": [
          "Homicidio y sus formas"
         ],
         "y": [
          1.427
         ]
        },
        {
         "marker": {
          "color": "#2ca02c"
         },
         "name": "Lesiones",
         "type": "bar",
         "x": [
          "Lesiones"
         ],
         "y": [
          33.767
         ]
        },
        {
         "marker": {
          "color": "#d62728"
         },
         "name": "Lesiones al feto",
         "type": "bar",
         "x": [
          "Lesiones al feto"
         ],
         "y": [
          47
         ]
        },
        {
         "marker": {
          "color": "#9467bd"
         },
         "name": "Manipulación genética",
         "type": "bar",
         "x": [
          "Manipulación genética"
         ],
         "y": [
          3
         ]
        },
        {
         "marker": {
          "color": "#17becf"
         },
         "name": "Omisión del deber de socorro",
         "type": "bar",
         "x": [
          "Omisión del deber de socorro"
         ],
         "y": [
          82
         ]
        },
        {
         "marker": {
          "color": "#9fd4e5"
         },
         "name": "Ordenación del territorio, urbanismo, protección del patrimonio histórico y medio ambiente",
         "type": "bar",
         "x": [
          "Ordenación del territorio, urbanismo, protección del patrimonio histórico y medio ambiente"
         ],
         "y": [
          1580
         ]
        },
        {
         "marker": {
          "color": "#7f7f7f"
         },
         "name": "Torturas e integridad moral",
         "type": "bar",
         "x": [
          "Torturas e integridad moral"
         ],
         "y": [
          2.771
         ]
        },
        {
         "marker": {
          "color": "#c5b0d5"
         },
         "name": "Traición, contra la paz y defensa nacional",
         "type": "bar",
         "x": [
          "Traición, contra la paz y defensa nacional"
         ],
         "y": [
          8
         ]
        },
        {
         "marker": {
          "color": "#e377c2"
         },
         "name": "Trata de seres humanos",
         "type": "bar",
         "x": [
          "Trata de seres humanos"
         ],
         "y": [
          39
         ]
        }
       ],
       "layout": {
        "height": 800,
        "template": {
         "data": {
          "bar": [
           {
            "error_x": {
             "color": "#f2f5fa"
            },
            "error_y": {
             "color": "#f2f5fa"
            },
            "marker": {
             "line": {
              "color": "rgb(17,17,17)",
              "width": 0.5
             },
             "pattern": {
              "fillmode": "overlay",
              "size": 10,
              "solidity": 0.2
             }
            },
            "type": "bar"
           }
          ],
          "barpolar": [
           {
            "marker": {
             "line": {
              "color": "rgb(17,17,17)",
              "width": 0.5
             },
             "pattern": {
              "fillmode": "overlay",
              "size": 10,
              "solidity": 0.2
             }
            },
            "type": "barpolar"
           }
          ],
          "carpet": [
           {
            "aaxis": {
             "endlinecolor": "#A2B1C6",
             "gridcolor": "#506784",
             "linecolor": "#506784",
             "minorgridcolor": "#506784",
             "startlinecolor": "#A2B1C6"
            },
            "baxis": {
             "endlinecolor": "#A2B1C6",
             "gridcolor": "#506784",
             "linecolor": "#506784",
             "minorgridcolor": "#506784",
             "startlinecolor": "#A2B1C6"
            },
            "type": "carpet"
           }
          ],
          "choropleth": [
           {
            "colorbar": {
             "outlinewidth": 0,
             "ticks": ""
            },
            "type": "choropleth"
           }
          ],
          "contour": [
           {
            "colorbar": {
             "outlinewidth": 0,
             "ticks": ""
            },
            "colorscale": [
             [
              0,
              "#0d0887"
             ],
             [
              0.1111111111111111,
              "#46039f"
             ],
             [
              0.2222222222222222,
              "#7201a8"
             ],
             [
              0.3333333333333333,
              "#9c179e"
             ],
             [
              0.4444444444444444,
              "#bd3786"
             ],
             [
              0.5555555555555556,
              "#d8576b"
             ],
             [
              0.6666666666666666,
              "#ed7953"
             ],
             [
              0.7777777777777778,
              "#fb9f3a"
             ],
             [
              0.8888888888888888,
              "#fdca26"
             ],
             [
              1,
              "#f0f921"
             ]
            ],
            "type": "contour"
           }
          ],
          "contourcarpet": [
           {
            "colorbar": {
             "outlinewidth": 0,
             "ticks": ""
            },
            "type": "contourcarpet"
           }
          ],
          "heatmap": [
           {
            "colorbar": {
             "outlinewidth": 0,
             "ticks": ""
            },
            "colorscale": [
             [
              0,
              "#0d0887"
             ],
             [
              0.1111111111111111,
              "#46039f"
             ],
             [
              0.2222222222222222,
              "#7201a8"
             ],
             [
              0.3333333333333333,
              "#9c179e"
             ],
             [
              0.4444444444444444,
              "#bd3786"
             ],
             [
              0.5555555555555556,
              "#d8576b"
             ],
             [
              0.6666666666666666,
              "#ed7953"
             ],
             [
              0.7777777777777778,
              "#fb9f3a"
             ],
             [
              0.8888888888888888,
              "#fdca26"
             ],
             [
              1,
              "#f0f921"
             ]
            ],
            "type": "heatmap"
           }
          ],
          "heatmapgl": [
           {
            "colorbar": {
             "outlinewidth": 0,
             "ticks": ""
            },
            "colorscale": [
             [
              0,
              "#0d0887"
             ],
             [
              0.1111111111111111,
              "#46039f"
             ],
             [
              0.2222222222222222,
              "#7201a8"
             ],
             [
              0.3333333333333333,
              "#9c179e"
             ],
             [
              0.4444444444444444,
              "#bd3786"
             ],
             [
              0.5555555555555556,
              "#d8576b"
             ],
             [
              0.6666666666666666,
              "#ed7953"
             ],
             [
              0.7777777777777778,
              "#fb9f3a"
             ],
             [
              0.8888888888888888,
              "#fdca26"
             ],
             [
              1,
              "#f0f921"
             ]
            ],
            "type": "heatmapgl"
           }
          ],
          "histogram": [
           {
            "marker": {
             "pattern": {
              "fillmode": "overlay",
              "size": 10,
              "solidity": 0.2
             }
            },
            "type": "histogram"
           }
          ],
          "histogram2d": [
           {
            "colorbar": {
             "outlinewidth": 0,
             "ticks": ""
            },
            "colorscale": [
             [
              0,
              "#0d0887"
             ],
             [
              0.1111111111111111,
              "#46039f"
             ],
             [
              0.2222222222222222,
              "#7201a8"
             ],
             [
              0.3333333333333333,
              "#9c179e"
             ],
             [
              0.4444444444444444,
              "#bd3786"
             ],
             [
              0.5555555555555556,
              "#d8576b"
             ],
             [
              0.6666666666666666,
              "#ed7953"
             ],
             [
              0.7777777777777778,
              "#fb9f3a"
             ],
             [
              0.8888888888888888,
              "#fdca26"
             ],
             [
              1,
              "#f0f921"
             ]
            ],
            "type": "histogram2d"
           }
          ],
          "histogram2dcontour": [
           {
            "colorbar": {
             "outlinewidth": 0,
             "ticks": ""
            },
            "colorscale": [
             [
              0,
              "#0d0887"
             ],
             [
              0.1111111111111111,
              "#46039f"
             ],
             [
              0.2222222222222222,
              "#7201a8"
             ],
             [
              0.3333333333333333,
              "#9c179e"
             ],
             [
              0.4444444444444444,
              "#bd3786"
             ],
             [
              0.5555555555555556,
              "#d8576b"
             ],
             [
              0.6666666666666666,
              "#ed7953"
             ],
             [
              0.7777777777777778,
              "#fb9f3a"
             ],
             [
              0.8888888888888888,
              "#fdca26"
             ],
             [
              1,
              "#f0f921"
             ]
            ],
            "type": "histogram2dcontour"
           }
          ],
          "mesh3d": [
           {
            "colorbar": {
             "outlinewidth": 0,
             "ticks": ""
            },
            "type": "mesh3d"
           }
          ],
          "parcoords": [
           {
            "line": {
             "colorbar": {
              "outlinewidth": 0,
              "ticks": ""
             }
            },
            "type": "parcoords"
           }
          ],
          "pie": [
           {
            "automargin": true,
            "type": "pie"
           }
          ],
          "scatter": [
           {
            "marker": {
             "line": {
              "color": "#283442"
             }
            },
            "type": "scatter"
           }
          ],
          "scatter3d": [
           {
            "line": {
             "colorbar": {
              "outlinewidth": 0,
              "ticks": ""
             }
            },
            "marker": {
             "colorbar": {
              "outlinewidth": 0,
              "ticks": ""
             }
            },
            "type": "scatter3d"
           }
          ],
          "scattercarpet": [
           {
            "marker": {
             "colorbar": {
              "outlinewidth": 0,
              "ticks": ""
             }
            },
            "type": "scattercarpet"
           }
          ],
          "scattergeo": [
           {
            "marker": {
             "colorbar": {
              "outlinewidth": 0,
              "ticks": ""
             }
            },
            "type": "scattergeo"
           }
          ],
          "scattergl": [
           {
            "marker": {
             "line": {
              "color": "#283442"
             }
            },
            "type": "scattergl"
           }
          ],
          "scattermapbox": [
           {
            "marker": {
             "colorbar": {
              "outlinewidth": 0,
              "ticks": ""
             }
            },
            "type": "scattermapbox"
           }
          ],
          "scatterpolar": [
           {
            "marker": {
             "colorbar": {
              "outlinewidth": 0,
              "ticks": ""
             }
            },
            "type": "scatterpolar"
           }
          ],
          "scatterpolargl": [
           {
            "marker": {
             "colorbar": {
              "outlinewidth": 0,
              "ticks": ""
             }
            },
            "type": "scatterpolargl"
           }
          ],
          "scatterternary": [
           {
            "marker": {
             "colorbar": {
              "outlinewidth": 0,
              "ticks": ""
             }
            },
            "type": "scatterternary"
           }
          ],
          "surface": [
           {
            "colorbar": {
             "outlinewidth": 0,
             "ticks": ""
            },
            "colorscale": [
             [
              0,
              "#0d0887"
             ],
             [
              0.1111111111111111,
              "#46039f"
             ],
             [
              0.2222222222222222,
              "#7201a8"
             ],
             [
              0.3333333333333333,
              "#9c179e"
             ],
             [
              0.4444444444444444,
              "#bd3786"
             ],
             [
              0.5555555555555556,
              "#d8576b"
             ],
             [
              0.6666666666666666,
              "#ed7953"
             ],
             [
              0.7777777777777778,
              "#fb9f3a"
             ],
             [
              0.8888888888888888,
              "#fdca26"
             ],
             [
              1,
              "#f0f921"
             ]
            ],
            "type": "surface"
           }
          ],
          "table": [
           {
            "cells": {
             "fill": {
              "color": "#506784"
             },
             "line": {
              "color": "rgb(17,17,17)"
             }
            },
            "header": {
             "fill": {
              "color": "#2a3f5f"
             },
             "line": {
              "color": "rgb(17,17,17)"
             }
            },
            "type": "table"
           }
          ]
         },
         "layout": {
          "annotationdefaults": {
           "arrowcolor": "#f2f5fa",
           "arrowhead": 0,
           "arrowwidth": 1
          },
          "autotypenumbers": "strict",
          "coloraxis": {
           "colorbar": {
            "outlinewidth": 0,
            "ticks": ""
           }
          },
          "colorscale": {
           "diverging": [
            [
             0,
             "#8e0152"
            ],
            [
             0.1,
             "#c51b7d"
            ],
            [
             0.2,
             "#de77ae"
            ],
            [
             0.3,
             "#f1b6da"
            ],
            [
             0.4,
             "#fde0ef"
            ],
            [
             0.5,
             "#f7f7f7"
            ],
            [
             0.6,
             "#e6f5d0"
            ],
            [
             0.7,
             "#b8e186"
            ],
            [
             0.8,
             "#7fbc41"
            ],
            [
             0.9,
             "#4d9221"
            ],
            [
             1,
             "#276419"
            ]
           ],
           "sequential": [
            [
             0,
             "#0d0887"
            ],
            [
             0.1111111111111111,
             "#46039f"
            ],
            [
             0.2222222222222222,
             "#7201a8"
            ],
            [
             0.3333333333333333,
             "#9c179e"
            ],
            [
             0.4444444444444444,
             "#bd3786"
            ],
            [
             0.5555555555555556,
             "#d8576b"
            ],
            [
             0.6666666666666666,
             "#ed7953"
            ],
            [
             0.7777777777777778,
             "#fb9f3a"
            ],
            [
             0.8888888888888888,
             "#fdca26"
            ],
            [
             1,
             "#f0f921"
            ]
           ],
           "sequentialminus": [
            [
             0,
             "#0d0887"
            ],
            [
             0.1111111111111111,
             "#46039f"
            ],
            [
             0.2222222222222222,
             "#7201a8"
            ],
            [
             0.3333333333333333,
             "#9c179e"
            ],
            [
             0.4444444444444444,
             "#bd3786"
            ],
            [
             0.5555555555555556,
             "#d8576b"
            ],
            [
             0.6666666666666666,
             "#ed7953"
            ],
            [
             0.7777777777777778,
             "#fb9f3a"
            ],
            [
             0.8888888888888888,
             "#fdca26"
            ],
            [
             1,
             "#f0f921"
            ]
           ]
          },
          "colorway": [
           "#636efa",
           "#EF553B",
           "#00cc96",
           "#ab63fa",
           "#FFA15A",
           "#19d3f3",
           "#FF6692",
           "#B6E880",
           "#FF97FF",
           "#FECB52"
          ],
          "font": {
           "color": "#f2f5fa"
          },
          "geo": {
           "bgcolor": "rgb(17,17,17)",
           "lakecolor": "rgb(17,17,17)",
           "landcolor": "rgb(17,17,17)",
           "showlakes": true,
           "showland": true,
           "subunitcolor": "#506784"
          },
          "hoverlabel": {
           "align": "left"
          },
          "hovermode": "closest",
          "mapbox": {
           "style": "dark"
          },
          "paper_bgcolor": "rgb(17,17,17)",
          "plot_bgcolor": "rgb(17,17,17)",
          "polar": {
           "angularaxis": {
            "gridcolor": "#506784",
            "linecolor": "#506784",
            "ticks": ""
           },
           "bgcolor": "rgb(17,17,17)",
           "radialaxis": {
            "gridcolor": "#506784",
            "linecolor": "#506784",
            "ticks": ""
           }
          },
          "scene": {
           "xaxis": {
            "backgroundcolor": "rgb(17,17,17)",
            "gridcolor": "#506784",
            "gridwidth": 2,
            "linecolor": "#506784",
            "showbackground": true,
            "ticks": "",
            "zerolinecolor": "#C8D4E3"
           },
           "yaxis": {
            "backgroundcolor": "rgb(17,17,17)",
            "gridcolor": "#506784",
            "gridwidth": 2,
            "linecolor": "#506784",
            "showbackground": true,
            "ticks": "",
            "zerolinecolor": "#C8D4E3"
           },
           "zaxis": {
            "backgroundcolor": "rgb(17,17,17)",
            "gridcolor": "#506784",
            "gridwidth": 2,
            "linecolor": "#506784",
            "showbackground": true,
            "ticks": "",
            "zerolinecolor": "#C8D4E3"
           }
          },
          "shapedefaults": {
           "line": {
            "color": "#f2f5fa"
           }
          },
          "sliderdefaults": {
           "bgcolor": "#C8D4E3",
           "bordercolor": "rgb(17,17,17)",
           "borderwidth": 1,
           "tickwidth": 0
          },
          "ternary": {
           "aaxis": {
            "gridcolor": "#506784",
            "linecolor": "#506784",
            "ticks": ""
           },
           "baxis": {
            "gridcolor": "#506784",
            "linecolor": "#506784",
            "ticks": ""
           },
           "bgcolor": "rgb(17,17,17)",
           "caxis": {
            "gridcolor": "#506784",
            "linecolor": "#506784",
            "ticks": ""
           }
          },
          "title": {
           "x": 0.05
          },
          "updatemenudefaults": {
           "bgcolor": "#506784",
           "borderwidth": 0
          },
          "xaxis": {
           "automargin": true,
           "gridcolor": "#283442",
           "linecolor": "#506784",
           "ticks": "",
           "title": {
            "standoff": 15
           },
           "zerolinecolor": "#283442",
           "zerolinewidth": 2
          },
          "yaxis": {
           "automargin": true,
           "gridcolor": "#283442",
           "linecolor": "#506784",
           "ticks": "",
           "title": {
            "standoff": 15
           },
           "zerolinecolor": "#283442",
           "zerolinewidth": 2
          }
         }
        },
        "title": {
         "text": "Total de Delitos por Tipo en 2013"
        },
        "width": 1500,
        "xaxis": {
         "tickmode": "array",
         "tickvals": []
        },
        "yaxis": {
         "title": {
          "text": "Total"
         }
        }
       }
      }
     },
     "metadata": {},
     "output_type": "display_data"
    }
   ],
   "source": [
    "# Crear la figura\n",
    "fig = go.Figure()\n",
    "\n",
    "# Agregar las barras correspondientes a cada tipo de delito\n",
    "for i, nv2 in enumerate(del_tip_2013[\"Nv2\"].unique()):\n",
    "    subset = del_tip_2013[del_tip_2013[\"Nv2\"] == nv2]\n",
    "    color = colores_delitos[nv2]\n",
    "    fig.add_trace(go.Bar(x=[nv2], y=[subset[\"Total\"].iloc[0]], name=nv2, marker_color=color))\n",
    "\n",
    "# Personalizar el diseño de la gráfica\n",
    "fig.update_layout(title=\"Total de Delitos por Tipo en 2013\", yaxis_title=\"Total\", template=\"plotly_dark\", width=1500, height=800)\n",
    "\n",
    "# Actualizar los colores de la leyenda\n",
    "for i, trace in enumerate(fig.data):\n",
    "    nv2 = trace.name\n",
    "    color = colores_delitos[nv2]\n",
    "    fig.data[i].marker.color = color\n",
    "\n",
    "fig.update_xaxes(tickmode=\"array\", tickvals=[])\n",
    "# Mostrar la gráfica\n",
    "fig.show()"
   ]
  },
  {
   "cell_type": "code",
   "execution_count": 297,
   "metadata": {},
   "outputs": [
    {
     "data": {
      "application/vnd.plotly.v1+json": {
       "config": {
        "plotlyServerURL": "https://plot.ly"
       },
       "data": [
        {
         "alignmentgroup": "True",
         "customdata": [
          [
           2013
          ],
          [
           2014
          ],
          [
           2015
          ],
          [
           2016
          ],
          [
           2017
          ],
          [
           2018
          ],
          [
           2019
          ],
          [
           2020
          ],
          [
           2021
          ],
          [
           2013
          ],
          [
           2014
          ],
          [
           2015
          ],
          [
           2016
          ],
          [
           2017
          ],
          [
           2018
          ],
          [
           2019
          ],
          [
           2020
          ],
          [
           2021
          ],
          [
           2013
          ],
          [
           2014
          ],
          [
           2015
          ],
          [
           2016
          ],
          [
           2017
          ],
          [
           2018
          ],
          [
           2019
          ],
          [
           2020
          ],
          [
           2021
          ],
          [
           2013
          ],
          [
           2014
          ],
          [
           2015
          ],
          [
           2016
          ],
          [
           2017
          ],
          [
           2018
          ],
          [
           2019
          ],
          [
           2020
          ],
          [
           2021
          ],
          [
           2013
          ],
          [
           2014
          ],
          [
           2015
          ],
          [
           2016
          ],
          [
           2017
          ],
          [
           2018
          ],
          [
           2019
          ],
          [
           2020
          ],
          [
           2021
          ],
          [
           2013
          ],
          [
           2014
          ],
          [
           2015
          ],
          [
           2016
          ],
          [
           2017
          ],
          [
           2018
          ],
          [
           2019
          ],
          [
           2020
          ],
          [
           2021
          ],
          [
           2013
          ],
          [
           2014
          ],
          [
           2015
          ],
          [
           2016
          ],
          [
           2017
          ],
          [
           2018
          ],
          [
           2019
          ],
          [
           2020
          ],
          [
           2021
          ],
          [
           2013
          ],
          [
           2014
          ],
          [
           2015
          ],
          [
           2016
          ],
          [
           2017
          ],
          [
           2018
          ],
          [
           2019
          ],
          [
           2020
          ],
          [
           2021
          ],
          [
           2013
          ],
          [
           2014
          ],
          [
           2015
          ],
          [
           2016
          ],
          [
           2017
          ],
          [
           2018
          ],
          [
           2019
          ],
          [
           2020
          ],
          [
           2021
          ],
          [
           2013
          ],
          [
           2014
          ],
          [
           2015
          ],
          [
           2016
          ],
          [
           2017
          ],
          [
           2018
          ],
          [
           2019
          ],
          [
           2020
          ],
          [
           2021
          ],
          [
           2013
          ],
          [
           2014
          ],
          [
           2015
          ],
          [
           2016
          ],
          [
           2017
          ],
          [
           2018
          ],
          [
           2019
          ],
          [
           2020
          ],
          [
           2021
          ],
          [
           2013
          ],
          [
           2014
          ],
          [
           2015
          ],
          [
           2016
          ],
          [
           2017
          ],
          [
           2018
          ],
          [
           2019
          ],
          [
           2020
          ],
          [
           2021
          ],
          [
           2013
          ],
          [
           2014
          ],
          [
           2015
          ],
          [
           2016
          ],
          [
           2017
          ],
          [
           2018
          ],
          [
           2019
          ],
          [
           2020
          ],
          [
           2021
          ],
          [
           2013
          ],
          [
           2014
          ],
          [
           2015
          ],
          [
           2016
          ],
          [
           2017
          ],
          [
           2018
          ],
          [
           2019
          ],
          [
           2020
          ],
          [
           2021
          ],
          [
           2013
          ],
          [
           2014
          ],
          [
           2015
          ],
          [
           2016
          ],
          [
           2017
          ],
          [
           2018
          ],
          [
           2019
          ],
          [
           2020
          ],
          [
           2021
          ],
          [
           2013
          ],
          [
           2014
          ],
          [
           2015
          ],
          [
           2016
          ],
          [
           2017
          ],
          [
           2018
          ],
          [
           2019
          ],
          [
           2020
          ],
          [
           2021
          ],
          [
           2013
          ],
          [
           2014
          ],
          [
           2015
          ],
          [
           2016
          ],
          [
           2017
          ],
          [
           2018
          ],
          [
           2019
          ],
          [
           2020
          ],
          [
           2021
          ],
          [
           2013
          ],
          [
           2014
          ],
          [
           2015
          ],
          [
           2016
          ],
          [
           2017
          ],
          [
           2018
          ],
          [
           2019
          ],
          [
           2020
          ],
          [
           2021
          ],
          [
           2013
          ],
          [
           2014
          ],
          [
           2015
          ],
          [
           2016
          ],
          [
           2017
          ],
          [
           2018
          ],
          [
           2019
          ],
          [
           2020
          ],
          [
           2021
          ],
          [
           2013
          ],
          [
           2014
          ],
          [
           2015
          ],
          [
           2016
          ],
          [
           2017
          ],
          [
           2018
          ],
          [
           2019
          ],
          [
           2020
          ],
          [
           2021
          ],
          [
           2013
          ],
          [
           2014
          ],
          [
           2015
          ],
          [
           2016
          ],
          [
           2017
          ],
          [
           2018
          ],
          [
           2019
          ],
          [
           2020
          ],
          [
           2021
          ],
          [
           2013
          ],
          [
           2014
          ],
          [
           2015
          ],
          [
           2016
          ],
          [
           2017
          ],
          [
           2018
          ],
          [
           2019
          ],
          [
           2020
          ],
          [
           2021
          ],
          [
           2013
          ],
          [
           2014
          ],
          [
           2015
          ],
          [
           2016
          ],
          [
           2017
          ],
          [
           2018
          ],
          [
           2019
          ],
          [
           2020
          ],
          [
           2021
          ],
          [
           2013
          ],
          [
           2014
          ],
          [
           2015
          ],
          [
           2016
          ],
          [
           2017
          ],
          [
           2018
          ],
          [
           2019
          ],
          [
           2020
          ],
          [
           2021
          ],
          [
           2013
          ],
          [
           2014
          ],
          [
           2015
          ],
          [
           2016
          ],
          [
           2017
          ],
          [
           2018
          ],
          [
           2019
          ],
          [
           2020
          ],
          [
           2021
          ],
          [
           2013
          ],
          [
           2014
          ],
          [
           2015
          ],
          [
           2016
          ],
          [
           2017
          ],
          [
           2018
          ],
          [
           2019
          ],
          [
           2020
          ],
          [
           2021
          ]
         ],
         "hovertemplate": "Nv2=%{x}<br>Total=%{y}<br>Periodo=%{marker.color}<extra></extra>",
         "legendgroup": "",
         "marker": {
          "color": [
           2013,
           2014,
           2015,
           2016,
           2017,
           2018,
           2019,
           2020,
           2021,
           2013,
           2014,
           2015,
           2016,
           2017,
           2018,
           2019,
           2020,
           2021,
           2013,
           2014,
           2015,
           2016,
           2017,
           2018,
           2019,
           2020,
           2021,
           2013,
           2014,
           2015,
           2016,
           2017,
           2018,
           2019,
           2020,
           2021,
           2013,
           2014,
           2015,
           2016,
           2017,
           2018,
           2019,
           2020,
           2021,
           2013,
           2014,
           2015,
           2016,
           2017,
           2018,
           2019,
           2020,
           2021,
           2013,
           2014,
           2015,
           2016,
           2017,
           2018,
           2019,
           2020,
           2021,
           2013,
           2014,
           2015,
           2016,
           2017,
           2018,
           2019,
           2020,
           2021,
           2013,
           2014,
           2015,
           2016,
           2017,
           2018,
           2019,
           2020,
           2021,
           2013,
           2014,
           2015,
           2016,
           2017,
           2018,
           2019,
           2020,
           2021,
           2013,
           2014,
           2015,
           2016,
           2017,
           2018,
           2019,
           2020,
           2021,
           2013,
           2014,
           2015,
           2016,
           2017,
           2018,
           2019,
           2020,
           2021,
           2013,
           2014,
           2015,
           2016,
           2017,
           2018,
           2019,
           2020,
           2021,
           2013,
           2014,
           2015,
           2016,
           2017,
           2018,
           2019,
           2020,
           2021,
           2013,
           2014,
           2015,
           2016,
           2017,
           2018,
           2019,
           2020,
           2021,
           2013,
           2014,
           2015,
           2016,
           2017,
           2018,
           2019,
           2020,
           2021,
           2013,
           2014,
           2015,
           2016,
           2017,
           2018,
           2019,
           2020,
           2021,
           2013,
           2014,
           2015,
           2016,
           2017,
           2018,
           2019,
           2020,
           2021,
           2013,
           2014,
           2015,
           2016,
           2017,
           2018,
           2019,
           2020,
           2021,
           2013,
           2014,
           2015,
           2016,
           2017,
           2018,
           2019,
           2020,
           2021,
           2013,
           2014,
           2015,
           2016,
           2017,
           2018,
           2019,
           2020,
           2021,
           2013,
           2014,
           2015,
           2016,
           2017,
           2018,
           2019,
           2020,
           2021,
           2013,
           2014,
           2015,
           2016,
           2017,
           2018,
           2019,
           2020,
           2021,
           2013,
           2014,
           2015,
           2016,
           2017,
           2018,
           2019,
           2020,
           2021,
           2013,
           2014,
           2015,
           2016,
           2017,
           2018,
           2019,
           2020,
           2021,
           2013,
           2014,
           2015,
           2016,
           2017,
           2018,
           2019,
           2020,
           2021
          ],
          "coloraxis": "coloraxis",
          "opacity": 0.6,
          "pattern": {
           "shape": ""
          }
         },
         "name": "",
         "offsetgroup": "",
         "orientation": "v",
         "showlegend": false,
         "textposition": "auto",
         "type": "bar",
         "x": [
          "Aborto",
          "Aborto",
          "Aborto",
          "Aborto",
          "Aborto",
          "Aborto",
          "Aborto",
          "Aborto",
          "Aborto",
          "Contra el honor",
          "Contra el honor",
          "Contra el honor",
          "Contra el honor",
          "Contra el honor",
          "Contra el honor",
          "Contra el honor",
          "Contra el honor",
          "Contra el honor",
          "Contra el orden público",
          "Contra el orden público",
          "Contra el orden público",
          "Contra el orden público",
          "Contra el orden público",
          "Contra el orden público",
          "Contra el orden público",
          "Contra el orden público",
          "Contra el orden público",
          "Contra el patrimonio y el orden socioeconómico",
          "Contra el patrimonio y el orden socioeconómico",
          "Contra el patrimonio y el orden socioeconómico",
          "Contra el patrimonio y el orden socioeconómico",
          "Contra el patrimonio y el orden socioeconómico",
          "Contra el patrimonio y el orden socioeconómico",
          "Contra el patrimonio y el orden socioeconómico",
          "Contra el patrimonio y el orden socioeconómico",
          "Contra el patrimonio y el orden socioeconómico",
          "Contra la Administración Pública",
          "Contra la Administración Pública",
          "Contra la Administración Pública",
          "Contra la Administración Pública",
          "Contra la Administración Pública",
          "Contra la Administración Pública",
          "Contra la Administración Pública",
          "Contra la Administración Pública",
          "Contra la Administración Pública",
          "Contra la Administración de Justicia",
          "Contra la Administración de Justicia",
          "Contra la Administración de Justicia",
          "Contra la Administración de Justicia",
          "Contra la Administración de Justicia",
          "Contra la Administración de Justicia",
          "Contra la Administración de Justicia",
          "Contra la Administración de Justicia",
          "Contra la Administración de Justicia",
          "Contra la Comunidad Internacional",
          "Contra la Comunidad Internacional",
          "Contra la Comunidad Internacional",
          "Contra la Comunidad Internacional",
          "Contra la Comunidad Internacional",
          "Contra la Comunidad Internacional",
          "Contra la Comunidad Internacional",
          "Contra la Comunidad Internacional",
          "Contra la Comunidad Internacional",
          "Contra la Constitución",
          "Contra la Constitución",
          "Contra la Constitución",
          "Contra la Constitución",
          "Contra la Constitución",
          "Contra la Constitución",
          "Contra la Constitución",
          "Contra la Constitución",
          "Contra la Constitución",
          "Contra la Hacienda Pública y Seguridad Social",
          "Contra la Hacienda Pública y Seguridad Social",
          "Contra la Hacienda Pública y Seguridad Social",
          "Contra la Hacienda Pública y Seguridad Social",
          "Contra la Hacienda Pública y Seguridad Social",
          "Contra la Hacienda Pública y Seguridad Social",
          "Contra la Hacienda Pública y Seguridad Social",
          "Contra la Hacienda Pública y Seguridad Social",
          "Contra la Hacienda Pública y Seguridad Social",
          "Contra la intimidad, derecho a la propia imagen",
          "Contra la intimidad, derecho a la propia imagen",
          "Contra la intimidad, derecho a la propia imagen",
          "Contra la intimidad, derecho a la propia imagen",
          "Contra la intimidad, derecho a la propia imagen",
          "Contra la intimidad, derecho a la propia imagen",
          "Contra la intimidad, derecho a la propia imagen",
          "Contra la intimidad, derecho a la propia imagen",
          "Contra la intimidad, derecho a la propia imagen",
          "Contra la libertad",
          "Contra la libertad",
          "Contra la libertad",
          "Contra la libertad",
          "Contra la libertad",
          "Contra la libertad",
          "Contra la libertad",
          "Contra la libertad",
          "Contra la libertad",
          "Contra la libertad e indemnidad sexuales",
          "Contra la libertad e indemnidad sexuales",
          "Contra la libertad e indemnidad sexuales",
          "Contra la libertad e indemnidad sexuales",
          "Contra la libertad e indemnidad sexuales",
          "Contra la libertad e indemnidad sexuales",
          "Contra la libertad e indemnidad sexuales",
          "Contra la libertad e indemnidad sexuales",
          "Contra la libertad e indemnidad sexuales",
          "Contra la seguridad colectiva",
          "Contra la seguridad colectiva",
          "Contra la seguridad colectiva",
          "Contra la seguridad colectiva",
          "Contra la seguridad colectiva",
          "Contra la seguridad colectiva",
          "Contra la seguridad colectiva",
          "Contra la seguridad colectiva",
          "Contra la seguridad colectiva",
          "Contra las relaciones familiares",
          "Contra las relaciones familiares",
          "Contra las relaciones familiares",
          "Contra las relaciones familiares",
          "Contra las relaciones familiares",
          "Contra las relaciones familiares",
          "Contra las relaciones familiares",
          "Contra las relaciones familiares",
          "Contra las relaciones familiares",
          "Contra los derechos de los ciudadanos extranjeros",
          "Contra los derechos de los ciudadanos extranjeros",
          "Contra los derechos de los ciudadanos extranjeros",
          "Contra los derechos de los ciudadanos extranjeros",
          "Contra los derechos de los ciudadanos extranjeros",
          "Contra los derechos de los ciudadanos extranjeros",
          "Contra los derechos de los ciudadanos extranjeros",
          "Contra los derechos de los ciudadanos extranjeros",
          "Contra los derechos de los ciudadanos extranjeros",
          "Contra los derechos de los trabajadores",
          "Contra los derechos de los trabajadores",
          "Contra los derechos de los trabajadores",
          "Contra los derechos de los trabajadores",
          "Contra los derechos de los trabajadores",
          "Contra los derechos de los trabajadores",
          "Contra los derechos de los trabajadores",
          "Contra los derechos de los trabajadores",
          "Contra los derechos de los trabajadores",
          "Falsedades",
          "Falsedades",
          "Falsedades",
          "Falsedades",
          "Falsedades",
          "Falsedades",
          "Falsedades",
          "Falsedades",
          "Falsedades",
          "Homicidio y sus formas",
          "Homicidio y sus formas",
          "Homicidio y sus formas",
          "Homicidio y sus formas",
          "Homicidio y sus formas",
          "Homicidio y sus formas",
          "Homicidio y sus formas",
          "Homicidio y sus formas",
          "Homicidio y sus formas",
          "Lesiones",
          "Lesiones",
          "Lesiones",
          "Lesiones",
          "Lesiones",
          "Lesiones",
          "Lesiones",
          "Lesiones",
          "Lesiones",
          "Lesiones al feto",
          "Lesiones al feto",
          "Lesiones al feto",
          "Lesiones al feto",
          "Lesiones al feto",
          "Lesiones al feto",
          "Lesiones al feto",
          "Lesiones al feto",
          "Lesiones al feto",
          "Manipulación genética",
          "Manipulación genética",
          "Manipulación genética",
          "Manipulación genética",
          "Manipulación genética",
          "Manipulación genética",
          "Manipulación genética",
          "Manipulación genética",
          "Manipulación genética",
          "Omisión del deber de socorro",
          "Omisión del deber de socorro",
          "Omisión del deber de socorro",
          "Omisión del deber de socorro",
          "Omisión del deber de socorro",
          "Omisión del deber de socorro",
          "Omisión del deber de socorro",
          "Omisión del deber de socorro",
          "Omisión del deber de socorro",
          "Ordenación del territorio, urbanismo, protección del patrimonio histórico y medio ambiente",
          "Ordenación del territorio, urbanismo, protección del patrimonio histórico y medio ambiente",
          "Ordenación del territorio, urbanismo, protección del patrimonio histórico y medio ambiente",
          "Ordenación del territorio, urbanismo, protección del patrimonio histórico y medio ambiente",
          "Ordenación del territorio, urbanismo, protección del patrimonio histórico y medio ambiente",
          "Ordenación del territorio, urbanismo, protección del patrimonio histórico y medio ambiente",
          "Ordenación del territorio, urbanismo, protección del patrimonio histórico y medio ambiente",
          "Ordenación del territorio, urbanismo, protección del patrimonio histórico y medio ambiente",
          "Ordenación del territorio, urbanismo, protección del patrimonio histórico y medio ambiente",
          "Torturas e integridad moral",
          "Torturas e integridad moral",
          "Torturas e integridad moral",
          "Torturas e integridad moral",
          "Torturas e integridad moral",
          "Torturas e integridad moral",
          "Torturas e integridad moral",
          "Torturas e integridad moral",
          "Torturas e integridad moral",
          "Traición, contra la paz y defensa nacional",
          "Traición, contra la paz y defensa nacional",
          "Traición, contra la paz y defensa nacional",
          "Traición, contra la paz y defensa nacional",
          "Traición, contra la paz y defensa nacional",
          "Traición, contra la paz y defensa nacional",
          "Traición, contra la paz y defensa nacional",
          "Traición, contra la paz y defensa nacional",
          "Traición, contra la paz y defensa nacional",
          "Trata de seres humanos",
          "Trata de seres humanos",
          "Trata de seres humanos",
          "Trata de seres humanos",
          "Trata de seres humanos",
          "Trata de seres humanos",
          "Trata de seres humanos",
          "Trata de seres humanos",
          "Trata de seres humanos"
         ],
         "xaxis": "x",
         "y": [
          12,
          13,
          7,
          17,
          12,
          6,
          12,
          11,
          9,
          196,
          288,
          640,
          1686,
          1810,
          1550,
          1486,
          1218,
          1536,
          1250.262,
          1545.114,
          1888.627,
          1653.162,
          1861.672,
          1774.142,
          1230.139,
          1670.633,
          2094.391,
          1411.998,
          1669.698,
          1723.005,
          2213.324,
          1387.869,
          1235.8999999999999,
          1209.445,
          862.656,
          1023.5749999999999,
          276.902,
          356.742,
          405.779,
          444.942,
          397.961,
          366.69,
          490.053,
          303.59,
          322.429,
          971.296,
          1202.362,
          1087.23,
          1134.827,
          1196.828,
          1040.778,
          1037.872,
          749.6560000000001,
          896.265,
          28,
          28,
          46,
          22,
          16,
          28,
          20,
          16,
          24,
          434,
          494,
          582,
          726,
          798,
          678,
          652,
          610,
          798,
          647,
          712,
          938,
          937,
          1.002,
          1.396,
          1.17,
          818,
          1.001,
          1036,
          1152,
          1216,
          1390,
          1382,
          1476,
          1444,
          1212,
          1644,
          323.26800000000003,
          294.621,
          329.338,
          340.972,
          317.3,
          247.81199999999998,
          275.436,
          261.521,
          263.301,
          2630.628,
          2494.492,
          2517.515,
          2723.721,
          2766.764,
          1909.9279999999999,
          2082.514,
          1818.955,
          2330.437,
          468.663,
          485.364,
          508.024,
          497.049,
          489.74800000000005,
          453.715,
          483.23699999999997,
          341.92600000000004,
          444.148,
          24.552,
          33.872,
          32.16,
          29.874000000000002,
          27.176,
          27.377,
          22.631,
          27.366999999999997,
          14.17,
          206,
          171,
          315,
          279,
          424,
          433,
          387,
          195,
          346,
          854,
          1.018,
          941,
          1.05,
          821,
          719,
          686,
          461,
          563,
          401.15200000000004,
          373.39300000000003,
          374.546,
          359.498,
          456.125,
          415.599,
          388.14300000000003,
          322.99,
          409.757,
          1.427,
          1.295,
          1.355,
          1.252,
          1.158,
          1.087,
          1.099,
          1.036,
          1.145,
          33.767,
          34.136,
          37.082,
          55.272,
          65.519,
          67.472,
          69.437,
          53.105,
          70.678,
          47,
          53,
          34,
          33,
          32,
          30,
          26,
          20,
          41,
          3,
          1,
          2,
          4,
          0,
          4,
          4,
          4,
          4,
          82,
          85,
          77,
          68,
          70,
          73,
          46,
          43,
          68,
          1580,
          1790,
          1072.071,
          1063.062,
          1138.137,
          1103.1019999999999,
          1135.134,
          1808,
          1111.1100000000001,
          2.771,
          2.545,
          3.995,
          6.247,
          7.198,
          7.819,
          8.102,
          7.078,
          9.7,
          8,
          8,
          8,
          14,
          2,
          2,
          12,
          10,
          2,
          39,
          30,
          103,
          123,
          63,
          54,
          197,
          94,
          226
         ],
         "yaxis": "y"
        }
       ],
       "layout": {
        "barmode": "overlay",
        "coloraxis": {
         "colorbar": {
          "title": {
           "text": "Periodo"
          }
         },
         "colorscale": [
          [
           0,
           "#0d0887"
          ],
          [
           0.1111111111111111,
           "#46039f"
          ],
          [
           0.2222222222222222,
           "#7201a8"
          ],
          [
           0.3333333333333333,
           "#9c179e"
          ],
          [
           0.4444444444444444,
           "#bd3786"
          ],
          [
           0.5555555555555556,
           "#d8576b"
          ],
          [
           0.6666666666666666,
           "#ed7953"
          ],
          [
           0.7777777777777778,
           "#fb9f3a"
          ],
          [
           0.8888888888888888,
           "#fdca26"
          ],
          [
           1,
           "#f0f921"
          ]
         ]
        },
        "height": 800,
        "legend": {
         "title": {
          "text": "Tipo de delito"
         },
         "tracegroupgap": 0
        },
        "margin": {
         "t": 60
        },
        "template": {
         "data": {
          "bar": [
           {
            "error_x": {
             "color": "#f2f5fa"
            },
            "error_y": {
             "color": "#f2f5fa"
            },
            "marker": {
             "line": {
              "color": "rgb(17,17,17)",
              "width": 0.5
             },
             "pattern": {
              "fillmode": "overlay",
              "size": 10,
              "solidity": 0.2
             }
            },
            "type": "bar"
           }
          ],
          "barpolar": [
           {
            "marker": {
             "line": {
              "color": "rgb(17,17,17)",
              "width": 0.5
             },
             "pattern": {
              "fillmode": "overlay",
              "size": 10,
              "solidity": 0.2
             }
            },
            "type": "barpolar"
           }
          ],
          "carpet": [
           {
            "aaxis": {
             "endlinecolor": "#A2B1C6",
             "gridcolor": "#506784",
             "linecolor": "#506784",
             "minorgridcolor": "#506784",
             "startlinecolor": "#A2B1C6"
            },
            "baxis": {
             "endlinecolor": "#A2B1C6",
             "gridcolor": "#506784",
             "linecolor": "#506784",
             "minorgridcolor": "#506784",
             "startlinecolor": "#A2B1C6"
            },
            "type": "carpet"
           }
          ],
          "choropleth": [
           {
            "colorbar": {
             "outlinewidth": 0,
             "ticks": ""
            },
            "type": "choropleth"
           }
          ],
          "contour": [
           {
            "colorbar": {
             "outlinewidth": 0,
             "ticks": ""
            },
            "colorscale": [
             [
              0,
              "#0d0887"
             ],
             [
              0.1111111111111111,
              "#46039f"
             ],
             [
              0.2222222222222222,
              "#7201a8"
             ],
             [
              0.3333333333333333,
              "#9c179e"
             ],
             [
              0.4444444444444444,
              "#bd3786"
             ],
             [
              0.5555555555555556,
              "#d8576b"
             ],
             [
              0.6666666666666666,
              "#ed7953"
             ],
             [
              0.7777777777777778,
              "#fb9f3a"
             ],
             [
              0.8888888888888888,
              "#fdca26"
             ],
             [
              1,
              "#f0f921"
             ]
            ],
            "type": "contour"
           }
          ],
          "contourcarpet": [
           {
            "colorbar": {
             "outlinewidth": 0,
             "ticks": ""
            },
            "type": "contourcarpet"
           }
          ],
          "heatmap": [
           {
            "colorbar": {
             "outlinewidth": 0,
             "ticks": ""
            },
            "colorscale": [
             [
              0,
              "#0d0887"
             ],
             [
              0.1111111111111111,
              "#46039f"
             ],
             [
              0.2222222222222222,
              "#7201a8"
             ],
             [
              0.3333333333333333,
              "#9c179e"
             ],
             [
              0.4444444444444444,
              "#bd3786"
             ],
             [
              0.5555555555555556,
              "#d8576b"
             ],
             [
              0.6666666666666666,
              "#ed7953"
             ],
             [
              0.7777777777777778,
              "#fb9f3a"
             ],
             [
              0.8888888888888888,
              "#fdca26"
             ],
             [
              1,
              "#f0f921"
             ]
            ],
            "type": "heatmap"
           }
          ],
          "heatmapgl": [
           {
            "colorbar": {
             "outlinewidth": 0,
             "ticks": ""
            },
            "colorscale": [
             [
              0,
              "#0d0887"
             ],
             [
              0.1111111111111111,
              "#46039f"
             ],
             [
              0.2222222222222222,
              "#7201a8"
             ],
             [
              0.3333333333333333,
              "#9c179e"
             ],
             [
              0.4444444444444444,
              "#bd3786"
             ],
             [
              0.5555555555555556,
              "#d8576b"
             ],
             [
              0.6666666666666666,
              "#ed7953"
             ],
             [
              0.7777777777777778,
              "#fb9f3a"
             ],
             [
              0.8888888888888888,
              "#fdca26"
             ],
             [
              1,
              "#f0f921"
             ]
            ],
            "type": "heatmapgl"
           }
          ],
          "histogram": [
           {
            "marker": {
             "pattern": {
              "fillmode": "overlay",
              "size": 10,
              "solidity": 0.2
             }
            },
            "type": "histogram"
           }
          ],
          "histogram2d": [
           {
            "colorbar": {
             "outlinewidth": 0,
             "ticks": ""
            },
            "colorscale": [
             [
              0,
              "#0d0887"
             ],
             [
              0.1111111111111111,
              "#46039f"
             ],
             [
              0.2222222222222222,
              "#7201a8"
             ],
             [
              0.3333333333333333,
              "#9c179e"
             ],
             [
              0.4444444444444444,
              "#bd3786"
             ],
             [
              0.5555555555555556,
              "#d8576b"
             ],
             [
              0.6666666666666666,
              "#ed7953"
             ],
             [
              0.7777777777777778,
              "#fb9f3a"
             ],
             [
              0.8888888888888888,
              "#fdca26"
             ],
             [
              1,
              "#f0f921"
             ]
            ],
            "type": "histogram2d"
           }
          ],
          "histogram2dcontour": [
           {
            "colorbar": {
             "outlinewidth": 0,
             "ticks": ""
            },
            "colorscale": [
             [
              0,
              "#0d0887"
             ],
             [
              0.1111111111111111,
              "#46039f"
             ],
             [
              0.2222222222222222,
              "#7201a8"
             ],
             [
              0.3333333333333333,
              "#9c179e"
             ],
             [
              0.4444444444444444,
              "#bd3786"
             ],
             [
              0.5555555555555556,
              "#d8576b"
             ],
             [
              0.6666666666666666,
              "#ed7953"
             ],
             [
              0.7777777777777778,
              "#fb9f3a"
             ],
             [
              0.8888888888888888,
              "#fdca26"
             ],
             [
              1,
              "#f0f921"
             ]
            ],
            "type": "histogram2dcontour"
           }
          ],
          "mesh3d": [
           {
            "colorbar": {
             "outlinewidth": 0,
             "ticks": ""
            },
            "type": "mesh3d"
           }
          ],
          "parcoords": [
           {
            "line": {
             "colorbar": {
              "outlinewidth": 0,
              "ticks": ""
             }
            },
            "type": "parcoords"
           }
          ],
          "pie": [
           {
            "automargin": true,
            "type": "pie"
           }
          ],
          "scatter": [
           {
            "marker": {
             "line": {
              "color": "#283442"
             }
            },
            "type": "scatter"
           }
          ],
          "scatter3d": [
           {
            "line": {
             "colorbar": {
              "outlinewidth": 0,
              "ticks": ""
             }
            },
            "marker": {
             "colorbar": {
              "outlinewidth": 0,
              "ticks": ""
             }
            },
            "type": "scatter3d"
           }
          ],
          "scattercarpet": [
           {
            "marker": {
             "colorbar": {
              "outlinewidth": 0,
              "ticks": ""
             }
            },
            "type": "scattercarpet"
           }
          ],
          "scattergeo": [
           {
            "marker": {
             "colorbar": {
              "outlinewidth": 0,
              "ticks": ""
             }
            },
            "type": "scattergeo"
           }
          ],
          "scattergl": [
           {
            "marker": {
             "line": {
              "color": "#283442"
             }
            },
            "type": "scattergl"
           }
          ],
          "scattermapbox": [
           {
            "marker": {
             "colorbar": {
              "outlinewidth": 0,
              "ticks": ""
             }
            },
            "type": "scattermapbox"
           }
          ],
          "scatterpolar": [
           {
            "marker": {
             "colorbar": {
              "outlinewidth": 0,
              "ticks": ""
             }
            },
            "type": "scatterpolar"
           }
          ],
          "scatterpolargl": [
           {
            "marker": {
             "colorbar": {
              "outlinewidth": 0,
              "ticks": ""
             }
            },
            "type": "scatterpolargl"
           }
          ],
          "scatterternary": [
           {
            "marker": {
             "colorbar": {
              "outlinewidth": 0,
              "ticks": ""
             }
            },
            "type": "scatterternary"
           }
          ],
          "surface": [
           {
            "colorbar": {
             "outlinewidth": 0,
             "ticks": ""
            },
            "colorscale": [
             [
              0,
              "#0d0887"
             ],
             [
              0.1111111111111111,
              "#46039f"
             ],
             [
              0.2222222222222222,
              "#7201a8"
             ],
             [
              0.3333333333333333,
              "#9c179e"
             ],
             [
              0.4444444444444444,
              "#bd3786"
             ],
             [
              0.5555555555555556,
              "#d8576b"
             ],
             [
              0.6666666666666666,
              "#ed7953"
             ],
             [
              0.7777777777777778,
              "#fb9f3a"
             ],
             [
              0.8888888888888888,
              "#fdca26"
             ],
             [
              1,
              "#f0f921"
             ]
            ],
            "type": "surface"
           }
          ],
          "table": [
           {
            "cells": {
             "fill": {
              "color": "#506784"
             },
             "line": {
              "color": "rgb(17,17,17)"
             }
            },
            "header": {
             "fill": {
              "color": "#2a3f5f"
             },
             "line": {
              "color": "rgb(17,17,17)"
             }
            },
            "type": "table"
           }
          ]
         },
         "layout": {
          "annotationdefaults": {
           "arrowcolor": "#f2f5fa",
           "arrowhead": 0,
           "arrowwidth": 1
          },
          "autotypenumbers": "strict",
          "coloraxis": {
           "colorbar": {
            "outlinewidth": 0,
            "ticks": ""
           }
          },
          "colorscale": {
           "diverging": [
            [
             0,
             "#8e0152"
            ],
            [
             0.1,
             "#c51b7d"
            ],
            [
             0.2,
             "#de77ae"
            ],
            [
             0.3,
             "#f1b6da"
            ],
            [
             0.4,
             "#fde0ef"
            ],
            [
             0.5,
             "#f7f7f7"
            ],
            [
             0.6,
             "#e6f5d0"
            ],
            [
             0.7,
             "#b8e186"
            ],
            [
             0.8,
             "#7fbc41"
            ],
            [
             0.9,
             "#4d9221"
            ],
            [
             1,
             "#276419"
            ]
           ],
           "sequential": [
            [
             0,
             "#0d0887"
            ],
            [
             0.1111111111111111,
             "#46039f"
            ],
            [
             0.2222222222222222,
             "#7201a8"
            ],
            [
             0.3333333333333333,
             "#9c179e"
            ],
            [
             0.4444444444444444,
             "#bd3786"
            ],
            [
             0.5555555555555556,
             "#d8576b"
            ],
            [
             0.6666666666666666,
             "#ed7953"
            ],
            [
             0.7777777777777778,
             "#fb9f3a"
            ],
            [
             0.8888888888888888,
             "#fdca26"
            ],
            [
             1,
             "#f0f921"
            ]
           ],
           "sequentialminus": [
            [
             0,
             "#0d0887"
            ],
            [
             0.1111111111111111,
             "#46039f"
            ],
            [
             0.2222222222222222,
             "#7201a8"
            ],
            [
             0.3333333333333333,
             "#9c179e"
            ],
            [
             0.4444444444444444,
             "#bd3786"
            ],
            [
             0.5555555555555556,
             "#d8576b"
            ],
            [
             0.6666666666666666,
             "#ed7953"
            ],
            [
             0.7777777777777778,
             "#fb9f3a"
            ],
            [
             0.8888888888888888,
             "#fdca26"
            ],
            [
             1,
             "#f0f921"
            ]
           ]
          },
          "colorway": [
           "#636efa",
           "#EF553B",
           "#00cc96",
           "#ab63fa",
           "#FFA15A",
           "#19d3f3",
           "#FF6692",
           "#B6E880",
           "#FF97FF",
           "#FECB52"
          ],
          "font": {
           "color": "#f2f5fa"
          },
          "geo": {
           "bgcolor": "rgb(17,17,17)",
           "lakecolor": "rgb(17,17,17)",
           "landcolor": "rgb(17,17,17)",
           "showlakes": true,
           "showland": true,
           "subunitcolor": "#506784"
          },
          "hoverlabel": {
           "align": "left"
          },
          "hovermode": "closest",
          "mapbox": {
           "style": "dark"
          },
          "paper_bgcolor": "rgb(17,17,17)",
          "plot_bgcolor": "rgb(17,17,17)",
          "polar": {
           "angularaxis": {
            "gridcolor": "#506784",
            "linecolor": "#506784",
            "ticks": ""
           },
           "bgcolor": "rgb(17,17,17)",
           "radialaxis": {
            "gridcolor": "#506784",
            "linecolor": "#506784",
            "ticks": ""
           }
          },
          "scene": {
           "xaxis": {
            "backgroundcolor": "rgb(17,17,17)",
            "gridcolor": "#506784",
            "gridwidth": 2,
            "linecolor": "#506784",
            "showbackground": true,
            "ticks": "",
            "zerolinecolor": "#C8D4E3"
           },
           "yaxis": {
            "backgroundcolor": "rgb(17,17,17)",
            "gridcolor": "#506784",
            "gridwidth": 2,
            "linecolor": "#506784",
            "showbackground": true,
            "ticks": "",
            "zerolinecolor": "#C8D4E3"
           },
           "zaxis": {
            "backgroundcolor": "rgb(17,17,17)",
            "gridcolor": "#506784",
            "gridwidth": 2,
            "linecolor": "#506784",
            "showbackground": true,
            "ticks": "",
            "zerolinecolor": "#C8D4E3"
           }
          },
          "shapedefaults": {
           "line": {
            "color": "#f2f5fa"
           }
          },
          "sliderdefaults": {
           "bgcolor": "#C8D4E3",
           "bordercolor": "rgb(17,17,17)",
           "borderwidth": 1,
           "tickwidth": 0
          },
          "ternary": {
           "aaxis": {
            "gridcolor": "#506784",
            "linecolor": "#506784",
            "ticks": ""
           },
           "baxis": {
            "gridcolor": "#506784",
            "linecolor": "#506784",
            "ticks": ""
           },
           "bgcolor": "rgb(17,17,17)",
           "caxis": {
            "gridcolor": "#506784",
            "linecolor": "#506784",
            "ticks": ""
           }
          },
          "title": {
           "x": 0.05
          },
          "updatemenudefaults": {
           "bgcolor": "#506784",
           "borderwidth": 0
          },
          "xaxis": {
           "automargin": true,
           "gridcolor": "#283442",
           "linecolor": "#506784",
           "ticks": "",
           "title": {
            "standoff": 15
           },
           "zerolinecolor": "#283442",
           "zerolinewidth": 2
          },
          "yaxis": {
           "automargin": true,
           "gridcolor": "#283442",
           "linecolor": "#506784",
           "ticks": "",
           "title": {
            "standoff": 15
           },
           "zerolinecolor": "#283442",
           "zerolinewidth": 2
          }
         }
        },
        "title": {
         "text": "Delitos por tipo y año"
        },
        "width": 1500,
        "xaxis": {
         "anchor": "y",
         "domain": [
          0,
          1
         ],
         "title": {
          "text": "Delitos"
         }
        },
        "yaxis": {
         "anchor": "x",
         "domain": [
          0,
          1
         ],
         "title": {
          "text": "Total"
         }
        }
       }
      }
     },
     "metadata": {},
     "output_type": "display_data"
    }
   ],
   "source": [
    "\n",
    "fig = px.bar(delitos_tipo_pt,x=\"Nv2\",y=\"Total\",hover_data=\"Periodo\",color=\"Periodo\",opacity=0.6, \n",
    "             color_discrete_map={2013:\"#1f77b4\", 2014:\"#ff7f0e\", 2015:\"#2ca02c\", 2016:\"#d62728\", 2017:\"#9467bd\", 2018:\"#8c564b\", 2019:\"#e377c2\", 2020:\"#7f7f7f\",2021:\"#bcbd22\"},\n",
    "             category_orders={\"Periodo\": [2013,2014,2015,2016,2017,2018,2019,2020,2021]})\n",
    "fig.update_layout(title='Delitos por tipo y año',\n",
    "                  xaxis_title='Delitos',\n",
    "                  yaxis_title='Total',\n",
    "                  legend_title='Tipo de delito', template=\"plotly_dark\", width=1500, height=800, barmode=\"overlay\")\n",
    "# fig.update_xaxes(tickmode=\"array\", tickvals=[])\n",
    "fig.show()"
   ]
  },
  {
   "cell_type": "code",
   "execution_count": 298,
   "metadata": {},
   "outputs": [
    {
     "data": {
      "application/vnd.plotly.v1+json": {
       "config": {
        "plotlyServerURL": "https://plot.ly"
       },
       "data": [
        {
         "hovertemplate": "Nv2=Aborto<br>Periodo=%{x}<br>Incremento=%{y}<extra></extra>",
         "legendgroup": "Aborto",
         "line": {
          "color": "#636efa",
          "dash": "solid"
         },
         "marker": {
          "symbol": "circle"
         },
         "mode": "lines",
         "name": "Aborto",
         "orientation": "v",
         "showlegend": true,
         "type": "scatter",
         "x": [
          2014,
          2015,
          2016,
          2017,
          2018,
          2019,
          2020,
          2021
         ],
         "xaxis": "x",
         "y": [
          1,
          -6,
          10,
          -5,
          -6,
          6,
          -1,
          -2
         ],
         "yaxis": "y"
        },
        {
         "hovertemplate": "Nv2=Contra el honor<br>Periodo=%{x}<br>Incremento=%{y}<extra></extra>",
         "legendgroup": "Contra el honor",
         "line": {
          "color": "#EF553B",
          "dash": "solid"
         },
         "marker": {
          "symbol": "circle"
         },
         "mode": "lines",
         "name": "Contra el honor",
         "orientation": "v",
         "showlegend": true,
         "type": "scatter",
         "x": [
          2014,
          2015,
          2016,
          2017,
          2018,
          2019,
          2020,
          2021
         ],
         "xaxis": "x",
         "y": [
          92,
          352,
          1046,
          124,
          -260,
          -64,
          -268,
          318
         ],
         "yaxis": "y"
        },
        {
         "hovertemplate": "Nv2=Contra el orden público<br>Periodo=%{x}<br>Incremento=%{y}<extra></extra>",
         "legendgroup": "Contra el orden público",
         "line": {
          "color": "#00cc96",
          "dash": "solid"
         },
         "marker": {
          "symbol": "circle"
         },
         "mode": "lines",
         "name": "Contra el orden público",
         "orientation": "v",
         "showlegend": true,
         "type": "scatter",
         "x": [
          2014,
          2015,
          2016,
          2017,
          2018,
          2019,
          2020,
          2021
         ],
         "xaxis": "x",
         "y": [
          294.8520000000001,
          343.5129999999999,
          -235.46499999999992,
          208.51,
          -87.52999999999997,
          -544.0030000000002,
          440.49400000000014,
          423.75800000000004
         ],
         "yaxis": "y"
        },
        {
         "hovertemplate": "Nv2=Contra el patrimonio y el orden socioeconómico<br>Periodo=%{x}<br>Incremento=%{y}<extra></extra>",
         "legendgroup": "Contra el patrimonio y el orden socioeconómico",
         "line": {
          "color": "#ab63fa",
          "dash": "solid"
         },
         "marker": {
          "symbol": "circle"
         },
         "mode": "lines",
         "name": "Contra el patrimonio y el orden socioeconómico",
         "orientation": "v",
         "showlegend": true,
         "type": "scatter",
         "x": [
          2014,
          2015,
          2016,
          2017,
          2018,
          2019,
          2020,
          2021
         ],
         "xaxis": "x",
         "y": [
          257.70000000000005,
          53.307000000000016,
          490.31899999999996,
          -825.4550000000002,
          -151.96900000000005,
          -26.454999999999927,
          -346.789,
          160.91899999999998
         ],
         "yaxis": "y"
        },
        {
         "hovertemplate": "Nv2=Contra la Administración Pública<br>Periodo=%{x}<br>Incremento=%{y}<extra></extra>",
         "legendgroup": "Contra la Administración Pública",
         "line": {
          "color": "#FFA15A",
          "dash": "solid"
         },
         "marker": {
          "symbol": "circle"
         },
         "mode": "lines",
         "name": "Contra la Administración Pública",
         "orientation": "v",
         "showlegend": true,
         "type": "scatter",
         "x": [
          2014,
          2015,
          2016,
          2017,
          2018,
          2019,
          2020,
          2021
         ],
         "xaxis": "x",
         "y": [
          79.84000000000003,
          49.03699999999998,
          39.16300000000001,
          -46.980999999999995,
          -31.271000000000015,
          123.363,
          -186.46300000000002,
          18.839
         ],
         "yaxis": "y"
        },
        {
         "hovertemplate": "Nv2=Contra la Administración de Justicia<br>Periodo=%{x}<br>Incremento=%{y}<extra></extra>",
         "legendgroup": "Contra la Administración de Justicia",
         "line": {
          "color": "#19d3f3",
          "dash": "solid"
         },
         "marker": {
          "symbol": "circle"
         },
         "mode": "lines",
         "name": "Contra la Administración de Justicia",
         "orientation": "v",
         "showlegend": true,
         "type": "scatter",
         "x": [
          2014,
          2015,
          2016,
          2017,
          2018,
          2019,
          2020,
          2021
         ],
         "xaxis": "x",
         "y": [
          231.06600000000003,
          -115.13200000000006,
          47.59699999999998,
          62.000999999999976,
          -156.04999999999995,
          -2.905999999999949,
          -288.216,
          146.60899999999992
         ],
         "yaxis": "y"
        },
        {
         "hovertemplate": "Nv2=Contra la Comunidad Internacional<br>Periodo=%{x}<br>Incremento=%{y}<extra></extra>",
         "legendgroup": "Contra la Comunidad Internacional",
         "line": {
          "color": "#FF6692",
          "dash": "solid"
         },
         "marker": {
          "symbol": "circle"
         },
         "mode": "lines",
         "name": "Contra la Comunidad Internacional",
         "orientation": "v",
         "showlegend": true,
         "type": "scatter",
         "x": [
          2014,
          2015,
          2016,
          2017,
          2018,
          2019,
          2020,
          2021
         ],
         "xaxis": "x",
         "y": [
          0,
          18,
          -24,
          -6,
          12,
          -8,
          -4,
          8
         ],
         "yaxis": "y"
        },
        {
         "hovertemplate": "Nv2=Contra la Constitución<br>Periodo=%{x}<br>Incremento=%{y}<extra></extra>",
         "legendgroup": "Contra la Constitución",
         "line": {
          "color": "#B6E880",
          "dash": "solid"
         },
         "marker": {
          "symbol": "circle"
         },
         "mode": "lines",
         "name": "Contra la Constitución",
         "orientation": "v",
         "showlegend": true,
         "type": "scatter",
         "x": [
          2014,
          2015,
          2016,
          2017,
          2018,
          2019,
          2020,
          2021
         ],
         "xaxis": "x",
         "y": [
          60,
          88,
          144,
          72,
          -120,
          -26,
          -42,
          188
         ],
         "yaxis": "y"
        },
        {
         "hovertemplate": "Nv2=Contra la Hacienda Pública y Seguridad Social<br>Periodo=%{x}<br>Incremento=%{y}<extra></extra>",
         "legendgroup": "Contra la Hacienda Pública y Seguridad Social",
         "line": {
          "color": "#FF97FF",
          "dash": "solid"
         },
         "marker": {
          "symbol": "circle"
         },
         "mode": "lines",
         "name": "Contra la Hacienda Pública y Seguridad Social",
         "orientation": "v",
         "showlegend": true,
         "type": "scatter",
         "x": [
          2014,
          2015,
          2016,
          2017,
          2018,
          2019,
          2020,
          2021
         ],
         "xaxis": "x",
         "y": [
          65,
          226,
          -1,
          -935.998,
          0.3939999999999999,
          -0.22599999999999998,
          816.83,
          -816.999
         ],
         "yaxis": "y"
        },
        {
         "hovertemplate": "Nv2=Contra la intimidad, derecho a la propia imagen<br>Periodo=%{x}<br>Incremento=%{y}<extra></extra>",
         "legendgroup": "Contra la intimidad, derecho a la propia imagen",
         "line": {
          "color": "#FECB52",
          "dash": "solid"
         },
         "marker": {
          "symbol": "circle"
         },
         "mode": "lines",
         "name": "Contra la intimidad, derecho a la propia imagen",
         "orientation": "v",
         "showlegend": true,
         "type": "scatter",
         "x": [
          2014,
          2015,
          2016,
          2017,
          2018,
          2019,
          2020,
          2021
         ],
         "xaxis": "x",
         "y": [
          116,
          64,
          174,
          -8,
          94,
          -32,
          -232,
          432
         ],
         "yaxis": "y"
        },
        {
         "hovertemplate": "Nv2=Contra la libertad<br>Periodo=%{x}<br>Incremento=%{y}<extra></extra>",
         "legendgroup": "Contra la libertad",
         "line": {
          "color": "#636efa",
          "dash": "solid"
         },
         "marker": {
          "symbol": "circle"
         },
         "mode": "lines",
         "name": "Contra la libertad",
         "orientation": "v",
         "showlegend": true,
         "type": "scatter",
         "x": [
          2014,
          2015,
          2016,
          2017,
          2018,
          2019,
          2020,
          2021
         ],
         "xaxis": "x",
         "y": [
          -28.647000000000048,
          34.71700000000004,
          11.633999999999958,
          -23.67199999999997,
          -69.48800000000003,
          27.623999999999995,
          -13.914999999999964,
          1.7799999999999727
         ],
         "yaxis": "y"
        },
        {
         "hovertemplate": "Nv2=Contra la libertad e indemnidad sexuales<br>Periodo=%{x}<br>Incremento=%{y}<extra></extra>",
         "legendgroup": "Contra la libertad e indemnidad sexuales",
         "line": {
          "color": "#EF553B",
          "dash": "solid"
         },
         "marker": {
          "symbol": "circle"
         },
         "mode": "lines",
         "name": "Contra la libertad e indemnidad sexuales",
         "orientation": "v",
         "showlegend": true,
         "type": "scatter",
         "x": [
          2014,
          2015,
          2016,
          2017,
          2018,
          2019,
          2020,
          2021
         ],
         "xaxis": "x",
         "y": [
          -136.13599999999997,
          23.022999999999683,
          206.20600000000013,
          43.04300000000012,
          -856.8360000000002,
          172.58600000000024,
          -263.5590000000002,
          511.48199999999997
         ],
         "yaxis": "y"
        },
        {
         "hovertemplate": "Nv2=Contra la seguridad colectiva<br>Periodo=%{x}<br>Incremento=%{y}<extra></extra>",
         "legendgroup": "Contra la seguridad colectiva",
         "line": {
          "color": "#00cc96",
          "dash": "solid"
         },
         "marker": {
          "symbol": "circle"
         },
         "mode": "lines",
         "name": "Contra la seguridad colectiva",
         "orientation": "v",
         "showlegend": true,
         "type": "scatter",
         "x": [
          2014,
          2015,
          2016,
          2017,
          2018,
          2019,
          2020,
          2021
         ],
         "xaxis": "x",
         "y": [
          16.700999999999965,
          22.660000000000025,
          -10.975000000000023,
          -7.300999999999931,
          -36.03300000000007,
          29.52199999999999,
          -141.31099999999992,
          102.22199999999998
         ],
         "yaxis": "y"
        },
        {
         "hovertemplate": "Nv2=Contra las relaciones familiares<br>Periodo=%{x}<br>Incremento=%{y}<extra></extra>",
         "legendgroup": "Contra las relaciones familiares",
         "line": {
          "color": "#ab63fa",
          "dash": "solid"
         },
         "marker": {
          "symbol": "circle"
         },
         "mode": "lines",
         "name": "Contra las relaciones familiares",
         "orientation": "v",
         "showlegend": true,
         "type": "scatter",
         "x": [
          2014,
          2015,
          2016,
          2017,
          2018,
          2019,
          2020,
          2021
         ],
         "xaxis": "x",
         "y": [
          9.32,
          -1.7120000000000033,
          -2.2859999999999943,
          -2.698000000000004,
          0.2010000000000005,
          -4.745999999999999,
          4.735999999999997,
          -13.196999999999997
         ],
         "yaxis": "y"
        },
        {
         "hovertemplate": "Nv2=Contra los derechos de los ciudadanos extranjeros<br>Periodo=%{x}<br>Incremento=%{y}<extra></extra>",
         "legendgroup": "Contra los derechos de los ciudadanos extranjeros",
         "line": {
          "color": "#FFA15A",
          "dash": "solid"
         },
         "marker": {
          "symbol": "circle"
         },
         "mode": "lines",
         "name": "Contra los derechos de los ciudadanos extranjeros",
         "orientation": "v",
         "showlegend": true,
         "type": "scatter",
         "x": [
          2014,
          2015,
          2016,
          2017,
          2018,
          2019,
          2020,
          2021
         ],
         "xaxis": "x",
         "y": [
          -35,
          144,
          -36,
          145,
          9,
          -46,
          -192,
          151
         ],
         "yaxis": "y"
        },
        {
         "hovertemplate": "Nv2=Contra los derechos de los trabajadores<br>Periodo=%{x}<br>Incremento=%{y}<extra></extra>",
         "legendgroup": "Contra los derechos de los trabajadores",
         "line": {
          "color": "#19d3f3",
          "dash": "solid"
         },
         "marker": {
          "symbol": "circle"
         },
         "mode": "lines",
         "name": "Contra los derechos de los trabajadores",
         "orientation": "v",
         "showlegend": true,
         "type": "scatter",
         "x": [
          2014,
          2015,
          2016,
          2017,
          2018,
          2019,
          2020,
          2021
         ],
         "xaxis": "x",
         "y": [
          -852.982,
          939.982,
          -939.95,
          819.95,
          -102,
          -33,
          -225,
          102
         ],
         "yaxis": "y"
        },
        {
         "hovertemplate": "Nv2=Falsedades<br>Periodo=%{x}<br>Incremento=%{y}<extra></extra>",
         "legendgroup": "Falsedades",
         "line": {
          "color": "#FF6692",
          "dash": "solid"
         },
         "marker": {
          "symbol": "circle"
         },
         "mode": "lines",
         "name": "Falsedades",
         "orientation": "v",
         "showlegend": true,
         "type": "scatter",
         "x": [
          2014,
          2015,
          2016,
          2017,
          2018,
          2019,
          2020,
          2021
         ],
         "xaxis": "x",
         "y": [
          -27.759000000000015,
          1.1529999999999632,
          -15.048000000000002,
          96.62700000000001,
          -40.52600000000001,
          -27.45599999999996,
          -65.15300000000002,
          86.767
         ],
         "yaxis": "y"
        },
        {
         "hovertemplate": "Nv2=Homicidio y sus formas<br>Periodo=%{x}<br>Incremento=%{y}<extra></extra>",
         "legendgroup": "Homicidio y sus formas",
         "line": {
          "color": "#B6E880",
          "dash": "solid"
         },
         "marker": {
          "symbol": "circle"
         },
         "mode": "lines",
         "name": "Homicidio y sus formas",
         "orientation": "v",
         "showlegend": true,
         "type": "scatter",
         "x": [
          2014,
          2015,
          2016,
          2017,
          2018,
          2019,
          2020,
          2021
         ],
         "xaxis": "x",
         "y": [
          -0.13200000000000012,
          0.06000000000000005,
          -0.10299999999999998,
          -0.09400000000000008,
          -0.07099999999999995,
          0.01200000000000001,
          -0.06299999999999994,
          0.10899999999999999
         ],
         "yaxis": "y"
        },
        {
         "hovertemplate": "Nv2=Lesiones<br>Periodo=%{x}<br>Incremento=%{y}<extra></extra>",
         "legendgroup": "Lesiones",
         "line": {
          "color": "#FF97FF",
          "dash": "solid"
         },
         "marker": {
          "symbol": "circle"
         },
         "mode": "lines",
         "name": "Lesiones",
         "orientation": "v",
         "showlegend": true,
         "type": "scatter",
         "x": [
          2014,
          2015,
          2016,
          2017,
          2018,
          2019,
          2020,
          2021
         ],
         "xaxis": "x",
         "y": [
          0.3689999999999998,
          2.945999999999998,
          18.189999999999998,
          10.247000000000007,
          1.9529999999999887,
          1.9650000000000034,
          -16.332,
          17.573
         ],
         "yaxis": "y"
        },
        {
         "hovertemplate": "Nv2=Lesiones al feto<br>Periodo=%{x}<br>Incremento=%{y}<extra></extra>",
         "legendgroup": "Lesiones al feto",
         "line": {
          "color": "#FECB52",
          "dash": "solid"
         },
         "marker": {
          "symbol": "circle"
         },
         "mode": "lines",
         "name": "Lesiones al feto",
         "orientation": "v",
         "showlegend": true,
         "type": "scatter",
         "x": [
          2014,
          2015,
          2016,
          2017,
          2018,
          2019,
          2020,
          2021
         ],
         "xaxis": "x",
         "y": [
          6,
          -19,
          -1,
          -1,
          -2,
          -4,
          -6,
          21
         ],
         "yaxis": "y"
        },
        {
         "hovertemplate": "Nv2=Manipulación genética<br>Periodo=%{x}<br>Incremento=%{y}<extra></extra>",
         "legendgroup": "Manipulación genética",
         "line": {
          "color": "#636efa",
          "dash": "solid"
         },
         "marker": {
          "symbol": "circle"
         },
         "mode": "lines",
         "name": "Manipulación genética",
         "orientation": "v",
         "showlegend": true,
         "type": "scatter",
         "x": [
          2014,
          2015,
          2016,
          2017,
          2018,
          2019,
          2020,
          2021
         ],
         "xaxis": "x",
         "y": [
          -2,
          1,
          2,
          -4,
          4,
          0,
          0,
          0
         ],
         "yaxis": "y"
        },
        {
         "hovertemplate": "Nv2=Omisión del deber de socorro<br>Periodo=%{x}<br>Incremento=%{y}<extra></extra>",
         "legendgroup": "Omisión del deber de socorro",
         "line": {
          "color": "#EF553B",
          "dash": "solid"
         },
         "marker": {
          "symbol": "circle"
         },
         "mode": "lines",
         "name": "Omisión del deber de socorro",
         "orientation": "v",
         "showlegend": true,
         "type": "scatter",
         "x": [
          2014,
          2015,
          2016,
          2017,
          2018,
          2019,
          2020,
          2021
         ],
         "xaxis": "x",
         "y": [
          3,
          -8,
          -9,
          2,
          3,
          -27,
          -3,
          25
         ],
         "yaxis": "y"
        },
        {
         "hovertemplate": "Nv2=Ordenación del territorio, urbanismo, protección del patrimonio histórico y medio ambiente<br>Periodo=%{x}<br>Incremento=%{y}<extra></extra>",
         "legendgroup": "Ordenación del territorio, urbanismo, protección del patrimonio histórico y medio ambiente",
         "line": {
          "color": "#00cc96",
          "dash": "solid"
         },
         "marker": {
          "symbol": "circle"
         },
         "mode": "lines",
         "name": "Ordenación del territorio, urbanismo, protección del patrimonio histórico y medio ambiente",
         "orientation": "v",
         "showlegend": true,
         "type": "scatter",
         "x": [
          2014,
          2015,
          2016,
          2017,
          2018,
          2019,
          2020,
          2021
         ],
         "xaxis": "x",
         "y": [
          210,
          -717.9290000000001,
          -9.009000000000015,
          75.07500000000005,
          -35.03500000000008,
          32.03200000000015,
          672.866,
          -696.8899999999999
         ],
         "yaxis": "y"
        },
        {
         "hovertemplate": "Nv2=Torturas e integridad moral<br>Periodo=%{x}<br>Incremento=%{y}<extra></extra>",
         "legendgroup": "Torturas e integridad moral",
         "line": {
          "color": "#ab63fa",
          "dash": "solid"
         },
         "marker": {
          "symbol": "circle"
         },
         "mode": "lines",
         "name": "Torturas e integridad moral",
         "orientation": "v",
         "showlegend": true,
         "type": "scatter",
         "x": [
          2014,
          2015,
          2016,
          2017,
          2018,
          2019,
          2020,
          2021
         ],
         "xaxis": "x",
         "y": [
          -0.22599999999999998,
          1.4500000000000002,
          2.252,
          0.9510000000000005,
          0.6209999999999996,
          0.28300000000000036,
          -1.024,
          2.621999999999999
         ],
         "yaxis": "y"
        },
        {
         "hovertemplate": "Nv2=Traición, contra la paz y defensa nacional<br>Periodo=%{x}<br>Incremento=%{y}<extra></extra>",
         "legendgroup": "Traición, contra la paz y defensa nacional",
         "line": {
          "color": "#FFA15A",
          "dash": "solid"
         },
         "marker": {
          "symbol": "circle"
         },
         "mode": "lines",
         "name": "Traición, contra la paz y defensa nacional",
         "orientation": "v",
         "showlegend": true,
         "type": "scatter",
         "x": [
          2014,
          2015,
          2016,
          2017,
          2018,
          2019,
          2020,
          2021
         ],
         "xaxis": "x",
         "y": [
          0,
          0,
          6,
          -12,
          0,
          10,
          -2,
          -8
         ],
         "yaxis": "y"
        },
        {
         "hovertemplate": "Nv2=Trata de seres humanos<br>Periodo=%{x}<br>Incremento=%{y}<extra></extra>",
         "legendgroup": "Trata de seres humanos",
         "line": {
          "color": "#19d3f3",
          "dash": "solid"
         },
         "marker": {
          "symbol": "circle"
         },
         "mode": "lines",
         "name": "Trata de seres humanos",
         "orientation": "v",
         "showlegend": true,
         "type": "scatter",
         "x": [
          2014,
          2015,
          2016,
          2017,
          2018,
          2019,
          2020,
          2021
         ],
         "xaxis": "x",
         "y": [
          -9,
          73,
          20,
          -60,
          -9,
          143,
          -103,
          132
         ],
         "yaxis": "y"
        }
       ],
       "layout": {
        "height": 800,
        "legend": {
         "title": {
          "text": "Tipo de delito"
         },
         "tracegroupgap": 0
        },
        "margin": {
         "t": 60
        },
        "template": {
         "data": {
          "bar": [
           {
            "error_x": {
             "color": "#f2f5fa"
            },
            "error_y": {
             "color": "#f2f5fa"
            },
            "marker": {
             "line": {
              "color": "rgb(17,17,17)",
              "width": 0.5
             },
             "pattern": {
              "fillmode": "overlay",
              "size": 10,
              "solidity": 0.2
             }
            },
            "type": "bar"
           }
          ],
          "barpolar": [
           {
            "marker": {
             "line": {
              "color": "rgb(17,17,17)",
              "width": 0.5
             },
             "pattern": {
              "fillmode": "overlay",
              "size": 10,
              "solidity": 0.2
             }
            },
            "type": "barpolar"
           }
          ],
          "carpet": [
           {
            "aaxis": {
             "endlinecolor": "#A2B1C6",
             "gridcolor": "#506784",
             "linecolor": "#506784",
             "minorgridcolor": "#506784",
             "startlinecolor": "#A2B1C6"
            },
            "baxis": {
             "endlinecolor": "#A2B1C6",
             "gridcolor": "#506784",
             "linecolor": "#506784",
             "minorgridcolor": "#506784",
             "startlinecolor": "#A2B1C6"
            },
            "type": "carpet"
           }
          ],
          "choropleth": [
           {
            "colorbar": {
             "outlinewidth": 0,
             "ticks": ""
            },
            "type": "choropleth"
           }
          ],
          "contour": [
           {
            "colorbar": {
             "outlinewidth": 0,
             "ticks": ""
            },
            "colorscale": [
             [
              0,
              "#0d0887"
             ],
             [
              0.1111111111111111,
              "#46039f"
             ],
             [
              0.2222222222222222,
              "#7201a8"
             ],
             [
              0.3333333333333333,
              "#9c179e"
             ],
             [
              0.4444444444444444,
              "#bd3786"
             ],
             [
              0.5555555555555556,
              "#d8576b"
             ],
             [
              0.6666666666666666,
              "#ed7953"
             ],
             [
              0.7777777777777778,
              "#fb9f3a"
             ],
             [
              0.8888888888888888,
              "#fdca26"
             ],
             [
              1,
              "#f0f921"
             ]
            ],
            "type": "contour"
           }
          ],
          "contourcarpet": [
           {
            "colorbar": {
             "outlinewidth": 0,
             "ticks": ""
            },
            "type": "contourcarpet"
           }
          ],
          "heatmap": [
           {
            "colorbar": {
             "outlinewidth": 0,
             "ticks": ""
            },
            "colorscale": [
             [
              0,
              "#0d0887"
             ],
             [
              0.1111111111111111,
              "#46039f"
             ],
             [
              0.2222222222222222,
              "#7201a8"
             ],
             [
              0.3333333333333333,
              "#9c179e"
             ],
             [
              0.4444444444444444,
              "#bd3786"
             ],
             [
              0.5555555555555556,
              "#d8576b"
             ],
             [
              0.6666666666666666,
              "#ed7953"
             ],
             [
              0.7777777777777778,
              "#fb9f3a"
             ],
             [
              0.8888888888888888,
              "#fdca26"
             ],
             [
              1,
              "#f0f921"
             ]
            ],
            "type": "heatmap"
           }
          ],
          "heatmapgl": [
           {
            "colorbar": {
             "outlinewidth": 0,
             "ticks": ""
            },
            "colorscale": [
             [
              0,
              "#0d0887"
             ],
             [
              0.1111111111111111,
              "#46039f"
             ],
             [
              0.2222222222222222,
              "#7201a8"
             ],
             [
              0.3333333333333333,
              "#9c179e"
             ],
             [
              0.4444444444444444,
              "#bd3786"
             ],
             [
              0.5555555555555556,
              "#d8576b"
             ],
             [
              0.6666666666666666,
              "#ed7953"
             ],
             [
              0.7777777777777778,
              "#fb9f3a"
             ],
             [
              0.8888888888888888,
              "#fdca26"
             ],
             [
              1,
              "#f0f921"
             ]
            ],
            "type": "heatmapgl"
           }
          ],
          "histogram": [
           {
            "marker": {
             "pattern": {
              "fillmode": "overlay",
              "size": 10,
              "solidity": 0.2
             }
            },
            "type": "histogram"
           }
          ],
          "histogram2d": [
           {
            "colorbar": {
             "outlinewidth": 0,
             "ticks": ""
            },
            "colorscale": [
             [
              0,
              "#0d0887"
             ],
             [
              0.1111111111111111,
              "#46039f"
             ],
             [
              0.2222222222222222,
              "#7201a8"
             ],
             [
              0.3333333333333333,
              "#9c179e"
             ],
             [
              0.4444444444444444,
              "#bd3786"
             ],
             [
              0.5555555555555556,
              "#d8576b"
             ],
             [
              0.6666666666666666,
              "#ed7953"
             ],
             [
              0.7777777777777778,
              "#fb9f3a"
             ],
             [
              0.8888888888888888,
              "#fdca26"
             ],
             [
              1,
              "#f0f921"
             ]
            ],
            "type": "histogram2d"
           }
          ],
          "histogram2dcontour": [
           {
            "colorbar": {
             "outlinewidth": 0,
             "ticks": ""
            },
            "colorscale": [
             [
              0,
              "#0d0887"
             ],
             [
              0.1111111111111111,
              "#46039f"
             ],
             [
              0.2222222222222222,
              "#7201a8"
             ],
             [
              0.3333333333333333,
              "#9c179e"
             ],
             [
              0.4444444444444444,
              "#bd3786"
             ],
             [
              0.5555555555555556,
              "#d8576b"
             ],
             [
              0.6666666666666666,
              "#ed7953"
             ],
             [
              0.7777777777777778,
              "#fb9f3a"
             ],
             [
              0.8888888888888888,
              "#fdca26"
             ],
             [
              1,
              "#f0f921"
             ]
            ],
            "type": "histogram2dcontour"
           }
          ],
          "mesh3d": [
           {
            "colorbar": {
             "outlinewidth": 0,
             "ticks": ""
            },
            "type": "mesh3d"
           }
          ],
          "parcoords": [
           {
            "line": {
             "colorbar": {
              "outlinewidth": 0,
              "ticks": ""
             }
            },
            "type": "parcoords"
           }
          ],
          "pie": [
           {
            "automargin": true,
            "type": "pie"
           }
          ],
          "scatter": [
           {
            "marker": {
             "line": {
              "color": "#283442"
             }
            },
            "type": "scatter"
           }
          ],
          "scatter3d": [
           {
            "line": {
             "colorbar": {
              "outlinewidth": 0,
              "ticks": ""
             }
            },
            "marker": {
             "colorbar": {
              "outlinewidth": 0,
              "ticks": ""
             }
            },
            "type": "scatter3d"
           }
          ],
          "scattercarpet": [
           {
            "marker": {
             "colorbar": {
              "outlinewidth": 0,
              "ticks": ""
             }
            },
            "type": "scattercarpet"
           }
          ],
          "scattergeo": [
           {
            "marker": {
             "colorbar": {
              "outlinewidth": 0,
              "ticks": ""
             }
            },
            "type": "scattergeo"
           }
          ],
          "scattergl": [
           {
            "marker": {
             "line": {
              "color": "#283442"
             }
            },
            "type": "scattergl"
           }
          ],
          "scattermapbox": [
           {
            "marker": {
             "colorbar": {
              "outlinewidth": 0,
              "ticks": ""
             }
            },
            "type": "scattermapbox"
           }
          ],
          "scatterpolar": [
           {
            "marker": {
             "colorbar": {
              "outlinewidth": 0,
              "ticks": ""
             }
            },
            "type": "scatterpolar"
           }
          ],
          "scatterpolargl": [
           {
            "marker": {
             "colorbar": {
              "outlinewidth": 0,
              "ticks": ""
             }
            },
            "type": "scatterpolargl"
           }
          ],
          "scatterternary": [
           {
            "marker": {
             "colorbar": {
              "outlinewidth": 0,
              "ticks": ""
             }
            },
            "type": "scatterternary"
           }
          ],
          "surface": [
           {
            "colorbar": {
             "outlinewidth": 0,
             "ticks": ""
            },
            "colorscale": [
             [
              0,
              "#0d0887"
             ],
             [
              0.1111111111111111,
              "#46039f"
             ],
             [
              0.2222222222222222,
              "#7201a8"
             ],
             [
              0.3333333333333333,
              "#9c179e"
             ],
             [
              0.4444444444444444,
              "#bd3786"
             ],
             [
              0.5555555555555556,
              "#d8576b"
             ],
             [
              0.6666666666666666,
              "#ed7953"
             ],
             [
              0.7777777777777778,
              "#fb9f3a"
             ],
             [
              0.8888888888888888,
              "#fdca26"
             ],
             [
              1,
              "#f0f921"
             ]
            ],
            "type": "surface"
           }
          ],
          "table": [
           {
            "cells": {
             "fill": {
              "color": "#506784"
             },
             "line": {
              "color": "rgb(17,17,17)"
             }
            },
            "header": {
             "fill": {
              "color": "#2a3f5f"
             },
             "line": {
              "color": "rgb(17,17,17)"
             }
            },
            "type": "table"
           }
          ]
         },
         "layout": {
          "annotationdefaults": {
           "arrowcolor": "#f2f5fa",
           "arrowhead": 0,
           "arrowwidth": 1
          },
          "autotypenumbers": "strict",
          "coloraxis": {
           "colorbar": {
            "outlinewidth": 0,
            "ticks": ""
           }
          },
          "colorscale": {
           "diverging": [
            [
             0,
             "#8e0152"
            ],
            [
             0.1,
             "#c51b7d"
            ],
            [
             0.2,
             "#de77ae"
            ],
            [
             0.3,
             "#f1b6da"
            ],
            [
             0.4,
             "#fde0ef"
            ],
            [
             0.5,
             "#f7f7f7"
            ],
            [
             0.6,
             "#e6f5d0"
            ],
            [
             0.7,
             "#b8e186"
            ],
            [
             0.8,
             "#7fbc41"
            ],
            [
             0.9,
             "#4d9221"
            ],
            [
             1,
             "#276419"
            ]
           ],
           "sequential": [
            [
             0,
             "#0d0887"
            ],
            [
             0.1111111111111111,
             "#46039f"
            ],
            [
             0.2222222222222222,
             "#7201a8"
            ],
            [
             0.3333333333333333,
             "#9c179e"
            ],
            [
             0.4444444444444444,
             "#bd3786"
            ],
            [
             0.5555555555555556,
             "#d8576b"
            ],
            [
             0.6666666666666666,
             "#ed7953"
            ],
            [
             0.7777777777777778,
             "#fb9f3a"
            ],
            [
             0.8888888888888888,
             "#fdca26"
            ],
            [
             1,
             "#f0f921"
            ]
           ],
           "sequentialminus": [
            [
             0,
             "#0d0887"
            ],
            [
             0.1111111111111111,
             "#46039f"
            ],
            [
             0.2222222222222222,
             "#7201a8"
            ],
            [
             0.3333333333333333,
             "#9c179e"
            ],
            [
             0.4444444444444444,
             "#bd3786"
            ],
            [
             0.5555555555555556,
             "#d8576b"
            ],
            [
             0.6666666666666666,
             "#ed7953"
            ],
            [
             0.7777777777777778,
             "#fb9f3a"
            ],
            [
             0.8888888888888888,
             "#fdca26"
            ],
            [
             1,
             "#f0f921"
            ]
           ]
          },
          "colorway": [
           "#636efa",
           "#EF553B",
           "#00cc96",
           "#ab63fa",
           "#FFA15A",
           "#19d3f3",
           "#FF6692",
           "#B6E880",
           "#FF97FF",
           "#FECB52"
          ],
          "font": {
           "color": "#f2f5fa"
          },
          "geo": {
           "bgcolor": "rgb(17,17,17)",
           "lakecolor": "rgb(17,17,17)",
           "landcolor": "rgb(17,17,17)",
           "showlakes": true,
           "showland": true,
           "subunitcolor": "#506784"
          },
          "hoverlabel": {
           "align": "left"
          },
          "hovermode": "closest",
          "mapbox": {
           "style": "dark"
          },
          "paper_bgcolor": "rgb(17,17,17)",
          "plot_bgcolor": "rgb(17,17,17)",
          "polar": {
           "angularaxis": {
            "gridcolor": "#506784",
            "linecolor": "#506784",
            "ticks": ""
           },
           "bgcolor": "rgb(17,17,17)",
           "radialaxis": {
            "gridcolor": "#506784",
            "linecolor": "#506784",
            "ticks": ""
           }
          },
          "scene": {
           "xaxis": {
            "backgroundcolor": "rgb(17,17,17)",
            "gridcolor": "#506784",
            "gridwidth": 2,
            "linecolor": "#506784",
            "showbackground": true,
            "ticks": "",
            "zerolinecolor": "#C8D4E3"
           },
           "yaxis": {
            "backgroundcolor": "rgb(17,17,17)",
            "gridcolor": "#506784",
            "gridwidth": 2,
            "linecolor": "#506784",
            "showbackground": true,
            "ticks": "",
            "zerolinecolor": "#C8D4E3"
           },
           "zaxis": {
            "backgroundcolor": "rgb(17,17,17)",
            "gridcolor": "#506784",
            "gridwidth": 2,
            "linecolor": "#506784",
            "showbackground": true,
            "ticks": "",
            "zerolinecolor": "#C8D4E3"
           }
          },
          "shapedefaults": {
           "line": {
            "color": "#f2f5fa"
           }
          },
          "sliderdefaults": {
           "bgcolor": "#C8D4E3",
           "bordercolor": "rgb(17,17,17)",
           "borderwidth": 1,
           "tickwidth": 0
          },
          "ternary": {
           "aaxis": {
            "gridcolor": "#506784",
            "linecolor": "#506784",
            "ticks": ""
           },
           "baxis": {
            "gridcolor": "#506784",
            "linecolor": "#506784",
            "ticks": ""
           },
           "bgcolor": "rgb(17,17,17)",
           "caxis": {
            "gridcolor": "#506784",
            "linecolor": "#506784",
            "ticks": ""
           }
          },
          "title": {
           "x": 0.05
          },
          "updatemenudefaults": {
           "bgcolor": "#506784",
           "borderwidth": 0
          },
          "xaxis": {
           "automargin": true,
           "gridcolor": "#283442",
           "linecolor": "#506784",
           "ticks": "",
           "title": {
            "standoff": 15
           },
           "zerolinecolor": "#283442",
           "zerolinewidth": 2
          },
          "yaxis": {
           "automargin": true,
           "gridcolor": "#283442",
           "linecolor": "#506784",
           "ticks": "",
           "title": {
            "standoff": 15
           },
           "zerolinecolor": "#283442",
           "zerolinewidth": 2
          }
         }
        },
        "title": {
         "text": "Incremento anual de delitos por tipo"
        },
        "width": 1500,
        "xaxis": {
         "anchor": "y",
         "domain": [
          0,
          1
         ],
         "title": {
          "text": "Año"
         }
        },
        "yaxis": {
         "anchor": "x",
         "domain": [
          0,
          1
         ],
         "title": {
          "text": "Incremento"
         }
        }
       }
      }
     },
     "metadata": {},
     "output_type": "display_data"
    }
   ],
   "source": [
    "delitos_tipo_pt_f = delitos_tipo_pt[delitos_tipo_pt['Periodo'] != 2013]\n",
    "fig = px.line(delitos_tipo_pt_f, x='Periodo', y='Incremento', color='Nv2')\n",
    "\n",
    "fig.update_layout(title='Incremento anual de delitos por tipo',\n",
    "                  xaxis_title='Año',\n",
    "                  yaxis_title='Incremento',\n",
    "                  legend_title='Tipo de delito', template=\"plotly_dark\", width=1500, height=800)\n",
    "\n",
    "fig.show()"
   ]
  },
  {
   "cell_type": "code",
   "execution_count": 299,
   "metadata": {},
   "outputs": [
    {
     "data": {
      "application/vnd.plotly.v1+json": {
       "config": {
        "plotlyServerURL": "https://plot.ly"
       },
       "data": [
        {
         "coloraxis": "coloraxis",
         "hovertemplate": "Nv2: %{x}<br>Nv2: %{y}<br>color: %{z}<extra></extra>",
         "name": "0",
         "texttemplate": "%{z}",
         "type": "heatmap",
         "x": [
          "Aborto",
          "Contra el honor",
          "Contra el orden público",
          "Contra el patrimonio y el orden socioeconómico",
          "Contra la Administración Pública",
          "Contra la Administración de Justicia",
          "Contra la Comunidad Internacional",
          "Contra la Constitución",
          "Contra la Hacienda Pública y Seguridad Social",
          "Contra la intimidad, derecho a la propia imagen",
          "Contra la libertad",
          "Contra la libertad e indemnidad sexuales",
          "Contra la seguridad colectiva",
          "Contra las relaciones familiares",
          "Contra los derechos de los ciudadanos extranjeros",
          "Contra los derechos de los trabajadores",
          "Falsedades",
          "Homicidio y sus formas",
          "Lesiones",
          "Lesiones al feto",
          "Manipulación genética",
          "Omisión del deber de socorro",
          "Ordenación del territorio, urbanismo, protección del patrimonio histórico y medio ambiente",
          "Torturas e integridad moral",
          "Traición, contra la paz y defensa nacional",
          "Trata de seres humanos"
         ],
         "xaxis": "x",
         "y": [
          "Aborto",
          "Contra el honor",
          "Contra el orden público",
          "Contra el patrimonio y el orden socioeconómico",
          "Contra la Administración Pública",
          "Contra la Administración de Justicia",
          "Contra la Comunidad Internacional",
          "Contra la Constitución",
          "Contra la Hacienda Pública y Seguridad Social",
          "Contra la intimidad, derecho a la propia imagen",
          "Contra la libertad",
          "Contra la libertad e indemnidad sexuales",
          "Contra la seguridad colectiva",
          "Contra las relaciones familiares",
          "Contra los derechos de los ciudadanos extranjeros",
          "Contra los derechos de los trabajadores",
          "Falsedades",
          "Homicidio y sus formas",
          "Lesiones",
          "Lesiones al feto",
          "Manipulación genética",
          "Omisión del deber de socorro",
          "Ordenación del territorio, urbanismo, protección del patrimonio histórico y medio ambiente",
          "Torturas e integridad moral",
          "Traición, contra la paz y defensa nacional",
          "Trata de seres humanos"
         ],
         "yaxis": "y",
         "z": [
          [
           1,
           0.5271303593699899,
           -0.5756296489640639,
           0.4970656172593457,
           0.10806213529764919,
           0.1856733929992614,
           -0.058635977505257224,
           0.16315700107175796,
           0.17089742365179703,
           0.04209958849411773,
           0.006816577875982713,
           0.19849433718287168,
           -0.018066129830921995,
           -0.02317316518991103,
           -0.41477158567066624,
           -0.6758496673343882,
           -0.22149224492039882,
           -0.023054653437287503,
           0.19363409757336136,
           0.10042188685938692,
           -0.007693724754715421,
           -0.19510159253317588,
           0.18685123150763458,
           -0.022595698284725258,
           0.6827162625873735,
           0.24562819614638956
          ],
          [
           0.5271303593699899,
           1,
           -0.12841662820434543,
           0.5032819356603805,
           0.1126413546407595,
           0.2636720941842121,
           -0.03573140848588724,
           0.49957642846638717,
           -0.24105791829671167,
           0.2634853611005085,
           0.01913908401754691,
           0.26747627806471375,
           0.02367769294381668,
           -0.02975314134078555,
           0.2644992573129552,
           -0.21411216891424995,
           0.1914639645306131,
           -0.016348933489493858,
           0.5643396868091223,
           0.05706875647235198,
           -0.0025434838954944408,
           0.018127977796360457,
           -0.24276720850444514,
           -0.014038438899828698,
           0.15006304575355367,
           0.26879890084854735
          ],
          [
           -0.5756296489640639,
           -0.12841662820434543,
           1,
           0.00908160850499354,
           0.18301486588250557,
           -0.30956107182744325,
           0.38266820091670856,
           -0.11359484516276952,
           0.005398209930207864,
           -0.2804559102712746,
           0.3531709700767302,
           -0.3125789721341552,
           0.35317652986710635,
           0.36916720416301396,
           0.016653434862016547,
           0.14569177723217067,
           0.4416807514480219,
           0.36389532022484694,
           -0.39139025326244065,
           0.3339998210160467,
           0.30397387881437965,
           -0.02200421737805154,
           -0.34845681574159104,
           0.3636362703976844,
           -0.6730368789044554,
           -0.3645408831628393
          ],
          [
           0.4970656172593457,
           0.5032819356603805,
           0.00908160850499354,
           1,
           0.6253742966042286,
           -0.21506751573548114,
           0.48263423488571233,
           -0.1730942366881617,
           0.21624119182587886,
           -0.19666951812422478,
           0.5076581752162562,
           -0.3382090674258385,
           0.5202324925983269,
           0.486001451699375,
           -0.3148490710813857,
           -0.6631570570640115,
           0.15426234970671532,
           0.48812168159903474,
           -0.10630416499666769,
           0.4290462923376326,
           0.5534608326373073,
           -0.4440870946662586,
           -0.5537904434978345,
           0.4891047661366099,
           0.5384255503092237,
           0.411575230293195
          ],
          [
           0.10806213529764919,
           0.1126413546407595,
           0.18301486588250557,
           0.6253742966042286,
           1,
           -0.6367828317696935,
           0.9410254195688784,
           -0.6764739703086216,
           -0.050725486734378974,
           -0.7458970292848225,
           0.9499717410128429,
           -0.796398201137683,
           0.9639385183082139,
           0.9380529050230175,
           -0.3257094683709411,
           -0.29623008306901477,
           0.6861969171721378,
           0.9422791490196457,
           -0.5045716217373197,
           0.5767995681391326,
           0.928581715438,
           -0.8830667093722206,
           -0.8344109718319339,
           0.9426312810340792,
           0.20932771627450827,
           0.20566904262603214
          ],
          [
           0.1856733929992614,
           0.2636720941842121,
           -0.30956107182744325,
           -0.21506751573548114,
           -0.6367828317696935,
           1,
           -0.8149045386142243,
           0.8673876433161698,
           -0.41350756479812206,
           0.8963418964271712,
           -0.8054039159402373,
           0.8682413483444071,
           -0.7607976043881964,
           -0.8142553589105771,
           0.5857579957118777,
           0.07855288903489385,
           -0.34913865112736275,
           -0.8106412666280663,
           0.8266054296954269,
           -0.172763107153279,
           -0.8462131125153962,
           0.8024707733647453,
           0.5176014144932882,
           -0.8098768509966401,
           -0.11939243706184256,
           0.2619465260809258
          ],
          [
           -0.058635977505257224,
           -0.03573140848588724,
           0.38266820091670856,
           0.48263423488571233,
           0.9410254195688784,
           -0.8149045386142243,
           1,
           -0.7903457215238674,
           0.0440910204535612,
           -0.869835387764081,
           0.9959534208035071,
           -0.9089436507057603,
           0.9946688516235606,
           0.9979488289477707,
           -0.43694783008650123,
           -0.25140843449873745,
           0.702568939313241,
           0.9991014134694619,
           -0.6756465413929013,
           0.5820838888835926,
           0.9850714530534149,
           -0.8803798733346885,
           -0.7863743087364019,
           0.9990836972122391,
           0.03433958300917356,
           -0.047430454598880255
          ],
          [
           0.16315700107175796,
           0.49957642846638717,
           -0.11359484516276952,
           -0.1730942366881617,
           -0.6764739703086216,
           0.8673876433161698,
           -0.7903457215238674,
           1,
           -0.34577071036790635,
           0.8864696607318667,
           -0.7611235044287392,
           0.935383470710771,
           -0.742221345368263,
           -0.7984716520553807,
           0.648801412944396,
           0.22844136259825185,
           -0.26427574322779035,
           -0.7862438221985646,
           0.8552368978931187,
           -0.25697591088991184,
           -0.809153237132744,
           0.8104690906715373,
           0.39152622783317526,
           -0.7849460714609852,
           -0.21146820039526534,
           0.26500437158851725
          ],
          [
           0.17089742365179703,
           -0.24105791829671167,
           0.005398209930207864,
           0.21624119182587886,
           -0.050725486734378974,
           -0.41350756479812206,
           0.0440910204535612,
           -0.34577071036790635,
           1,
           -0.3401168282058682,
           0.04999544692441181,
           -0.22814989420627257,
           -0.02736998798564046,
           0.07258976345719328,
           -0.7153204544566014,
           -0.33563231896425616,
           -0.6283183815877658,
           0.04434665294264789,
           -0.6025025563636868,
           -0.43855775466333513,
           0.11587826719747885,
           -0.257538509233492,
           0.26777359484042046,
           0.0425440046735531,
           0.5681227493496057,
           -0.3060911366778105
          ],
          [
           0.04209958849411773,
           0.2634853611005085,
           -0.2804559102712746,
           -0.19666951812422478,
           -0.7458970292848225,
           0.8963418964271712,
           -0.869835387764081,
           0.8864696607318667,
           -0.3401168282058682,
           1,
           -0.8702449674256245,
           0.8830968162609721,
           -0.8278450822158331,
           -0.8862706509897706,
           0.6627496419592279,
           0.1888631627280043,
           -0.42510088542825936,
           -0.874168940833779,
           0.8800022843041349,
           -0.2458190808322113,
           -0.8472173866155447,
           0.9136229003954244,
           0.4487864300975147,
           -0.8730414997492941,
           -0.1316271478375135,
           0.33565209604937685
          ],
          [
           0.006816577875982713,
           0.01913908401754691,
           0.3531709700767302,
           0.5076581752162562,
           0.9499717410128429,
           -0.8054039159402373,
           0.9959534208035071,
           -0.7611235044287392,
           0.04999544692441181,
           -0.8702449674256245,
           1,
           -0.8784599710534542,
           0.9945659799569357,
           0.9951679234185657,
           -0.4439680660962903,
           -0.2592520747682234,
           0.704335043141504,
           0.9974043252966579,
           -0.6573973906910988,
           0.5692653226117279,
           0.9806344081257709,
           -0.9004985329753981,
           -0.7891595266561336,
           0.9974504122159182,
           0.07413625279203372,
           -0.013250154611943617
          ],
          [
           0.19849433718287168,
           0.26747627806471375,
           -0.3125789721341552,
           -0.3382090674258385,
           -0.796398201137683,
           0.8682413483444071,
           -0.9089436507057603,
           0.935383470710771,
           -0.22814989420627257,
           0.8830968162609721,
           -0.8784599710534542,
           1,
           -0.8720815955561548,
           -0.9146831182850748,
           0.5482085783588194,
           0.2827874234973754,
           -0.4574510164747364,
           -0.9040639902244819,
           0.7830203579180289,
           -0.4045594035185205,
           -0.9213929957403957,
           0.8198141052136756,
           0.5823276862146924,
           -0.9034364657801515,
           -0.0725153385713992,
           0.2883203637056403
          ],
          [
           -0.018066129830921995,
           0.02367769294381668,
           0.35317652986710635,
           0.5202324925983269,
           0.9639385183082139,
           -0.7607976043881964,
           0.9946688516235606,
           -0.742221345368263,
           -0.02736998798564046,
           -0.8278450822158331,
           0.9945659799569357,
           -0.8720815955561548,
           1,
           0.9906830530690905,
           -0.38413777601918864,
           -0.2563258684777468,
           0.7426689565762632,
           0.9946270407611535,
           -0.6084193233663596,
           0.6235677683004157,
           0.9769768945449028,
           -0.8705359533823971,
           -0.8216169171452388,
           0.9948149343140208,
           0.04077336479065331,
           0.030298989779379594
          ],
          [
           -0.02317316518991103,
           -0.02975314134078555,
           0.36916720416301396,
           0.486001451699375,
           0.9380529050230175,
           -0.8142553589105771,
           0.9979488289477707,
           -0.7984716520553807,
           0.07258976345719328,
           -0.8862706509897706,
           0.9951679234185657,
           -0.9146831182850748,
           0.9906830530690905,
           1,
           -0.47786198499082655,
           -0.2910090416331761,
           0.6788845112962082,
           0.9989913468145354,
           -0.6909147346688514,
           0.5720133326420402,
           0.9827393138671008,
           -0.8930641519271992,
           -0.7527504633054489,
           0.9989000427077223,
           0.05634751940847462,
           -0.08549952471472
          ],
          [
           -0.41477158567066624,
           0.2644992573129552,
           0.016653434862016547,
           -0.3148490710813857,
           -0.3257094683709411,
           0.5857579957118777,
           -0.43694783008650123,
           0.648801412944396,
           -0.7153204544566014,
           0.6627496419592279,
           -0.4439680660962903,
           0.5482085783588194,
           -0.38413777601918864,
           -0.47786198499082655,
           1,
           0.6906057932188893,
           0.21193008198296917,
           -0.45435961823430066,
           0.7472505684062822,
           -0.15111808179224698,
           -0.47937293009394516,
           0.5747065721052935,
           -0.12146989794803201,
           -0.4526632828927264,
           -0.4892663388177141,
           0.3971622565075905
          ],
          [
           -0.6758496673343882,
           -0.21411216891424995,
           0.14569177723217067,
           -0.6631570570640115,
           -0.29623008306901477,
           0.07855288903489385,
           -0.25140843449873745,
           0.22844136259825185,
           -0.33563231896425616,
           0.1888631627280043,
           -0.2592520747682234,
           0.2827874234973754,
           -0.2563258684777468,
           -0.2910090416331761,
           0.6906057932188893,
           1,
           0.16632185390723664,
           -0.27434778577260127,
           0.18804884648566808,
           -0.4404714928181813,
           -0.312687763160845,
           0.2650657496666718,
           -0.0728803076346774,
           -0.2741808350424796,
           -0.48601681130897306,
           0.12584671071556308
          ],
          [
           -0.22149224492039882,
           0.1914639645306131,
           0.4416807514480219,
           0.15426234970671532,
           0.6861969171721378,
           -0.34913865112736275,
           0.702568939313241,
           -0.26427574322779035,
           -0.6283183815877658,
           -0.42510088542825936,
           0.704335043141504,
           -0.4574510164747364,
           0.7426689565762632,
           0.6788845112962082,
           0.21193008198296917,
           0.16632185390723664,
           1,
           0.7006028963803154,
           -0.10761320596036897,
           0.675539075965876,
           0.6242911502584998,
           -0.4480759328790457,
           -0.7853566308466474,
           0.7018446173877543,
           -0.4777882989029779,
           0.13104619010255456
          ],
          [
           -0.023054653437287503,
           -0.016348933489493858,
           0.36389532022484694,
           0.48812168159903474,
           0.9422791490196457,
           -0.8106412666280663,
           0.9991014134694619,
           -0.7862438221985646,
           0.04434665294264789,
           -0.874168940833779,
           0.9974043252966579,
           -0.9040639902244819,
           0.9946270407611535,
           0.9989913468145354,
           -0.45435961823430066,
           -0.27434778577260127,
           0.7006028963803154,
           1,
           -0.6695689847659774,
           0.5864855531818828,
           0.9845646515311492,
           -0.8885980117938136,
           -0.7731269836462056,
           0.9999958854225299,
           0.04822415584410026,
           -0.05496249023088017
          ],
          [
           0.19363409757336136,
           0.5643396868091223,
           -0.39139025326244065,
           -0.10630416499666769,
           -0.5045716217373197,
           0.8266054296954269,
           -0.6756465413929013,
           0.8552368978931187,
           -0.6025025563636868,
           0.8800022843041349,
           -0.6573973906910988,
           0.7830203579180289,
           -0.6084193233663596,
           -0.6909147346688514,
           0.7472505684062822,
           0.18804884648566808,
           -0.10761320596036897,
           -0.6695689847659774,
           1,
           -0.11700601097173086,
           -0.6587603117600426,
           0.6970167819085137,
           0.21961012785226075,
           -0.6675377472639219,
           -0.13402303652925046,
           0.40492270809061764
          ],
          [
           0.10042188685938692,
           0.05706875647235198,
           0.3339998210160467,
           0.4290462923376326,
           0.5767995681391326,
           -0.172763107153279,
           0.5820838888835926,
           -0.25697591088991184,
           -0.43855775466333513,
           -0.2458190808322113,
           0.5692653226117279,
           -0.4045594035185205,
           0.6235677683004157,
           0.5720133326420402,
           -0.15111808179224698,
           -0.4404714928181813,
           0.675539075965876,
           0.5864855531818828,
           -0.11700601097173086,
           1,
           0.5504302163292025,
           -0.2609404653162519,
           -0.5133499648771693,
           0.5872534658857426,
           -0.2560571342195508,
           0.15180886279345282
          ],
          [
           -0.007693724754715421,
           -0.0025434838954944408,
           0.30397387881437965,
           0.5534608326373073,
           0.928581715438,
           -0.8462131125153962,
           0.9850714530534149,
           -0.809153237132744,
           0.11587826719747885,
           -0.8472173866155447,
           0.9806344081257709,
           -0.9213929957403957,
           0.9769768945449028,
           0.9827393138671008,
           -0.47937293009394516,
           -0.312687763160845,
           0.6242911502584998,
           0.9845646515311492,
           -0.6587603117600426,
           0.5504302163292025,
           1,
           -0.8834176426282389,
           -0.7828847988534924,
           0.9846531640984804,
           0.1372007701322506,
           -0.01773202814418128
          ],
          [
           -0.19510159253317588,
           0.018127977796360457,
           -0.02200421737805154,
           -0.4440870946662586,
           -0.8830667093722206,
           0.8024707733647453,
           -0.8803798733346885,
           0.8104690906715373,
           -0.257538509233492,
           0.9136229003954244,
           -0.9004985329753981,
           0.8198141052136756,
           -0.8705359533823971,
           -0.8930641519271992,
           0.5747065721052935,
           0.2650657496666718,
           -0.4480759328790457,
           -0.8885980117938136,
           0.6970167819085137,
           -0.2609404653162519,
           -0.8834176426282389,
           1,
           0.5965648318174729,
           -0.888146564670679,
           -0.3948116772532563,
           0.005255635070669366
          ],
          [
           0.18685123150763458,
           -0.24276720850444514,
           -0.34845681574159104,
           -0.5537904434978345,
           -0.8344109718319339,
           0.5176014144932882,
           -0.7863743087364019,
           0.39152622783317526,
           0.26777359484042046,
           0.4487864300975147,
           -0.7891595266561336,
           0.5823276862146924,
           -0.8216169171452388,
           -0.7527504633054489,
           -0.12146989794803201,
           -0.0728803076346774,
           -0.7853566308466474,
           -0.7731269836462056,
           0.21961012785226075,
           -0.5133499648771693,
           -0.7828847988534924,
           0.5965648318174729,
           1,
           -0.7744172801614908,
           0.05391436689656686,
           -0.41730337382703864
          ],
          [
           -0.022595698284725258,
           -0.014038438899828698,
           0.3636362703976844,
           0.4891047661366099,
           0.9426312810340792,
           -0.8098768509966401,
           0.9990836972122391,
           -0.7849460714609852,
           0.0425440046735531,
           -0.8730414997492941,
           0.9974504122159182,
           -0.9034364657801515,
           0.9948149343140208,
           0.9989000427077223,
           -0.4526632828927264,
           -0.2741808350424796,
           0.7018446173877543,
           0.9999958854225299,
           -0.6675377472639219,
           0.5872534658857426,
           0.9846531640984804,
           -0.888146564670679,
           -0.7744172801614908,
           1,
           0.047816220518270704,
           -0.05366535729114639
          ],
          [
           0.6827162625873735,
           0.15006304575355367,
           -0.6730368789044554,
           0.5384255503092237,
           0.20932771627450827,
           -0.11939243706184256,
           0.03433958300917356,
           -0.21146820039526534,
           0.5681227493496057,
           -0.1316271478375135,
           0.07413625279203372,
           -0.0725153385713992,
           0.04077336479065331,
           0.05634751940847462,
           -0.4892663388177141,
           -0.48601681130897306,
           -0.4777882989029779,
           0.04822415584410026,
           -0.13402303652925046,
           -0.2560571342195508,
           0.1372007701322506,
           -0.3948116772532563,
           0.05391436689656686,
           0.047816220518270704,
           1,
           0.35995846803094955
          ],
          [
           0.24562819614638956,
           0.26879890084854735,
           -0.3645408831628393,
           0.411575230293195,
           0.20566904262603214,
           0.2619465260809258,
           -0.047430454598880255,
           0.26500437158851725,
           -0.3060911366778105,
           0.33565209604937685,
           -0.013250154611943617,
           0.2883203637056403,
           0.030298989779379594,
           -0.08549952471472,
           0.3971622565075905,
           0.12584671071556308,
           0.13104619010255456,
           -0.05496249023088017,
           0.40492270809061764,
           0.15180886279345282,
           -0.01773202814418128,
           0.005255635070669366,
           -0.41730337382703864,
           -0.05366535729114639,
           0.35995846803094955,
           1
          ]
         ]
        }
       ],
       "layout": {
        "coloraxis": {
         "colorscale": [
          [
           0,
           "rgb(0,0,131)"
          ],
          [
           0.2,
           "rgb(0,60,170)"
          ],
          [
           0.4,
           "rgb(5,255,255)"
          ],
          [
           0.6,
           "rgb(255,255,0)"
          ],
          [
           0.8,
           "rgb(250,0,0)"
          ],
          [
           1,
           "rgb(128,0,0)"
          ]
         ]
        },
        "height": 1200,
        "margin": {
         "t": 60
        },
        "template": {
         "data": {
          "bar": [
           {
            "error_x": {
             "color": "#f2f5fa"
            },
            "error_y": {
             "color": "#f2f5fa"
            },
            "marker": {
             "line": {
              "color": "rgb(17,17,17)",
              "width": 0.5
             },
             "pattern": {
              "fillmode": "overlay",
              "size": 10,
              "solidity": 0.2
             }
            },
            "type": "bar"
           }
          ],
          "barpolar": [
           {
            "marker": {
             "line": {
              "color": "rgb(17,17,17)",
              "width": 0.5
             },
             "pattern": {
              "fillmode": "overlay",
              "size": 10,
              "solidity": 0.2
             }
            },
            "type": "barpolar"
           }
          ],
          "carpet": [
           {
            "aaxis": {
             "endlinecolor": "#A2B1C6",
             "gridcolor": "#506784",
             "linecolor": "#506784",
             "minorgridcolor": "#506784",
             "startlinecolor": "#A2B1C6"
            },
            "baxis": {
             "endlinecolor": "#A2B1C6",
             "gridcolor": "#506784",
             "linecolor": "#506784",
             "minorgridcolor": "#506784",
             "startlinecolor": "#A2B1C6"
            },
            "type": "carpet"
           }
          ],
          "choropleth": [
           {
            "colorbar": {
             "outlinewidth": 0,
             "ticks": ""
            },
            "type": "choropleth"
           }
          ],
          "contour": [
           {
            "colorbar": {
             "outlinewidth": 0,
             "ticks": ""
            },
            "colorscale": [
             [
              0,
              "#0d0887"
             ],
             [
              0.1111111111111111,
              "#46039f"
             ],
             [
              0.2222222222222222,
              "#7201a8"
             ],
             [
              0.3333333333333333,
              "#9c179e"
             ],
             [
              0.4444444444444444,
              "#bd3786"
             ],
             [
              0.5555555555555556,
              "#d8576b"
             ],
             [
              0.6666666666666666,
              "#ed7953"
             ],
             [
              0.7777777777777778,
              "#fb9f3a"
             ],
             [
              0.8888888888888888,
              "#fdca26"
             ],
             [
              1,
              "#f0f921"
             ]
            ],
            "type": "contour"
           }
          ],
          "contourcarpet": [
           {
            "colorbar": {
             "outlinewidth": 0,
             "ticks": ""
            },
            "type": "contourcarpet"
           }
          ],
          "heatmap": [
           {
            "colorbar": {
             "outlinewidth": 0,
             "ticks": ""
            },
            "colorscale": [
             [
              0,
              "#0d0887"
             ],
             [
              0.1111111111111111,
              "#46039f"
             ],
             [
              0.2222222222222222,
              "#7201a8"
             ],
             [
              0.3333333333333333,
              "#9c179e"
             ],
             [
              0.4444444444444444,
              "#bd3786"
             ],
             [
              0.5555555555555556,
              "#d8576b"
             ],
             [
              0.6666666666666666,
              "#ed7953"
             ],
             [
              0.7777777777777778,
              "#fb9f3a"
             ],
             [
              0.8888888888888888,
              "#fdca26"
             ],
             [
              1,
              "#f0f921"
             ]
            ],
            "type": "heatmap"
           }
          ],
          "heatmapgl": [
           {
            "colorbar": {
             "outlinewidth": 0,
             "ticks": ""
            },
            "colorscale": [
             [
              0,
              "#0d0887"
             ],
             [
              0.1111111111111111,
              "#46039f"
             ],
             [
              0.2222222222222222,
              "#7201a8"
             ],
             [
              0.3333333333333333,
              "#9c179e"
             ],
             [
              0.4444444444444444,
              "#bd3786"
             ],
             [
              0.5555555555555556,
              "#d8576b"
             ],
             [
              0.6666666666666666,
              "#ed7953"
             ],
             [
              0.7777777777777778,
              "#fb9f3a"
             ],
             [
              0.8888888888888888,
              "#fdca26"
             ],
             [
              1,
              "#f0f921"
             ]
            ],
            "type": "heatmapgl"
           }
          ],
          "histogram": [
           {
            "marker": {
             "pattern": {
              "fillmode": "overlay",
              "size": 10,
              "solidity": 0.2
             }
            },
            "type": "histogram"
           }
          ],
          "histogram2d": [
           {
            "colorbar": {
             "outlinewidth": 0,
             "ticks": ""
            },
            "colorscale": [
             [
              0,
              "#0d0887"
             ],
             [
              0.1111111111111111,
              "#46039f"
             ],
             [
              0.2222222222222222,
              "#7201a8"
             ],
             [
              0.3333333333333333,
              "#9c179e"
             ],
             [
              0.4444444444444444,
              "#bd3786"
             ],
             [
              0.5555555555555556,
              "#d8576b"
             ],
             [
              0.6666666666666666,
              "#ed7953"
             ],
             [
              0.7777777777777778,
              "#fb9f3a"
             ],
             [
              0.8888888888888888,
              "#fdca26"
             ],
             [
              1,
              "#f0f921"
             ]
            ],
            "type": "histogram2d"
           }
          ],
          "histogram2dcontour": [
           {
            "colorbar": {
             "outlinewidth": 0,
             "ticks": ""
            },
            "colorscale": [
             [
              0,
              "#0d0887"
             ],
             [
              0.1111111111111111,
              "#46039f"
             ],
             [
              0.2222222222222222,
              "#7201a8"
             ],
             [
              0.3333333333333333,
              "#9c179e"
             ],
             [
              0.4444444444444444,
              "#bd3786"
             ],
             [
              0.5555555555555556,
              "#d8576b"
             ],
             [
              0.6666666666666666,
              "#ed7953"
             ],
             [
              0.7777777777777778,
              "#fb9f3a"
             ],
             [
              0.8888888888888888,
              "#fdca26"
             ],
             [
              1,
              "#f0f921"
             ]
            ],
            "type": "histogram2dcontour"
           }
          ],
          "mesh3d": [
           {
            "colorbar": {
             "outlinewidth": 0,
             "ticks": ""
            },
            "type": "mesh3d"
           }
          ],
          "parcoords": [
           {
            "line": {
             "colorbar": {
              "outlinewidth": 0,
              "ticks": ""
             }
            },
            "type": "parcoords"
           }
          ],
          "pie": [
           {
            "automargin": true,
            "type": "pie"
           }
          ],
          "scatter": [
           {
            "marker": {
             "line": {
              "color": "#283442"
             }
            },
            "type": "scatter"
           }
          ],
          "scatter3d": [
           {
            "line": {
             "colorbar": {
              "outlinewidth": 0,
              "ticks": ""
             }
            },
            "marker": {
             "colorbar": {
              "outlinewidth": 0,
              "ticks": ""
             }
            },
            "type": "scatter3d"
           }
          ],
          "scattercarpet": [
           {
            "marker": {
             "colorbar": {
              "outlinewidth": 0,
              "ticks": ""
             }
            },
            "type": "scattercarpet"
           }
          ],
          "scattergeo": [
           {
            "marker": {
             "colorbar": {
              "outlinewidth": 0,
              "ticks": ""
             }
            },
            "type": "scattergeo"
           }
          ],
          "scattergl": [
           {
            "marker": {
             "line": {
              "color": "#283442"
             }
            },
            "type": "scattergl"
           }
          ],
          "scattermapbox": [
           {
            "marker": {
             "colorbar": {
              "outlinewidth": 0,
              "ticks": ""
             }
            },
            "type": "scattermapbox"
           }
          ],
          "scatterpolar": [
           {
            "marker": {
             "colorbar": {
              "outlinewidth": 0,
              "ticks": ""
             }
            },
            "type": "scatterpolar"
           }
          ],
          "scatterpolargl": [
           {
            "marker": {
             "colorbar": {
              "outlinewidth": 0,
              "ticks": ""
             }
            },
            "type": "scatterpolargl"
           }
          ],
          "scatterternary": [
           {
            "marker": {
             "colorbar": {
              "outlinewidth": 0,
              "ticks": ""
             }
            },
            "type": "scatterternary"
           }
          ],
          "surface": [
           {
            "colorbar": {
             "outlinewidth": 0,
             "ticks": ""
            },
            "colorscale": [
             [
              0,
              "#0d0887"
             ],
             [
              0.1111111111111111,
              "#46039f"
             ],
             [
              0.2222222222222222,
              "#7201a8"
             ],
             [
              0.3333333333333333,
              "#9c179e"
             ],
             [
              0.4444444444444444,
              "#bd3786"
             ],
             [
              0.5555555555555556,
              "#d8576b"
             ],
             [
              0.6666666666666666,
              "#ed7953"
             ],
             [
              0.7777777777777778,
              "#fb9f3a"
             ],
             [
              0.8888888888888888,
              "#fdca26"
             ],
             [
              1,
              "#f0f921"
             ]
            ],
            "type": "surface"
           }
          ],
          "table": [
           {
            "cells": {
             "fill": {
              "color": "#506784"
             },
             "line": {
              "color": "rgb(17,17,17)"
             }
            },
            "header": {
             "fill": {
              "color": "#2a3f5f"
             },
             "line": {
              "color": "rgb(17,17,17)"
             }
            },
            "type": "table"
           }
          ]
         },
         "layout": {
          "annotationdefaults": {
           "arrowcolor": "#f2f5fa",
           "arrowhead": 0,
           "arrowwidth": 1
          },
          "autotypenumbers": "strict",
          "coloraxis": {
           "colorbar": {
            "outlinewidth": 0,
            "ticks": ""
           }
          },
          "colorscale": {
           "diverging": [
            [
             0,
             "#8e0152"
            ],
            [
             0.1,
             "#c51b7d"
            ],
            [
             0.2,
             "#de77ae"
            ],
            [
             0.3,
             "#f1b6da"
            ],
            [
             0.4,
             "#fde0ef"
            ],
            [
             0.5,
             "#f7f7f7"
            ],
            [
             0.6,
             "#e6f5d0"
            ],
            [
             0.7,
             "#b8e186"
            ],
            [
             0.8,
             "#7fbc41"
            ],
            [
             0.9,
             "#4d9221"
            ],
            [
             1,
             "#276419"
            ]
           ],
           "sequential": [
            [
             0,
             "#0d0887"
            ],
            [
             0.1111111111111111,
             "#46039f"
            ],
            [
             0.2222222222222222,
             "#7201a8"
            ],
            [
             0.3333333333333333,
             "#9c179e"
            ],
            [
             0.4444444444444444,
             "#bd3786"
            ],
            [
             0.5555555555555556,
             "#d8576b"
            ],
            [
             0.6666666666666666,
             "#ed7953"
            ],
            [
             0.7777777777777778,
             "#fb9f3a"
            ],
            [
             0.8888888888888888,
             "#fdca26"
            ],
            [
             1,
             "#f0f921"
            ]
           ],
           "sequentialminus": [
            [
             0,
             "#0d0887"
            ],
            [
             0.1111111111111111,
             "#46039f"
            ],
            [
             0.2222222222222222,
             "#7201a8"
            ],
            [
             0.3333333333333333,
             "#9c179e"
            ],
            [
             0.4444444444444444,
             "#bd3786"
            ],
            [
             0.5555555555555556,
             "#d8576b"
            ],
            [
             0.6666666666666666,
             "#ed7953"
            ],
            [
             0.7777777777777778,
             "#fb9f3a"
            ],
            [
             0.8888888888888888,
             "#fdca26"
            ],
            [
             1,
             "#f0f921"
            ]
           ]
          },
          "colorway": [
           "#636efa",
           "#EF553B",
           "#00cc96",
           "#ab63fa",
           "#FFA15A",
           "#19d3f3",
           "#FF6692",
           "#B6E880",
           "#FF97FF",
           "#FECB52"
          ],
          "font": {
           "color": "#f2f5fa"
          },
          "geo": {
           "bgcolor": "rgb(17,17,17)",
           "lakecolor": "rgb(17,17,17)",
           "landcolor": "rgb(17,17,17)",
           "showlakes": true,
           "showland": true,
           "subunitcolor": "#506784"
          },
          "hoverlabel": {
           "align": "left"
          },
          "hovermode": "closest",
          "mapbox": {
           "style": "dark"
          },
          "paper_bgcolor": "rgb(17,17,17)",
          "plot_bgcolor": "rgb(17,17,17)",
          "polar": {
           "angularaxis": {
            "gridcolor": "#506784",
            "linecolor": "#506784",
            "ticks": ""
           },
           "bgcolor": "rgb(17,17,17)",
           "radialaxis": {
            "gridcolor": "#506784",
            "linecolor": "#506784",
            "ticks": ""
           }
          },
          "scene": {
           "xaxis": {
            "backgroundcolor": "rgb(17,17,17)",
            "gridcolor": "#506784",
            "gridwidth": 2,
            "linecolor": "#506784",
            "showbackground": true,
            "ticks": "",
            "zerolinecolor": "#C8D4E3"
           },
           "yaxis": {
            "backgroundcolor": "rgb(17,17,17)",
            "gridcolor": "#506784",
            "gridwidth": 2,
            "linecolor": "#506784",
            "showbackground": true,
            "ticks": "",
            "zerolinecolor": "#C8D4E3"
           },
           "zaxis": {
            "backgroundcolor": "rgb(17,17,17)",
            "gridcolor": "#506784",
            "gridwidth": 2,
            "linecolor": "#506784",
            "showbackground": true,
            "ticks": "",
            "zerolinecolor": "#C8D4E3"
           }
          },
          "shapedefaults": {
           "line": {
            "color": "#f2f5fa"
           }
          },
          "sliderdefaults": {
           "bgcolor": "#C8D4E3",
           "bordercolor": "rgb(17,17,17)",
           "borderwidth": 1,
           "tickwidth": 0
          },
          "ternary": {
           "aaxis": {
            "gridcolor": "#506784",
            "linecolor": "#506784",
            "ticks": ""
           },
           "baxis": {
            "gridcolor": "#506784",
            "linecolor": "#506784",
            "ticks": ""
           },
           "bgcolor": "rgb(17,17,17)",
           "caxis": {
            "gridcolor": "#506784",
            "linecolor": "#506784",
            "ticks": ""
           }
          },
          "title": {
           "x": 0.05
          },
          "updatemenudefaults": {
           "bgcolor": "#506784",
           "borderwidth": 0
          },
          "xaxis": {
           "automargin": true,
           "gridcolor": "#283442",
           "linecolor": "#506784",
           "ticks": "",
           "title": {
            "standoff": 15
           },
           "zerolinecolor": "#283442",
           "zerolinewidth": 2
          },
          "yaxis": {
           "automargin": true,
           "gridcolor": "#283442",
           "linecolor": "#506784",
           "ticks": "",
           "title": {
            "standoff": 15
           },
           "zerolinecolor": "#283442",
           "zerolinewidth": 2
          }
         }
        },
        "width": 1800,
        "xaxis": {
         "anchor": "y",
         "domain": [
          0,
          1
         ],
         "tickmode": "array",
         "tickvals": [],
         "title": {
          "text": "Nv2"
         }
        },
        "yaxis": {
         "anchor": "x",
         "autorange": "reversed",
         "domain": [
          0,
          1
         ],
         "tickfont": {
          "size": 10
         },
         "title": {
          "text": "Nv2"
         }
        }
       }
      }
     },
     "metadata": {},
     "output_type": "display_data"
    }
   ],
   "source": [
    "# Matriz de correlación entre delitos\n",
    "\n",
    "delit_subset = delitos_tipo_pt[[\"Nv2\",\"Periodo\", \"Incremento\"]]\n",
    "corr_delit = delit_subset.pivot(index=\"Periodo\",columns=\"Nv2\",values=\"Incremento\")\n",
    "corr_delit = corr_delit.corr()\n",
    "corr_delit_2 = corr_delit.mask(np.abs(corr_delit)>0.6)\n",
    "\n",
    "# Heatmap a partir de la matriz de correlación \n",
    "\n",
    "fig = px.imshow(corr_delit, text_auto=True, aspect=\"auto\", color_continuous_scale=\"Jet\")\n",
    "fig.update_layout(template=\"plotly_dark\", width=1800, height=1200)\n",
    "fig.update_xaxes(tickmode=\"array\", tickvals=[])\n",
    "fig.update_yaxes(tickfont=dict(size=10))"
   ]
  },
  {
   "cell_type": "code",
   "execution_count": 300,
   "metadata": {},
   "outputs": [
    {
     "data": {
      "text/html": [
       "<div>\n",
       "<style scoped>\n",
       "    .dataframe tbody tr th:only-of-type {\n",
       "        vertical-align: middle;\n",
       "    }\n",
       "\n",
       "    .dataframe tbody tr th {\n",
       "        vertical-align: top;\n",
       "    }\n",
       "\n",
       "    .dataframe thead th {\n",
       "        text-align: right;\n",
       "    }\n",
       "</style>\n",
       "<table border=\"1\" class=\"dataframe\">\n",
       "  <thead>\n",
       "    <tr style=\"text-align: right;\">\n",
       "      <th></th>\n",
       "      <th>Nv2.5</th>\n",
       "      <th>Periodo</th>\n",
       "      <th>Total</th>\n",
       "    </tr>\n",
       "  </thead>\n",
       "  <tbody>\n",
       "    <tr>\n",
       "      <th>0</th>\n",
       "      <td>Delitos contra el patrimonio y el orden socioe...</td>\n",
       "      <td>2013</td>\n",
       "      <td>1813.150</td>\n",
       "    </tr>\n",
       "    <tr>\n",
       "      <th>1</th>\n",
       "      <td>Delitos contra el patrimonio y el orden socioe...</td>\n",
       "      <td>2014</td>\n",
       "      <td>2043.091</td>\n",
       "    </tr>\n",
       "    <tr>\n",
       "      <th>2</th>\n",
       "      <td>Delitos contra el patrimonio y el orden socioe...</td>\n",
       "      <td>2015</td>\n",
       "      <td>2097.551</td>\n",
       "    </tr>\n",
       "    <tr>\n",
       "      <th>3</th>\n",
       "      <td>Delitos contra el patrimonio y el orden socioe...</td>\n",
       "      <td>2016</td>\n",
       "      <td>2572.822</td>\n",
       "    </tr>\n",
       "    <tr>\n",
       "      <th>4</th>\n",
       "      <td>Delitos contra el patrimonio y el orden socioe...</td>\n",
       "      <td>2017</td>\n",
       "      <td>1843.994</td>\n",
       "    </tr>\n",
       "    <tr>\n",
       "      <th>...</th>\n",
       "      <td>...</td>\n",
       "      <td>...</td>\n",
       "      <td>...</td>\n",
       "    </tr>\n",
       "    <tr>\n",
       "      <th>103</th>\n",
       "      <td>Manipulación genética</td>\n",
       "      <td>2017</td>\n",
       "      <td>0.000</td>\n",
       "    </tr>\n",
       "    <tr>\n",
       "      <th>104</th>\n",
       "      <td>Manipulación genética</td>\n",
       "      <td>2018</td>\n",
       "      <td>4.000</td>\n",
       "    </tr>\n",
       "    <tr>\n",
       "      <th>105</th>\n",
       "      <td>Manipulación genética</td>\n",
       "      <td>2019</td>\n",
       "      <td>4.000</td>\n",
       "    </tr>\n",
       "    <tr>\n",
       "      <th>106</th>\n",
       "      <td>Manipulación genética</td>\n",
       "      <td>2020</td>\n",
       "      <td>4.000</td>\n",
       "    </tr>\n",
       "    <tr>\n",
       "      <th>107</th>\n",
       "      <td>Manipulación genética</td>\n",
       "      <td>2021</td>\n",
       "      <td>4.000</td>\n",
       "    </tr>\n",
       "  </tbody>\n",
       "</table>\n",
       "<p>108 rows × 3 columns</p>\n",
       "</div>"
      ],
      "text/plain": [
       "                                                 Nv2.5  \\\n",
       "0    Delitos contra el patrimonio y el orden socioe...   \n",
       "1    Delitos contra el patrimonio y el orden socioe...   \n",
       "2    Delitos contra el patrimonio y el orden socioe...   \n",
       "3    Delitos contra el patrimonio y el orden socioe...   \n",
       "4    Delitos contra el patrimonio y el orden socioe...   \n",
       "..                                                 ...   \n",
       "103                              Manipulación genética   \n",
       "104                              Manipulación genética   \n",
       "105                              Manipulación genética   \n",
       "106                              Manipulación genética   \n",
       "107                              Manipulación genética   \n",
       "\n",
       "     Periodo     Total  \n",
       "0       2013  1813.150  \n",
       "1       2014  2043.091  \n",
       "2       2015  2097.551  \n",
       "3       2016  2572.822  \n",
       "4       2017  1843.994  \n",
       "..       ...       ...  \n",
       "103     2017     0.000  \n",
       "104     2018     4.000  \n",
       "105     2019     4.000  \n",
       "106     2020     4.000  \n",
       "107     2021     4.000  \n",
       "\n",
       "[108 rows x 3 columns]"
      ]
     },
     "execution_count": 300,
     "metadata": {},
     "output_type": "execute_result"
    }
   ],
   "source": [
    "# Total delitos por tipo\n",
    "delitos_tipo_pt_2 = delit_type.groupby([\"Nv2.5\", \"Periodo\"])[\"Total\"].sum().reset_index()\n",
    "delitos_tipo_pt_2"
   ]
  },
  {
   "cell_type": "code",
   "execution_count": 301,
   "metadata": {},
   "outputs": [
    {
     "data": {
      "application/vnd.plotly.v1+json": {
       "config": {
        "plotlyServerURL": "https://plot.ly"
       },
       "data": [
        {
         "coloraxis": "coloraxis",
         "hovertemplate": "Nv2.5: %{x}<br>Nv2.5: %{y}<br>color: %{z}<extra></extra>",
         "name": "0",
         "texttemplate": "%{z}",
         "type": "heatmap",
         "x": [
          "Delitos contra el patrimonio y el orden socioeconómico",
          "Delitos contra la Administración Pública",
          "Delitos contra la Constitución y el orden público",
          "Delitos contra la intimidad y el honor",
          "Delitos contra la libertad",
          "Delitos contra la seguridad",
          "Delitos contra la vida y la integridad física",
          "Delitos contra las relaciones familiares",
          "Delitos contra los derechos de los trabajadores",
          "Delitos relacionados con el medio ambiente y la planificación territorial",
          "Delitos sexuales",
          "Manipulación genética"
         ],
         "xaxis": "x",
         "y": [
          "Delitos contra el patrimonio y el orden socioeconómico",
          "Delitos contra la Administración Pública",
          "Delitos contra la Constitución y el orden público",
          "Delitos contra la intimidad y el honor",
          "Delitos contra la libertad",
          "Delitos contra la seguridad",
          "Delitos contra la vida y la integridad física",
          "Delitos contra las relaciones familiares",
          "Delitos contra los derechos de los trabajadores",
          "Delitos relacionados con el medio ambiente y la planificación territorial",
          "Delitos sexuales",
          "Manipulación genética"
         ],
         "yaxis": "y",
         "z": [
          [
           1,
           0.3766240321949178,
           -0.00373644751565814,
           0.4222771769684645,
           0.01752079114360081,
           0.17576317472522635,
           -0.002700139579644771,
           -0.06946035139616014,
           -0.5023887558848357,
           -0.2881474135869977,
           0.2550401992548014,
           -0.042108283243798915
          ],
          [
           0.3766240321949178,
           1,
           -0.05484699344410273,
           -0.40427617077698147,
           -0.379446969083448,
           -0.3571380634814363,
           -0.4104948697769821,
           -0.26006383723450066,
           -0.27480132513005495,
           0.5014786450016704,
           0.1707495976604673,
           -0.38073426130138316
          ],
          [
           -0.00373644751565814,
           -0.05484699344410273,
           1,
           -0.12591502701658452,
           -0.29687025080923307,
           0.39981132783883905,
           -0.27919979506173465,
           -0.27317420717758045,
           0.33035348640206685,
           -0.00021581007316527422,
           0.37068434026274255,
           -0.28058922728592595
          ],
          [
           0.4222771769684645,
           -0.40427617077698147,
           -0.12591502701658452,
           1,
           0.8055869146690714,
           -0.08182067201391297,
           0.8109036632429966,
           0.7120298806323374,
           -0.4476673501377957,
           -0.7725218349903871,
           -0.4021432948394034,
           0.779117779172937
          ],
          [
           0.01752079114360081,
           -0.379446969083448,
           -0.29687025080923307,
           0.8055869146690714,
           1,
           -0.4022038451734514,
           0.9943330435000807,
           0.9620201971765037,
           -0.3995798187310341,
           -0.6957001043343221,
           -0.7592764703702243,
           0.9939991558153531
          ],
          [
           0.17576317472522635,
           -0.3571380634814363,
           0.39981132783883905,
           -0.08182067201391297,
           -0.4022038451734514,
           1,
           -0.4242365743328059,
           -0.5543661492722539,
           0.614511995780526,
           -0.3138556483388897,
           0.5969268444597264,
           -0.4551429088405233
          ],
          [
           -0.002700139579644771,
           -0.4104948697769821,
           -0.27919979506173465,
           0.8109036632429966,
           0.9943330435000807,
           -0.4242365743328059,
           1,
           0.9710177782389411,
           -0.4424786502522991,
           -0.6572438269042502,
           -0.7789682404903254,
           0.99717325600062
          ],
          [
           -0.06946035139616014,
           -0.26006383723450066,
           -0.27317420717758045,
           0.7120298806323374,
           0.9620201971765037,
           -0.5543661492722539,
           0.9710177782389411,
           1,
           -0.47740420015596624,
           -0.5285970166791114,
           -0.8603710297374885,
           0.9816427505023221
          ],
          [
           -0.5023887558848357,
           -0.27480132513005495,
           0.33035348640206685,
           -0.4476673501377957,
           -0.3995798187310341,
           0.614511995780526,
           -0.4424786502522991,
           -0.47740420015596624,
           1,
           -0.05851240600936945,
           0.3823676717578963,
           -0.4183653635425815
          ],
          [
           -0.2881474135869977,
           0.5014786450016704,
           -0.00021581007316527422,
           -0.7725218349903871,
           -0.6957001043343221,
           -0.3138556483388897,
           -0.6572438269042502,
           -0.5285970166791114,
           -0.05851240600936945,
           1,
           0.3229267398063837,
           -0.6409392809425289
          ],
          [
           0.2550401992548014,
           0.1707495976604673,
           0.37068434026274255,
           -0.4021432948394034,
           -0.7592764703702243,
           0.5969268444597264,
           -0.7789682404903254,
           -0.8603710297374885,
           0.3823676717578963,
           0.3229267398063837,
           1,
           -0.808545843242926
          ],
          [
           -0.042108283243798915,
           -0.38073426130138316,
           -0.28058922728592595,
           0.779117779172937,
           0.9939991558153531,
           -0.4551429088405233,
           0.99717325600062,
           0.9816427505023221,
           -0.4183653635425815,
           -0.6409392809425289,
           -0.808545843242926,
           1
          ]
         ]
        }
       ],
       "layout": {
        "coloraxis": {
         "colorscale": [
          [
           0,
           "rgb(0,0,131)"
          ],
          [
           0.2,
           "rgb(0,60,170)"
          ],
          [
           0.4,
           "rgb(5,255,255)"
          ],
          [
           0.6,
           "rgb(255,255,0)"
          ],
          [
           0.8,
           "rgb(250,0,0)"
          ],
          [
           1,
           "rgb(128,0,0)"
          ]
         ]
        },
        "height": 800,
        "margin": {
         "t": 60
        },
        "template": {
         "data": {
          "bar": [
           {
            "error_x": {
             "color": "#f2f5fa"
            },
            "error_y": {
             "color": "#f2f5fa"
            },
            "marker": {
             "line": {
              "color": "rgb(17,17,17)",
              "width": 0.5
             },
             "pattern": {
              "fillmode": "overlay",
              "size": 10,
              "solidity": 0.2
             }
            },
            "type": "bar"
           }
          ],
          "barpolar": [
           {
            "marker": {
             "line": {
              "color": "rgb(17,17,17)",
              "width": 0.5
             },
             "pattern": {
              "fillmode": "overlay",
              "size": 10,
              "solidity": 0.2
             }
            },
            "type": "barpolar"
           }
          ],
          "carpet": [
           {
            "aaxis": {
             "endlinecolor": "#A2B1C6",
             "gridcolor": "#506784",
             "linecolor": "#506784",
             "minorgridcolor": "#506784",
             "startlinecolor": "#A2B1C6"
            },
            "baxis": {
             "endlinecolor": "#A2B1C6",
             "gridcolor": "#506784",
             "linecolor": "#506784",
             "minorgridcolor": "#506784",
             "startlinecolor": "#A2B1C6"
            },
            "type": "carpet"
           }
          ],
          "choropleth": [
           {
            "colorbar": {
             "outlinewidth": 0,
             "ticks": ""
            },
            "type": "choropleth"
           }
          ],
          "contour": [
           {
            "colorbar": {
             "outlinewidth": 0,
             "ticks": ""
            },
            "colorscale": [
             [
              0,
              "#0d0887"
             ],
             [
              0.1111111111111111,
              "#46039f"
             ],
             [
              0.2222222222222222,
              "#7201a8"
             ],
             [
              0.3333333333333333,
              "#9c179e"
             ],
             [
              0.4444444444444444,
              "#bd3786"
             ],
             [
              0.5555555555555556,
              "#d8576b"
             ],
             [
              0.6666666666666666,
              "#ed7953"
             ],
             [
              0.7777777777777778,
              "#fb9f3a"
             ],
             [
              0.8888888888888888,
              "#fdca26"
             ],
             [
              1,
              "#f0f921"
             ]
            ],
            "type": "contour"
           }
          ],
          "contourcarpet": [
           {
            "colorbar": {
             "outlinewidth": 0,
             "ticks": ""
            },
            "type": "contourcarpet"
           }
          ],
          "heatmap": [
           {
            "colorbar": {
             "outlinewidth": 0,
             "ticks": ""
            },
            "colorscale": [
             [
              0,
              "#0d0887"
             ],
             [
              0.1111111111111111,
              "#46039f"
             ],
             [
              0.2222222222222222,
              "#7201a8"
             ],
             [
              0.3333333333333333,
              "#9c179e"
             ],
             [
              0.4444444444444444,
              "#bd3786"
             ],
             [
              0.5555555555555556,
              "#d8576b"
             ],
             [
              0.6666666666666666,
              "#ed7953"
             ],
             [
              0.7777777777777778,
              "#fb9f3a"
             ],
             [
              0.8888888888888888,
              "#fdca26"
             ],
             [
              1,
              "#f0f921"
             ]
            ],
            "type": "heatmap"
           }
          ],
          "heatmapgl": [
           {
            "colorbar": {
             "outlinewidth": 0,
             "ticks": ""
            },
            "colorscale": [
             [
              0,
              "#0d0887"
             ],
             [
              0.1111111111111111,
              "#46039f"
             ],
             [
              0.2222222222222222,
              "#7201a8"
             ],
             [
              0.3333333333333333,
              "#9c179e"
             ],
             [
              0.4444444444444444,
              "#bd3786"
             ],
             [
              0.5555555555555556,
              "#d8576b"
             ],
             [
              0.6666666666666666,
              "#ed7953"
             ],
             [
              0.7777777777777778,
              "#fb9f3a"
             ],
             [
              0.8888888888888888,
              "#fdca26"
             ],
             [
              1,
              "#f0f921"
             ]
            ],
            "type": "heatmapgl"
           }
          ],
          "histogram": [
           {
            "marker": {
             "pattern": {
              "fillmode": "overlay",
              "size": 10,
              "solidity": 0.2
             }
            },
            "type": "histogram"
           }
          ],
          "histogram2d": [
           {
            "colorbar": {
             "outlinewidth": 0,
             "ticks": ""
            },
            "colorscale": [
             [
              0,
              "#0d0887"
             ],
             [
              0.1111111111111111,
              "#46039f"
             ],
             [
              0.2222222222222222,
              "#7201a8"
             ],
             [
              0.3333333333333333,
              "#9c179e"
             ],
             [
              0.4444444444444444,
              "#bd3786"
             ],
             [
              0.5555555555555556,
              "#d8576b"
             ],
             [
              0.6666666666666666,
              "#ed7953"
             ],
             [
              0.7777777777777778,
              "#fb9f3a"
             ],
             [
              0.8888888888888888,
              "#fdca26"
             ],
             [
              1,
              "#f0f921"
             ]
            ],
            "type": "histogram2d"
           }
          ],
          "histogram2dcontour": [
           {
            "colorbar": {
             "outlinewidth": 0,
             "ticks": ""
            },
            "colorscale": [
             [
              0,
              "#0d0887"
             ],
             [
              0.1111111111111111,
              "#46039f"
             ],
             [
              0.2222222222222222,
              "#7201a8"
             ],
             [
              0.3333333333333333,
              "#9c179e"
             ],
             [
              0.4444444444444444,
              "#bd3786"
             ],
             [
              0.5555555555555556,
              "#d8576b"
             ],
             [
              0.6666666666666666,
              "#ed7953"
             ],
             [
              0.7777777777777778,
              "#fb9f3a"
             ],
             [
              0.8888888888888888,
              "#fdca26"
             ],
             [
              1,
              "#f0f921"
             ]
            ],
            "type": "histogram2dcontour"
           }
          ],
          "mesh3d": [
           {
            "colorbar": {
             "outlinewidth": 0,
             "ticks": ""
            },
            "type": "mesh3d"
           }
          ],
          "parcoords": [
           {
            "line": {
             "colorbar": {
              "outlinewidth": 0,
              "ticks": ""
             }
            },
            "type": "parcoords"
           }
          ],
          "pie": [
           {
            "automargin": true,
            "type": "pie"
           }
          ],
          "scatter": [
           {
            "marker": {
             "line": {
              "color": "#283442"
             }
            },
            "type": "scatter"
           }
          ],
          "scatter3d": [
           {
            "line": {
             "colorbar": {
              "outlinewidth": 0,
              "ticks": ""
             }
            },
            "marker": {
             "colorbar": {
              "outlinewidth": 0,
              "ticks": ""
             }
            },
            "type": "scatter3d"
           }
          ],
          "scattercarpet": [
           {
            "marker": {
             "colorbar": {
              "outlinewidth": 0,
              "ticks": ""
             }
            },
            "type": "scattercarpet"
           }
          ],
          "scattergeo": [
           {
            "marker": {
             "colorbar": {
              "outlinewidth": 0,
              "ticks": ""
             }
            },
            "type": "scattergeo"
           }
          ],
          "scattergl": [
           {
            "marker": {
             "line": {
              "color": "#283442"
             }
            },
            "type": "scattergl"
           }
          ],
          "scattermapbox": [
           {
            "marker": {
             "colorbar": {
              "outlinewidth": 0,
              "ticks": ""
             }
            },
            "type": "scattermapbox"
           }
          ],
          "scatterpolar": [
           {
            "marker": {
             "colorbar": {
              "outlinewidth": 0,
              "ticks": ""
             }
            },
            "type": "scatterpolar"
           }
          ],
          "scatterpolargl": [
           {
            "marker": {
             "colorbar": {
              "outlinewidth": 0,
              "ticks": ""
             }
            },
            "type": "scatterpolargl"
           }
          ],
          "scatterternary": [
           {
            "marker": {
             "colorbar": {
              "outlinewidth": 0,
              "ticks": ""
             }
            },
            "type": "scatterternary"
           }
          ],
          "surface": [
           {
            "colorbar": {
             "outlinewidth": 0,
             "ticks": ""
            },
            "colorscale": [
             [
              0,
              "#0d0887"
             ],
             [
              0.1111111111111111,
              "#46039f"
             ],
             [
              0.2222222222222222,
              "#7201a8"
             ],
             [
              0.3333333333333333,
              "#9c179e"
             ],
             [
              0.4444444444444444,
              "#bd3786"
             ],
             [
              0.5555555555555556,
              "#d8576b"
             ],
             [
              0.6666666666666666,
              "#ed7953"
             ],
             [
              0.7777777777777778,
              "#fb9f3a"
             ],
             [
              0.8888888888888888,
              "#fdca26"
             ],
             [
              1,
              "#f0f921"
             ]
            ],
            "type": "surface"
           }
          ],
          "table": [
           {
            "cells": {
             "fill": {
              "color": "#506784"
             },
             "line": {
              "color": "rgb(17,17,17)"
             }
            },
            "header": {
             "fill": {
              "color": "#2a3f5f"
             },
             "line": {
              "color": "rgb(17,17,17)"
             }
            },
            "type": "table"
           }
          ]
         },
         "layout": {
          "annotationdefaults": {
           "arrowcolor": "#f2f5fa",
           "arrowhead": 0,
           "arrowwidth": 1
          },
          "autotypenumbers": "strict",
          "coloraxis": {
           "colorbar": {
            "outlinewidth": 0,
            "ticks": ""
           }
          },
          "colorscale": {
           "diverging": [
            [
             0,
             "#8e0152"
            ],
            [
             0.1,
             "#c51b7d"
            ],
            [
             0.2,
             "#de77ae"
            ],
            [
             0.3,
             "#f1b6da"
            ],
            [
             0.4,
             "#fde0ef"
            ],
            [
             0.5,
             "#f7f7f7"
            ],
            [
             0.6,
             "#e6f5d0"
            ],
            [
             0.7,
             "#b8e186"
            ],
            [
             0.8,
             "#7fbc41"
            ],
            [
             0.9,
             "#4d9221"
            ],
            [
             1,
             "#276419"
            ]
           ],
           "sequential": [
            [
             0,
             "#0d0887"
            ],
            [
             0.1111111111111111,
             "#46039f"
            ],
            [
             0.2222222222222222,
             "#7201a8"
            ],
            [
             0.3333333333333333,
             "#9c179e"
            ],
            [
             0.4444444444444444,
             "#bd3786"
            ],
            [
             0.5555555555555556,
             "#d8576b"
            ],
            [
             0.6666666666666666,
             "#ed7953"
            ],
            [
             0.7777777777777778,
             "#fb9f3a"
            ],
            [
             0.8888888888888888,
             "#fdca26"
            ],
            [
             1,
             "#f0f921"
            ]
           ],
           "sequentialminus": [
            [
             0,
             "#0d0887"
            ],
            [
             0.1111111111111111,
             "#46039f"
            ],
            [
             0.2222222222222222,
             "#7201a8"
            ],
            [
             0.3333333333333333,
             "#9c179e"
            ],
            [
             0.4444444444444444,
             "#bd3786"
            ],
            [
             0.5555555555555556,
             "#d8576b"
            ],
            [
             0.6666666666666666,
             "#ed7953"
            ],
            [
             0.7777777777777778,
             "#fb9f3a"
            ],
            [
             0.8888888888888888,
             "#fdca26"
            ],
            [
             1,
             "#f0f921"
            ]
           ]
          },
          "colorway": [
           "#636efa",
           "#EF553B",
           "#00cc96",
           "#ab63fa",
           "#FFA15A",
           "#19d3f3",
           "#FF6692",
           "#B6E880",
           "#FF97FF",
           "#FECB52"
          ],
          "font": {
           "color": "#f2f5fa"
          },
          "geo": {
           "bgcolor": "rgb(17,17,17)",
           "lakecolor": "rgb(17,17,17)",
           "landcolor": "rgb(17,17,17)",
           "showlakes": true,
           "showland": true,
           "subunitcolor": "#506784"
          },
          "hoverlabel": {
           "align": "left"
          },
          "hovermode": "closest",
          "mapbox": {
           "style": "dark"
          },
          "paper_bgcolor": "rgb(17,17,17)",
          "plot_bgcolor": "rgb(17,17,17)",
          "polar": {
           "angularaxis": {
            "gridcolor": "#506784",
            "linecolor": "#506784",
            "ticks": ""
           },
           "bgcolor": "rgb(17,17,17)",
           "radialaxis": {
            "gridcolor": "#506784",
            "linecolor": "#506784",
            "ticks": ""
           }
          },
          "scene": {
           "xaxis": {
            "backgroundcolor": "rgb(17,17,17)",
            "gridcolor": "#506784",
            "gridwidth": 2,
            "linecolor": "#506784",
            "showbackground": true,
            "ticks": "",
            "zerolinecolor": "#C8D4E3"
           },
           "yaxis": {
            "backgroundcolor": "rgb(17,17,17)",
            "gridcolor": "#506784",
            "gridwidth": 2,
            "linecolor": "#506784",
            "showbackground": true,
            "ticks": "",
            "zerolinecolor": "#C8D4E3"
           },
           "zaxis": {
            "backgroundcolor": "rgb(17,17,17)",
            "gridcolor": "#506784",
            "gridwidth": 2,
            "linecolor": "#506784",
            "showbackground": true,
            "ticks": "",
            "zerolinecolor": "#C8D4E3"
           }
          },
          "shapedefaults": {
           "line": {
            "color": "#f2f5fa"
           }
          },
          "sliderdefaults": {
           "bgcolor": "#C8D4E3",
           "bordercolor": "rgb(17,17,17)",
           "borderwidth": 1,
           "tickwidth": 0
          },
          "ternary": {
           "aaxis": {
            "gridcolor": "#506784",
            "linecolor": "#506784",
            "ticks": ""
           },
           "baxis": {
            "gridcolor": "#506784",
            "linecolor": "#506784",
            "ticks": ""
           },
           "bgcolor": "rgb(17,17,17)",
           "caxis": {
            "gridcolor": "#506784",
            "linecolor": "#506784",
            "ticks": ""
           }
          },
          "title": {
           "x": 0.05
          },
          "updatemenudefaults": {
           "bgcolor": "#506784",
           "borderwidth": 0
          },
          "xaxis": {
           "automargin": true,
           "gridcolor": "#283442",
           "linecolor": "#506784",
           "ticks": "",
           "title": {
            "standoff": 15
           },
           "zerolinecolor": "#283442",
           "zerolinewidth": 2
          },
          "yaxis": {
           "automargin": true,
           "gridcolor": "#283442",
           "linecolor": "#506784",
           "ticks": "",
           "title": {
            "standoff": 15
           },
           "zerolinecolor": "#283442",
           "zerolinewidth": 2
          }
         }
        },
        "width": 1200,
        "xaxis": {
         "anchor": "y",
         "domain": [
          0,
          1
         ],
         "title": {
          "text": "Nv2.5"
         }
        },
        "yaxis": {
         "anchor": "x",
         "autorange": "reversed",
         "domain": [
          0,
          1
         ],
         "tickfont": {
          "size": 12
         },
         "title": {
          "text": "Nv2.5"
         }
        }
       }
      }
     },
     "metadata": {},
     "output_type": "display_data"
    }
   ],
   "source": [
    "# Incremento anual delitos en términos relativos\n",
    "delitos_tipo_pt_2['Incremento'] = delitos_tipo_pt_2['Total'] - delitos_tipo_pt_2['Total'].shift(1)\n",
    "delitos_tipo_pt_2['Incremento'] = delitos_tipo_pt_2['Incremento'].fillna(0)\n",
    "\n",
    "# Incremento anual delitos en términos relativos\n",
    "delitos_tipo_pt_2['Incremento%'] = (delitos_tipo_pt_2['Total'] - delitos_tipo_pt_2['Total'].shift(1)) / delitos_tipo_pt_2['Total'].shift(1) * 100\n",
    "delitos_tipo_pt_2['Incremento%'] = delitos_tipo_pt_2['Incremento%'].fillna(0)\n",
    "\n",
    "# Matriz de correlación entre delitos\n",
    "\n",
    "delit_subset = delitos_tipo_pt_2[[\"Nv2.5\",\"Periodo\", \"Incremento\"]]\n",
    "corr_delit = delit_subset.pivot(index=\"Periodo\",columns=\"Nv2.5\",values=\"Incremento\")\n",
    "corr_delit = corr_delit.corr()\n",
    "\n",
    "fig = px.imshow(corr_delit, text_auto=True, aspect=\"auto\", color_continuous_scale=\"Jet\")\n",
    "fig.update_layout(template=\"plotly_dark\", width=1200, height=800)\n",
    "# fig.update_xaxes(tickmode=\"array\", tickvals=[])\n",
    "fig.update_yaxes(tickfont=dict(size=12))"
   ]
  },
  {
   "cell_type": "code",
   "execution_count": 316,
   "metadata": {},
   "outputs": [
    {
     "data": {
      "application/vnd.plotly.v1+json": {
       "config": {
        "plotlyServerURL": "https://plot.ly"
       },
       "data": [
        {
         "coloraxis": "coloraxis",
         "hovertemplate": "Nv2.5: %{x}<br>Nv2.5: %{y}<br>color: %{z}<extra></extra>",
         "name": "0",
         "texttemplate": "%{z}",
         "type": "heatmap",
         "x": [
          "Delitos contra el patrimonio y el orden socioeconómico",
          "Delitos contra la Administración Pública",
          "Delitos contra la Constitución y el orden público",
          "Delitos contra la intimidad y el honor",
          "Delitos contra la libertad",
          "Delitos contra la seguridad",
          "Delitos contra la vida y la integridad física",
          "Delitos contra las relaciones familiares",
          "Delitos contra los derechos de los trabajadores",
          "Delitos relacionados con el medio ambiente y la planificación territorial",
          "Delitos sexuales",
          "Manipulación genética"
         ],
         "xaxis": "x",
         "y": [
          "Delitos contra el patrimonio y el orden socioeconómico",
          "Delitos contra la Administración Pública",
          "Delitos contra la Constitución y el orden público",
          "Delitos contra la intimidad y el honor",
          "Delitos contra la libertad",
          "Delitos contra la seguridad",
          "Delitos contra la vida y la integridad física",
          "Delitos contra las relaciones familiares",
          "Delitos contra los derechos de los trabajadores",
          "Delitos relacionados con el medio ambiente y la planificación territorial",
          "Delitos sexuales",
          "Manipulación genética"
         ],
         "yaxis": "y",
         "z": [
          [
           1,
           0.3766240321949178,
           -0.00373644751565814,
           0.4222771769684645,
           0.01752079114360081,
           0.17576317472522635,
           -0.002700139579644771,
           -0.06946035139616014,
           -0.5023887558848357,
           -0.2881474135869977,
           0.2550401992548014,
           -0.042108283243798915
          ],
          [
           0.3766240321949178,
           1,
           -0.05484699344410273,
           -0.40427617077698147,
           -0.379446969083448,
           -0.3571380634814363,
           -0.4104948697769821,
           -0.26006383723450066,
           -0.27480132513005495,
           0.5014786450016704,
           0.1707495976604673,
           -0.38073426130138316
          ],
          [
           -0.00373644751565814,
           -0.05484699344410273,
           1,
           -0.12591502701658452,
           -0.29687025080923307,
           0.39981132783883905,
           -0.27919979506173465,
           -0.27317420717758045,
           0.33035348640206685,
           -0.00021581007316527422,
           0.37068434026274255,
           -0.28058922728592595
          ],
          [
           0.4222771769684645,
           -0.40427617077698147,
           -0.12591502701658452,
           1,
           0.8055869146690714,
           -0.08182067201391297,
           0.8109036632429966,
           0.7120298806323374,
           -0.4476673501377957,
           -0.7725218349903871,
           -0.4021432948394034,
           0.779117779172937
          ],
          [
           0.01752079114360081,
           -0.379446969083448,
           -0.29687025080923307,
           0.8055869146690714,
           1,
           -0.4022038451734514,
           0.9943330435000807,
           0.9620201971765037,
           -0.3995798187310341,
           -0.6957001043343221,
           -0.7592764703702243,
           0.9939991558153531
          ],
          [
           0.17576317472522635,
           -0.3571380634814363,
           0.39981132783883905,
           -0.08182067201391297,
           -0.4022038451734514,
           1,
           -0.4242365743328059,
           -0.5543661492722539,
           0.614511995780526,
           -0.3138556483388897,
           0.5969268444597264,
           -0.4551429088405233
          ],
          [
           -0.002700139579644771,
           -0.4104948697769821,
           -0.27919979506173465,
           0.8109036632429966,
           0.9943330435000807,
           -0.4242365743328059,
           1,
           0.9710177782389411,
           -0.4424786502522991,
           -0.6572438269042502,
           -0.7789682404903254,
           0.99717325600062
          ],
          [
           -0.06946035139616014,
           -0.26006383723450066,
           -0.27317420717758045,
           0.7120298806323374,
           0.9620201971765037,
           -0.5543661492722539,
           0.9710177782389411,
           1,
           -0.47740420015596624,
           -0.5285970166791114,
           -0.8603710297374885,
           0.9816427505023221
          ],
          [
           -0.5023887558848357,
           -0.27480132513005495,
           0.33035348640206685,
           -0.4476673501377957,
           -0.3995798187310341,
           0.614511995780526,
           -0.4424786502522991,
           -0.47740420015596624,
           1,
           -0.05851240600936945,
           0.3823676717578963,
           -0.4183653635425815
          ],
          [
           -0.2881474135869977,
           0.5014786450016704,
           -0.00021581007316527422,
           -0.7725218349903871,
           -0.6957001043343221,
           -0.3138556483388897,
           -0.6572438269042502,
           -0.5285970166791114,
           -0.05851240600936945,
           1,
           0.3229267398063837,
           -0.6409392809425289
          ],
          [
           0.2550401992548014,
           0.1707495976604673,
           0.37068434026274255,
           -0.4021432948394034,
           -0.7592764703702243,
           0.5969268444597264,
           -0.7789682404903254,
           -0.8603710297374885,
           0.3823676717578963,
           0.3229267398063837,
           1,
           -0.808545843242926
          ],
          [
           -0.042108283243798915,
           -0.38073426130138316,
           -0.28058922728592595,
           0.779117779172937,
           0.9939991558153531,
           -0.4551429088405233,
           0.99717325600062,
           0.9816427505023221,
           -0.4183653635425815,
           -0.6409392809425289,
           -0.808545843242926,
           1
          ]
         ]
        }
       ],
       "layout": {
        "coloraxis": {
         "colorscale": [
          [
           0,
           "rgb(0,0,131)"
          ],
          [
           0.2,
           "rgb(0,60,170)"
          ],
          [
           0.4,
           "rgb(5,255,255)"
          ],
          [
           0.6,
           "rgb(255,255,0)"
          ],
          [
           0.8,
           "rgb(250,0,0)"
          ],
          [
           1,
           "rgb(128,0,0)"
          ]
         ]
        },
        "height": 1200,
        "margin": {
         "t": 60
        },
        "template": {
         "data": {
          "bar": [
           {
            "error_x": {
             "color": "#f2f5fa"
            },
            "error_y": {
             "color": "#f2f5fa"
            },
            "marker": {
             "line": {
              "color": "rgb(17,17,17)",
              "width": 0.5
             },
             "pattern": {
              "fillmode": "overlay",
              "size": 10,
              "solidity": 0.2
             }
            },
            "type": "bar"
           }
          ],
          "barpolar": [
           {
            "marker": {
             "line": {
              "color": "rgb(17,17,17)",
              "width": 0.5
             },
             "pattern": {
              "fillmode": "overlay",
              "size": 10,
              "solidity": 0.2
             }
            },
            "type": "barpolar"
           }
          ],
          "carpet": [
           {
            "aaxis": {
             "endlinecolor": "#A2B1C6",
             "gridcolor": "#506784",
             "linecolor": "#506784",
             "minorgridcolor": "#506784",
             "startlinecolor": "#A2B1C6"
            },
            "baxis": {
             "endlinecolor": "#A2B1C6",
             "gridcolor": "#506784",
             "linecolor": "#506784",
             "minorgridcolor": "#506784",
             "startlinecolor": "#A2B1C6"
            },
            "type": "carpet"
           }
          ],
          "choropleth": [
           {
            "colorbar": {
             "outlinewidth": 0,
             "ticks": ""
            },
            "type": "choropleth"
           }
          ],
          "contour": [
           {
            "colorbar": {
             "outlinewidth": 0,
             "ticks": ""
            },
            "colorscale": [
             [
              0,
              "#0d0887"
             ],
             [
              0.1111111111111111,
              "#46039f"
             ],
             [
              0.2222222222222222,
              "#7201a8"
             ],
             [
              0.3333333333333333,
              "#9c179e"
             ],
             [
              0.4444444444444444,
              "#bd3786"
             ],
             [
              0.5555555555555556,
              "#d8576b"
             ],
             [
              0.6666666666666666,
              "#ed7953"
             ],
             [
              0.7777777777777778,
              "#fb9f3a"
             ],
             [
              0.8888888888888888,
              "#fdca26"
             ],
             [
              1,
              "#f0f921"
             ]
            ],
            "type": "contour"
           }
          ],
          "contourcarpet": [
           {
            "colorbar": {
             "outlinewidth": 0,
             "ticks": ""
            },
            "type": "contourcarpet"
           }
          ],
          "heatmap": [
           {
            "colorbar": {
             "outlinewidth": 0,
             "ticks": ""
            },
            "colorscale": [
             [
              0,
              "#0d0887"
             ],
             [
              0.1111111111111111,
              "#46039f"
             ],
             [
              0.2222222222222222,
              "#7201a8"
             ],
             [
              0.3333333333333333,
              "#9c179e"
             ],
             [
              0.4444444444444444,
              "#bd3786"
             ],
             [
              0.5555555555555556,
              "#d8576b"
             ],
             [
              0.6666666666666666,
              "#ed7953"
             ],
             [
              0.7777777777777778,
              "#fb9f3a"
             ],
             [
              0.8888888888888888,
              "#fdca26"
             ],
             [
              1,
              "#f0f921"
             ]
            ],
            "type": "heatmap"
           }
          ],
          "heatmapgl": [
           {
            "colorbar": {
             "outlinewidth": 0,
             "ticks": ""
            },
            "colorscale": [
             [
              0,
              "#0d0887"
             ],
             [
              0.1111111111111111,
              "#46039f"
             ],
             [
              0.2222222222222222,
              "#7201a8"
             ],
             [
              0.3333333333333333,
              "#9c179e"
             ],
             [
              0.4444444444444444,
              "#bd3786"
             ],
             [
              0.5555555555555556,
              "#d8576b"
             ],
             [
              0.6666666666666666,
              "#ed7953"
             ],
             [
              0.7777777777777778,
              "#fb9f3a"
             ],
             [
              0.8888888888888888,
              "#fdca26"
             ],
             [
              1,
              "#f0f921"
             ]
            ],
            "type": "heatmapgl"
           }
          ],
          "histogram": [
           {
            "marker": {
             "pattern": {
              "fillmode": "overlay",
              "size": 10,
              "solidity": 0.2
             }
            },
            "type": "histogram"
           }
          ],
          "histogram2d": [
           {
            "colorbar": {
             "outlinewidth": 0,
             "ticks": ""
            },
            "colorscale": [
             [
              0,
              "#0d0887"
             ],
             [
              0.1111111111111111,
              "#46039f"
             ],
             [
              0.2222222222222222,
              "#7201a8"
             ],
             [
              0.3333333333333333,
              "#9c179e"
             ],
             [
              0.4444444444444444,
              "#bd3786"
             ],
             [
              0.5555555555555556,
              "#d8576b"
             ],
             [
              0.6666666666666666,
              "#ed7953"
             ],
             [
              0.7777777777777778,
              "#fb9f3a"
             ],
             [
              0.8888888888888888,
              "#fdca26"
             ],
             [
              1,
              "#f0f921"
             ]
            ],
            "type": "histogram2d"
           }
          ],
          "histogram2dcontour": [
           {
            "colorbar": {
             "outlinewidth": 0,
             "ticks": ""
            },
            "colorscale": [
             [
              0,
              "#0d0887"
             ],
             [
              0.1111111111111111,
              "#46039f"
             ],
             [
              0.2222222222222222,
              "#7201a8"
             ],
             [
              0.3333333333333333,
              "#9c179e"
             ],
             [
              0.4444444444444444,
              "#bd3786"
             ],
             [
              0.5555555555555556,
              "#d8576b"
             ],
             [
              0.6666666666666666,
              "#ed7953"
             ],
             [
              0.7777777777777778,
              "#fb9f3a"
             ],
             [
              0.8888888888888888,
              "#fdca26"
             ],
             [
              1,
              "#f0f921"
             ]
            ],
            "type": "histogram2dcontour"
           }
          ],
          "mesh3d": [
           {
            "colorbar": {
             "outlinewidth": 0,
             "ticks": ""
            },
            "type": "mesh3d"
           }
          ],
          "parcoords": [
           {
            "line": {
             "colorbar": {
              "outlinewidth": 0,
              "ticks": ""
             }
            },
            "type": "parcoords"
           }
          ],
          "pie": [
           {
            "automargin": true,
            "type": "pie"
           }
          ],
          "scatter": [
           {
            "marker": {
             "line": {
              "color": "#283442"
             }
            },
            "type": "scatter"
           }
          ],
          "scatter3d": [
           {
            "line": {
             "colorbar": {
              "outlinewidth": 0,
              "ticks": ""
             }
            },
            "marker": {
             "colorbar": {
              "outlinewidth": 0,
              "ticks": ""
             }
            },
            "type": "scatter3d"
           }
          ],
          "scattercarpet": [
           {
            "marker": {
             "colorbar": {
              "outlinewidth": 0,
              "ticks": ""
             }
            },
            "type": "scattercarpet"
           }
          ],
          "scattergeo": [
           {
            "marker": {
             "colorbar": {
              "outlinewidth": 0,
              "ticks": ""
             }
            },
            "type": "scattergeo"
           }
          ],
          "scattergl": [
           {
            "marker": {
             "line": {
              "color": "#283442"
             }
            },
            "type": "scattergl"
           }
          ],
          "scattermapbox": [
           {
            "marker": {
             "colorbar": {
              "outlinewidth": 0,
              "ticks": ""
             }
            },
            "type": "scattermapbox"
           }
          ],
          "scatterpolar": [
           {
            "marker": {
             "colorbar": {
              "outlinewidth": 0,
              "ticks": ""
             }
            },
            "type": "scatterpolar"
           }
          ],
          "scatterpolargl": [
           {
            "marker": {
             "colorbar": {
              "outlinewidth": 0,
              "ticks": ""
             }
            },
            "type": "scatterpolargl"
           }
          ],
          "scatterternary": [
           {
            "marker": {
             "colorbar": {
              "outlinewidth": 0,
              "ticks": ""
             }
            },
            "type": "scatterternary"
           }
          ],
          "surface": [
           {
            "colorbar": {
             "outlinewidth": 0,
             "ticks": ""
            },
            "colorscale": [
             [
              0,
              "#0d0887"
             ],
             [
              0.1111111111111111,
              "#46039f"
             ],
             [
              0.2222222222222222,
              "#7201a8"
             ],
             [
              0.3333333333333333,
              "#9c179e"
             ],
             [
              0.4444444444444444,
              "#bd3786"
             ],
             [
              0.5555555555555556,
              "#d8576b"
             ],
             [
              0.6666666666666666,
              "#ed7953"
             ],
             [
              0.7777777777777778,
              "#fb9f3a"
             ],
             [
              0.8888888888888888,
              "#fdca26"
             ],
             [
              1,
              "#f0f921"
             ]
            ],
            "type": "surface"
           }
          ],
          "table": [
           {
            "cells": {
             "fill": {
              "color": "#506784"
             },
             "line": {
              "color": "rgb(17,17,17)"
             }
            },
            "header": {
             "fill": {
              "color": "#2a3f5f"
             },
             "line": {
              "color": "rgb(17,17,17)"
             }
            },
            "type": "table"
           }
          ]
         },
         "layout": {
          "annotationdefaults": {
           "arrowcolor": "#f2f5fa",
           "arrowhead": 0,
           "arrowwidth": 1
          },
          "autotypenumbers": "strict",
          "coloraxis": {
           "colorbar": {
            "outlinewidth": 0,
            "ticks": ""
           }
          },
          "colorscale": {
           "diverging": [
            [
             0,
             "#8e0152"
            ],
            [
             0.1,
             "#c51b7d"
            ],
            [
             0.2,
             "#de77ae"
            ],
            [
             0.3,
             "#f1b6da"
            ],
            [
             0.4,
             "#fde0ef"
            ],
            [
             0.5,
             "#f7f7f7"
            ],
            [
             0.6,
             "#e6f5d0"
            ],
            [
             0.7,
             "#b8e186"
            ],
            [
             0.8,
             "#7fbc41"
            ],
            [
             0.9,
             "#4d9221"
            ],
            [
             1,
             "#276419"
            ]
           ],
           "sequential": [
            [
             0,
             "#0d0887"
            ],
            [
             0.1111111111111111,
             "#46039f"
            ],
            [
             0.2222222222222222,
             "#7201a8"
            ],
            [
             0.3333333333333333,
             "#9c179e"
            ],
            [
             0.4444444444444444,
             "#bd3786"
            ],
            [
             0.5555555555555556,
             "#d8576b"
            ],
            [
             0.6666666666666666,
             "#ed7953"
            ],
            [
             0.7777777777777778,
             "#fb9f3a"
            ],
            [
             0.8888888888888888,
             "#fdca26"
            ],
            [
             1,
             "#f0f921"
            ]
           ],
           "sequentialminus": [
            [
             0,
             "#0d0887"
            ],
            [
             0.1111111111111111,
             "#46039f"
            ],
            [
             0.2222222222222222,
             "#7201a8"
            ],
            [
             0.3333333333333333,
             "#9c179e"
            ],
            [
             0.4444444444444444,
             "#bd3786"
            ],
            [
             0.5555555555555556,
             "#d8576b"
            ],
            [
             0.6666666666666666,
             "#ed7953"
            ],
            [
             0.7777777777777778,
             "#fb9f3a"
            ],
            [
             0.8888888888888888,
             "#fdca26"
            ],
            [
             1,
             "#f0f921"
            ]
           ]
          },
          "colorway": [
           "#636efa",
           "#EF553B",
           "#00cc96",
           "#ab63fa",
           "#FFA15A",
           "#19d3f3",
           "#FF6692",
           "#B6E880",
           "#FF97FF",
           "#FECB52"
          ],
          "font": {
           "color": "#f2f5fa"
          },
          "geo": {
           "bgcolor": "rgb(17,17,17)",
           "lakecolor": "rgb(17,17,17)",
           "landcolor": "rgb(17,17,17)",
           "showlakes": true,
           "showland": true,
           "subunitcolor": "#506784"
          },
          "hoverlabel": {
           "align": "left"
          },
          "hovermode": "closest",
          "mapbox": {
           "style": "dark"
          },
          "paper_bgcolor": "rgb(17,17,17)",
          "plot_bgcolor": "rgb(17,17,17)",
          "polar": {
           "angularaxis": {
            "gridcolor": "#506784",
            "linecolor": "#506784",
            "ticks": ""
           },
           "bgcolor": "rgb(17,17,17)",
           "radialaxis": {
            "gridcolor": "#506784",
            "linecolor": "#506784",
            "ticks": ""
           }
          },
          "scene": {
           "xaxis": {
            "backgroundcolor": "rgb(17,17,17)",
            "gridcolor": "#506784",
            "gridwidth": 2,
            "linecolor": "#506784",
            "showbackground": true,
            "ticks": "",
            "zerolinecolor": "#C8D4E3"
           },
           "yaxis": {
            "backgroundcolor": "rgb(17,17,17)",
            "gridcolor": "#506784",
            "gridwidth": 2,
            "linecolor": "#506784",
            "showbackground": true,
            "ticks": "",
            "zerolinecolor": "#C8D4E3"
           },
           "zaxis": {
            "backgroundcolor": "rgb(17,17,17)",
            "gridcolor": "#506784",
            "gridwidth": 2,
            "linecolor": "#506784",
            "showbackground": true,
            "ticks": "",
            "zerolinecolor": "#C8D4E3"
           }
          },
          "shapedefaults": {
           "line": {
            "color": "#f2f5fa"
           }
          },
          "sliderdefaults": {
           "bgcolor": "#C8D4E3",
           "bordercolor": "rgb(17,17,17)",
           "borderwidth": 1,
           "tickwidth": 0
          },
          "ternary": {
           "aaxis": {
            "gridcolor": "#506784",
            "linecolor": "#506784",
            "ticks": ""
           },
           "baxis": {
            "gridcolor": "#506784",
            "linecolor": "#506784",
            "ticks": ""
           },
           "bgcolor": "rgb(17,17,17)",
           "caxis": {
            "gridcolor": "#506784",
            "linecolor": "#506784",
            "ticks": ""
           }
          },
          "title": {
           "x": 0.05
          },
          "updatemenudefaults": {
           "bgcolor": "#506784",
           "borderwidth": 0
          },
          "xaxis": {
           "automargin": true,
           "gridcolor": "#283442",
           "linecolor": "#506784",
           "ticks": "",
           "title": {
            "standoff": 15
           },
           "zerolinecolor": "#283442",
           "zerolinewidth": 2
          },
          "yaxis": {
           "automargin": true,
           "gridcolor": "#283442",
           "linecolor": "#506784",
           "ticks": "",
           "title": {
            "standoff": 15
           },
           "zerolinecolor": "#283442",
           "zerolinewidth": 2
          }
         }
        },
        "width": 1800,
        "xaxis": {
         "anchor": "y",
         "domain": [
          0,
          1
         ],
         "title": {
          "text": "Nv2.5"
         }
        },
        "yaxis": {
         "anchor": "x",
         "autorange": "reversed",
         "domain": [
          0,
          1
         ],
         "tickfont": {
          "size": 10
         },
         "title": {
          "text": "Nv2.5"
         }
        }
       }
      }
     },
     "metadata": {},
     "output_type": "display_data"
    }
   ],
   "source": [
    "# Heatmap a partir de la matriz de correlación \n",
    "\n",
    "fig = px.imshow(corr_delit, text_auto=True, aspect=\"auto\", color_continuous_scale=\"Jet\")\n",
    "fig.update_layout(template=\"plotly_dark\", width=1800, height=1200)\n",
    "# fig.update_xaxes(tickmode=\"array\", tickvals=[])\n",
    "fig.update_yaxes(tickfont=dict(size=10))"
   ]
  },
  {
   "cell_type": "code",
   "execution_count": 303,
   "metadata": {},
   "outputs": [
    {
     "data": {
      "application/vnd.plotly.v1+json": {
       "config": {
        "plotlyServerURL": "https://plot.ly"
       },
       "data": [
        {
         "coloraxis": "coloraxis",
         "hovertemplate": "Nv2.5: %{x}<br>Nv2.5: %{y}<br>color: %{z}<extra></extra>",
         "name": "0",
         "texttemplate": "%{z}",
         "type": "heatmap",
         "x": [
          "Delitos contra el patrimonio y el orden socioeconómico",
          "Delitos contra la Administración Pública",
          "Delitos contra la Constitución y el orden público",
          "Delitos contra la intimidad y el honor",
          "Delitos contra la libertad",
          "Delitos contra la seguridad",
          "Delitos contra la vida y la integridad física",
          "Delitos contra las relaciones familiares",
          "Delitos contra los derechos de los trabajadores",
          "Delitos relacionados con el medio ambiente y la planificación territorial",
          "Delitos sexuales",
          "Manipulación genética"
         ],
         "xaxis": "x",
         "y": [
          "Delitos contra el patrimonio y el orden socioeconómico",
          "Delitos contra la Administración Pública",
          "Delitos contra la Constitución y el orden público",
          "Delitos contra la intimidad y el honor",
          "Delitos contra la libertad",
          "Delitos contra la seguridad",
          "Delitos contra la vida y la integridad física",
          "Delitos contra las relaciones familiares",
          "Delitos contra los derechos de los trabajadores",
          "Delitos relacionados con el medio ambiente y la planificación territorial",
          "Delitos sexuales",
          "Manipulación genética"
         ],
         "yaxis": "y",
         "z": [
          [
           1,
           null,
           null,
           null,
           null,
           null,
           null,
           null,
           -0.5023887558848357,
           null,
           null,
           null
          ],
          [
           null,
           1,
           null,
           null,
           null,
           null,
           null,
           null,
           null,
           0.5014786450016704,
           null,
           null
          ],
          [
           null,
           null,
           1,
           null,
           null,
           null,
           null,
           null,
           null,
           null,
           null,
           null
          ],
          [
           null,
           null,
           null,
           1,
           0.8055869146690714,
           null,
           0.8109036632429966,
           0.7120298806323374,
           null,
           -0.7725218349903871,
           null,
           0.779117779172937
          ],
          [
           null,
           null,
           null,
           0.8055869146690714,
           1,
           null,
           0.9943330435000807,
           0.9620201971765037,
           null,
           -0.6957001043343221,
           -0.7592764703702243,
           0.9939991558153531
          ],
          [
           null,
           null,
           null,
           null,
           null,
           1,
           null,
           -0.5543661492722539,
           0.614511995780526,
           null,
           0.5969268444597264,
           null
          ],
          [
           null,
           null,
           null,
           0.8109036632429966,
           0.9943330435000807,
           null,
           1,
           0.9710177782389411,
           null,
           -0.6572438269042502,
           -0.7789682404903254,
           0.99717325600062
          ],
          [
           null,
           null,
           null,
           0.7120298806323374,
           0.9620201971765037,
           -0.5543661492722539,
           0.9710177782389411,
           1,
           null,
           -0.5285970166791114,
           -0.8603710297374885,
           0.9816427505023221
          ],
          [
           -0.5023887558848357,
           null,
           null,
           null,
           null,
           0.614511995780526,
           null,
           null,
           1,
           null,
           null,
           null
          ],
          [
           null,
           0.5014786450016704,
           null,
           -0.7725218349903871,
           -0.6957001043343221,
           null,
           -0.6572438269042502,
           -0.5285970166791114,
           null,
           1,
           null,
           -0.6409392809425289
          ],
          [
           null,
           null,
           null,
           null,
           -0.7592764703702243,
           0.5969268444597264,
           -0.7789682404903254,
           -0.8603710297374885,
           null,
           null,
           1,
           -0.808545843242926
          ],
          [
           null,
           null,
           null,
           0.779117779172937,
           0.9939991558153531,
           null,
           0.99717325600062,
           0.9816427505023221,
           null,
           -0.6409392809425289,
           -0.808545843242926,
           1
          ]
         ]
        }
       ],
       "layout": {
        "coloraxis": {
         "colorscale": [
          [
           0,
           "rgb(0,0,131)"
          ],
          [
           0.2,
           "rgb(0,60,170)"
          ],
          [
           0.4,
           "rgb(5,255,255)"
          ],
          [
           0.6,
           "rgb(255,255,0)"
          ],
          [
           0.8,
           "rgb(250,0,0)"
          ],
          [
           1,
           "rgb(128,0,0)"
          ]
         ]
        },
        "height": 1200,
        "margin": {
         "t": 60
        },
        "template": {
         "data": {
          "bar": [
           {
            "error_x": {
             "color": "#f2f5fa"
            },
            "error_y": {
             "color": "#f2f5fa"
            },
            "marker": {
             "line": {
              "color": "rgb(17,17,17)",
              "width": 0.5
             },
             "pattern": {
              "fillmode": "overlay",
              "size": 10,
              "solidity": 0.2
             }
            },
            "type": "bar"
           }
          ],
          "barpolar": [
           {
            "marker": {
             "line": {
              "color": "rgb(17,17,17)",
              "width": 0.5
             },
             "pattern": {
              "fillmode": "overlay",
              "size": 10,
              "solidity": 0.2
             }
            },
            "type": "barpolar"
           }
          ],
          "carpet": [
           {
            "aaxis": {
             "endlinecolor": "#A2B1C6",
             "gridcolor": "#506784",
             "linecolor": "#506784",
             "minorgridcolor": "#506784",
             "startlinecolor": "#A2B1C6"
            },
            "baxis": {
             "endlinecolor": "#A2B1C6",
             "gridcolor": "#506784",
             "linecolor": "#506784",
             "minorgridcolor": "#506784",
             "startlinecolor": "#A2B1C6"
            },
            "type": "carpet"
           }
          ],
          "choropleth": [
           {
            "colorbar": {
             "outlinewidth": 0,
             "ticks": ""
            },
            "type": "choropleth"
           }
          ],
          "contour": [
           {
            "colorbar": {
             "outlinewidth": 0,
             "ticks": ""
            },
            "colorscale": [
             [
              0,
              "#0d0887"
             ],
             [
              0.1111111111111111,
              "#46039f"
             ],
             [
              0.2222222222222222,
              "#7201a8"
             ],
             [
              0.3333333333333333,
              "#9c179e"
             ],
             [
              0.4444444444444444,
              "#bd3786"
             ],
             [
              0.5555555555555556,
              "#d8576b"
             ],
             [
              0.6666666666666666,
              "#ed7953"
             ],
             [
              0.7777777777777778,
              "#fb9f3a"
             ],
             [
              0.8888888888888888,
              "#fdca26"
             ],
             [
              1,
              "#f0f921"
             ]
            ],
            "type": "contour"
           }
          ],
          "contourcarpet": [
           {
            "colorbar": {
             "outlinewidth": 0,
             "ticks": ""
            },
            "type": "contourcarpet"
           }
          ],
          "heatmap": [
           {
            "colorbar": {
             "outlinewidth": 0,
             "ticks": ""
            },
            "colorscale": [
             [
              0,
              "#0d0887"
             ],
             [
              0.1111111111111111,
              "#46039f"
             ],
             [
              0.2222222222222222,
              "#7201a8"
             ],
             [
              0.3333333333333333,
              "#9c179e"
             ],
             [
              0.4444444444444444,
              "#bd3786"
             ],
             [
              0.5555555555555556,
              "#d8576b"
             ],
             [
              0.6666666666666666,
              "#ed7953"
             ],
             [
              0.7777777777777778,
              "#fb9f3a"
             ],
             [
              0.8888888888888888,
              "#fdca26"
             ],
             [
              1,
              "#f0f921"
             ]
            ],
            "type": "heatmap"
           }
          ],
          "heatmapgl": [
           {
            "colorbar": {
             "outlinewidth": 0,
             "ticks": ""
            },
            "colorscale": [
             [
              0,
              "#0d0887"
             ],
             [
              0.1111111111111111,
              "#46039f"
             ],
             [
              0.2222222222222222,
              "#7201a8"
             ],
             [
              0.3333333333333333,
              "#9c179e"
             ],
             [
              0.4444444444444444,
              "#bd3786"
             ],
             [
              0.5555555555555556,
              "#d8576b"
             ],
             [
              0.6666666666666666,
              "#ed7953"
             ],
             [
              0.7777777777777778,
              "#fb9f3a"
             ],
             [
              0.8888888888888888,
              "#fdca26"
             ],
             [
              1,
              "#f0f921"
             ]
            ],
            "type": "heatmapgl"
           }
          ],
          "histogram": [
           {
            "marker": {
             "pattern": {
              "fillmode": "overlay",
              "size": 10,
              "solidity": 0.2
             }
            },
            "type": "histogram"
           }
          ],
          "histogram2d": [
           {
            "colorbar": {
             "outlinewidth": 0,
             "ticks": ""
            },
            "colorscale": [
             [
              0,
              "#0d0887"
             ],
             [
              0.1111111111111111,
              "#46039f"
             ],
             [
              0.2222222222222222,
              "#7201a8"
             ],
             [
              0.3333333333333333,
              "#9c179e"
             ],
             [
              0.4444444444444444,
              "#bd3786"
             ],
             [
              0.5555555555555556,
              "#d8576b"
             ],
             [
              0.6666666666666666,
              "#ed7953"
             ],
             [
              0.7777777777777778,
              "#fb9f3a"
             ],
             [
              0.8888888888888888,
              "#fdca26"
             ],
             [
              1,
              "#f0f921"
             ]
            ],
            "type": "histogram2d"
           }
          ],
          "histogram2dcontour": [
           {
            "colorbar": {
             "outlinewidth": 0,
             "ticks": ""
            },
            "colorscale": [
             [
              0,
              "#0d0887"
             ],
             [
              0.1111111111111111,
              "#46039f"
             ],
             [
              0.2222222222222222,
              "#7201a8"
             ],
             [
              0.3333333333333333,
              "#9c179e"
             ],
             [
              0.4444444444444444,
              "#bd3786"
             ],
             [
              0.5555555555555556,
              "#d8576b"
             ],
             [
              0.6666666666666666,
              "#ed7953"
             ],
             [
              0.7777777777777778,
              "#fb9f3a"
             ],
             [
              0.8888888888888888,
              "#fdca26"
             ],
             [
              1,
              "#f0f921"
             ]
            ],
            "type": "histogram2dcontour"
           }
          ],
          "mesh3d": [
           {
            "colorbar": {
             "outlinewidth": 0,
             "ticks": ""
            },
            "type": "mesh3d"
           }
          ],
          "parcoords": [
           {
            "line": {
             "colorbar": {
              "outlinewidth": 0,
              "ticks": ""
             }
            },
            "type": "parcoords"
           }
          ],
          "pie": [
           {
            "automargin": true,
            "type": "pie"
           }
          ],
          "scatter": [
           {
            "marker": {
             "line": {
              "color": "#283442"
             }
            },
            "type": "scatter"
           }
          ],
          "scatter3d": [
           {
            "line": {
             "colorbar": {
              "outlinewidth": 0,
              "ticks": ""
             }
            },
            "marker": {
             "colorbar": {
              "outlinewidth": 0,
              "ticks": ""
             }
            },
            "type": "scatter3d"
           }
          ],
          "scattercarpet": [
           {
            "marker": {
             "colorbar": {
              "outlinewidth": 0,
              "ticks": ""
             }
            },
            "type": "scattercarpet"
           }
          ],
          "scattergeo": [
           {
            "marker": {
             "colorbar": {
              "outlinewidth": 0,
              "ticks": ""
             }
            },
            "type": "scattergeo"
           }
          ],
          "scattergl": [
           {
            "marker": {
             "line": {
              "color": "#283442"
             }
            },
            "type": "scattergl"
           }
          ],
          "scattermapbox": [
           {
            "marker": {
             "colorbar": {
              "outlinewidth": 0,
              "ticks": ""
             }
            },
            "type": "scattermapbox"
           }
          ],
          "scatterpolar": [
           {
            "marker": {
             "colorbar": {
              "outlinewidth": 0,
              "ticks": ""
             }
            },
            "type": "scatterpolar"
           }
          ],
          "scatterpolargl": [
           {
            "marker": {
             "colorbar": {
              "outlinewidth": 0,
              "ticks": ""
             }
            },
            "type": "scatterpolargl"
           }
          ],
          "scatterternary": [
           {
            "marker": {
             "colorbar": {
              "outlinewidth": 0,
              "ticks": ""
             }
            },
            "type": "scatterternary"
           }
          ],
          "surface": [
           {
            "colorbar": {
             "outlinewidth": 0,
             "ticks": ""
            },
            "colorscale": [
             [
              0,
              "#0d0887"
             ],
             [
              0.1111111111111111,
              "#46039f"
             ],
             [
              0.2222222222222222,
              "#7201a8"
             ],
             [
              0.3333333333333333,
              "#9c179e"
             ],
             [
              0.4444444444444444,
              "#bd3786"
             ],
             [
              0.5555555555555556,
              "#d8576b"
             ],
             [
              0.6666666666666666,
              "#ed7953"
             ],
             [
              0.7777777777777778,
              "#fb9f3a"
             ],
             [
              0.8888888888888888,
              "#fdca26"
             ],
             [
              1,
              "#f0f921"
             ]
            ],
            "type": "surface"
           }
          ],
          "table": [
           {
            "cells": {
             "fill": {
              "color": "#506784"
             },
             "line": {
              "color": "rgb(17,17,17)"
             }
            },
            "header": {
             "fill": {
              "color": "#2a3f5f"
             },
             "line": {
              "color": "rgb(17,17,17)"
             }
            },
            "type": "table"
           }
          ]
         },
         "layout": {
          "annotationdefaults": {
           "arrowcolor": "#f2f5fa",
           "arrowhead": 0,
           "arrowwidth": 1
          },
          "autotypenumbers": "strict",
          "coloraxis": {
           "colorbar": {
            "outlinewidth": 0,
            "ticks": ""
           }
          },
          "colorscale": {
           "diverging": [
            [
             0,
             "#8e0152"
            ],
            [
             0.1,
             "#c51b7d"
            ],
            [
             0.2,
             "#de77ae"
            ],
            [
             0.3,
             "#f1b6da"
            ],
            [
             0.4,
             "#fde0ef"
            ],
            [
             0.5,
             "#f7f7f7"
            ],
            [
             0.6,
             "#e6f5d0"
            ],
            [
             0.7,
             "#b8e186"
            ],
            [
             0.8,
             "#7fbc41"
            ],
            [
             0.9,
             "#4d9221"
            ],
            [
             1,
             "#276419"
            ]
           ],
           "sequential": [
            [
             0,
             "#0d0887"
            ],
            [
             0.1111111111111111,
             "#46039f"
            ],
            [
             0.2222222222222222,
             "#7201a8"
            ],
            [
             0.3333333333333333,
             "#9c179e"
            ],
            [
             0.4444444444444444,
             "#bd3786"
            ],
            [
             0.5555555555555556,
             "#d8576b"
            ],
            [
             0.6666666666666666,
             "#ed7953"
            ],
            [
             0.7777777777777778,
             "#fb9f3a"
            ],
            [
             0.8888888888888888,
             "#fdca26"
            ],
            [
             1,
             "#f0f921"
            ]
           ],
           "sequentialminus": [
            [
             0,
             "#0d0887"
            ],
            [
             0.1111111111111111,
             "#46039f"
            ],
            [
             0.2222222222222222,
             "#7201a8"
            ],
            [
             0.3333333333333333,
             "#9c179e"
            ],
            [
             0.4444444444444444,
             "#bd3786"
            ],
            [
             0.5555555555555556,
             "#d8576b"
            ],
            [
             0.6666666666666666,
             "#ed7953"
            ],
            [
             0.7777777777777778,
             "#fb9f3a"
            ],
            [
             0.8888888888888888,
             "#fdca26"
            ],
            [
             1,
             "#f0f921"
            ]
           ]
          },
          "colorway": [
           "#636efa",
           "#EF553B",
           "#00cc96",
           "#ab63fa",
           "#FFA15A",
           "#19d3f3",
           "#FF6692",
           "#B6E880",
           "#FF97FF",
           "#FECB52"
          ],
          "font": {
           "color": "#f2f5fa"
          },
          "geo": {
           "bgcolor": "rgb(17,17,17)",
           "lakecolor": "rgb(17,17,17)",
           "landcolor": "rgb(17,17,17)",
           "showlakes": true,
           "showland": true,
           "subunitcolor": "#506784"
          },
          "hoverlabel": {
           "align": "left"
          },
          "hovermode": "closest",
          "mapbox": {
           "style": "dark"
          },
          "paper_bgcolor": "rgb(17,17,17)",
          "plot_bgcolor": "rgb(17,17,17)",
          "polar": {
           "angularaxis": {
            "gridcolor": "#506784",
            "linecolor": "#506784",
            "ticks": ""
           },
           "bgcolor": "rgb(17,17,17)",
           "radialaxis": {
            "gridcolor": "#506784",
            "linecolor": "#506784",
            "ticks": ""
           }
          },
          "scene": {
           "xaxis": {
            "backgroundcolor": "rgb(17,17,17)",
            "gridcolor": "#506784",
            "gridwidth": 2,
            "linecolor": "#506784",
            "showbackground": true,
            "ticks": "",
            "zerolinecolor": "#C8D4E3"
           },
           "yaxis": {
            "backgroundcolor": "rgb(17,17,17)",
            "gridcolor": "#506784",
            "gridwidth": 2,
            "linecolor": "#506784",
            "showbackground": true,
            "ticks": "",
            "zerolinecolor": "#C8D4E3"
           },
           "zaxis": {
            "backgroundcolor": "rgb(17,17,17)",
            "gridcolor": "#506784",
            "gridwidth": 2,
            "linecolor": "#506784",
            "showbackground": true,
            "ticks": "",
            "zerolinecolor": "#C8D4E3"
           }
          },
          "shapedefaults": {
           "line": {
            "color": "#f2f5fa"
           }
          },
          "sliderdefaults": {
           "bgcolor": "#C8D4E3",
           "bordercolor": "rgb(17,17,17)",
           "borderwidth": 1,
           "tickwidth": 0
          },
          "ternary": {
           "aaxis": {
            "gridcolor": "#506784",
            "linecolor": "#506784",
            "ticks": ""
           },
           "baxis": {
            "gridcolor": "#506784",
            "linecolor": "#506784",
            "ticks": ""
           },
           "bgcolor": "rgb(17,17,17)",
           "caxis": {
            "gridcolor": "#506784",
            "linecolor": "#506784",
            "ticks": ""
           }
          },
          "title": {
           "x": 0.05
          },
          "updatemenudefaults": {
           "bgcolor": "#506784",
           "borderwidth": 0
          },
          "xaxis": {
           "automargin": true,
           "gridcolor": "#283442",
           "linecolor": "#506784",
           "ticks": "",
           "title": {
            "standoff": 15
           },
           "zerolinecolor": "#283442",
           "zerolinewidth": 2
          },
          "yaxis": {
           "automargin": true,
           "gridcolor": "#283442",
           "linecolor": "#506784",
           "ticks": "",
           "title": {
            "standoff": 15
           },
           "zerolinecolor": "#283442",
           "zerolinewidth": 2
          }
         }
        },
        "width": 1800,
        "xaxis": {
         "anchor": "y",
         "domain": [
          0,
          1
         ],
         "title": {
          "text": "Nv2.5"
         }
        },
        "yaxis": {
         "anchor": "x",
         "autorange": "reversed",
         "domain": [
          0,
          1
         ],
         "tickfont": {
          "size": 10
         },
         "title": {
          "text": "Nv2.5"
         }
        }
       }
      }
     },
     "metadata": {},
     "output_type": "display_data"
    }
   ],
   "source": [
    "# Matriz de correlación 2\n",
    "\n",
    "corr_delit_2 = corr_delit[(corr_delit < -0.5) | (corr_delit > 0.5)]\n",
    "\n",
    "# Heatmap a partir de la matriz de correlación 2\n",
    "\n",
    "fig = px.imshow(corr_delit_2, text_auto=True, aspect=\"auto\", color_continuous_scale=\"Jet\")\n",
    "fig.update_layout(template=\"plotly_dark\", width=1800, height=1200)\n",
    "# fig.update_xaxes(tickmode=\"array\", tickvals=[])\n",
    "fig.update_yaxes(tickfont=dict(size=10))"
   ]
  },
  {
   "cell_type": "code",
   "execution_count": 304,
   "metadata": {},
   "outputs": [
    {
     "data": {
      "text/html": [
       "<div>\n",
       "<style scoped>\n",
       "    .dataframe tbody tr th:only-of-type {\n",
       "        vertical-align: middle;\n",
       "    }\n",
       "\n",
       "    .dataframe tbody tr th {\n",
       "        vertical-align: top;\n",
       "    }\n",
       "\n",
       "    .dataframe thead th {\n",
       "        text-align: right;\n",
       "    }\n",
       "</style>\n",
       "<table border=\"1\" class=\"dataframe\">\n",
       "  <thead>\n",
       "    <tr style=\"text-align: right;\">\n",
       "      <th></th>\n",
       "      <th>Periodo</th>\n",
       "      <th>Total</th>\n",
       "      <th>Incremento</th>\n",
       "      <th>Incremento%</th>\n",
       "    </tr>\n",
       "  </thead>\n",
       "  <tbody>\n",
       "    <tr>\n",
       "      <th>0</th>\n",
       "      <td>2013</td>\n",
       "      <td>13433.882</td>\n",
       "      <td>0.000</td>\n",
       "      <td>0.000000</td>\n",
       "    </tr>\n",
       "    <tr>\n",
       "      <th>1</th>\n",
       "      <td>2014</td>\n",
       "      <td>13789.608</td>\n",
       "      <td>355.726</td>\n",
       "      <td>2.647976</td>\n",
       "    </tr>\n",
       "    <tr>\n",
       "      <th>2</th>\n",
       "      <td>2015</td>\n",
       "      <td>15460.483</td>\n",
       "      <td>1670.875</td>\n",
       "      <td>12.116914</td>\n",
       "    </tr>\n",
       "    <tr>\n",
       "      <th>3</th>\n",
       "      <td>2016</td>\n",
       "      <td>16536.454</td>\n",
       "      <td>1075.971</td>\n",
       "      <td>6.959491</td>\n",
       "    </tr>\n",
       "    <tr>\n",
       "      <th>4</th>\n",
       "      <td>2017</td>\n",
       "      <td>16437.758</td>\n",
       "      <td>-98.696</td>\n",
       "      <td>-0.596839</td>\n",
       "    </tr>\n",
       "    <tr>\n",
       "      <th>5</th>\n",
       "      <td>2018</td>\n",
       "      <td>14491.144</td>\n",
       "      <td>-1946.614</td>\n",
       "      <td>-11.842333</td>\n",
       "    </tr>\n",
       "    <tr>\n",
       "      <th>6</th>\n",
       "      <td>2019</td>\n",
       "      <td>14262.983</td>\n",
       "      <td>-228.161</td>\n",
       "      <td>-1.574486</td>\n",
       "    </tr>\n",
       "    <tr>\n",
       "      <th>7</th>\n",
       "      <td>2020</td>\n",
       "      <td>13636.784</td>\n",
       "      <td>-626.199</td>\n",
       "      <td>-4.390379</td>\n",
       "    </tr>\n",
       "    <tr>\n",
       "      <th>8</th>\n",
       "      <td>2021</td>\n",
       "      <td>15296.949</td>\n",
       "      <td>1660.165</td>\n",
       "      <td>12.174168</td>\n",
       "    </tr>\n",
       "  </tbody>\n",
       "</table>\n",
       "</div>"
      ],
      "text/plain": [
       "   Periodo      Total  Incremento  Incremento%\n",
       "0     2013  13433.882       0.000     0.000000\n",
       "1     2014  13789.608     355.726     2.647976\n",
       "2     2015  15460.483    1670.875    12.116914\n",
       "3     2016  16536.454    1075.971     6.959491\n",
       "4     2017  16437.758     -98.696    -0.596839\n",
       "5     2018  14491.144   -1946.614   -11.842333\n",
       "6     2019  14262.983    -228.161    -1.574486\n",
       "7     2020  13636.784    -626.199    -4.390379\n",
       "8     2021  15296.949    1660.165    12.174168"
      ]
     },
     "execution_count": 304,
     "metadata": {},
     "output_type": "execute_result"
    }
   ],
   "source": [
    "delitos_tipo_py"
   ]
  },
  {
   "cell_type": "code",
   "execution_count": 305,
   "metadata": {},
   "outputs": [
    {
     "data": {
      "text/html": [
       "<div>\n",
       "<style scoped>\n",
       "    .dataframe tbody tr th:only-of-type {\n",
       "        vertical-align: middle;\n",
       "    }\n",
       "\n",
       "    .dataframe tbody tr th {\n",
       "        vertical-align: top;\n",
       "    }\n",
       "\n",
       "    .dataframe thead th {\n",
       "        text-align: right;\n",
       "    }\n",
       "</style>\n",
       "<table border=\"1\" class=\"dataframe\">\n",
       "  <thead>\n",
       "    <tr style=\"text-align: right;\">\n",
       "      <th></th>\n",
       "      <th>Periodo</th>\n",
       "      <th>Total</th>\n",
       "      <th>Incremento</th>\n",
       "      <th>Incremento%</th>\n",
       "      <th>Poblacion</th>\n",
       "      <th>Tasa_Crim</th>\n",
       "    </tr>\n",
       "  </thead>\n",
       "  <tbody>\n",
       "    <tr>\n",
       "      <th>0</th>\n",
       "      <td>2013</td>\n",
       "      <td>13433.882</td>\n",
       "      <td>0.000</td>\n",
       "      <td>0.000000</td>\n",
       "      <td>46727890.0</td>\n",
       "      <td>28.749173</td>\n",
       "    </tr>\n",
       "    <tr>\n",
       "      <th>1</th>\n",
       "      <td>2014</td>\n",
       "      <td>13789.608</td>\n",
       "      <td>355.726</td>\n",
       "      <td>2.647976</td>\n",
       "      <td>46512199.0</td>\n",
       "      <td>29.647293</td>\n",
       "    </tr>\n",
       "    <tr>\n",
       "      <th>2</th>\n",
       "      <td>2015</td>\n",
       "      <td>15460.483</td>\n",
       "      <td>1670.875</td>\n",
       "      <td>12.116914</td>\n",
       "      <td>46449565.0</td>\n",
       "      <td>33.284452</td>\n",
       "    </tr>\n",
       "    <tr>\n",
       "      <th>3</th>\n",
       "      <td>2016</td>\n",
       "      <td>16536.454</td>\n",
       "      <td>1075.971</td>\n",
       "      <td>6.959491</td>\n",
       "      <td>46440099.0</td>\n",
       "      <td>35.608137</td>\n",
       "    </tr>\n",
       "    <tr>\n",
       "      <th>4</th>\n",
       "      <td>2017</td>\n",
       "      <td>16437.758</td>\n",
       "      <td>-98.696</td>\n",
       "      <td>-0.596839</td>\n",
       "      <td>46528966.0</td>\n",
       "      <td>35.328011</td>\n",
       "    </tr>\n",
       "    <tr>\n",
       "      <th>5</th>\n",
       "      <td>2018</td>\n",
       "      <td>14491.144</td>\n",
       "      <td>-1946.614</td>\n",
       "      <td>-11.842333</td>\n",
       "      <td>46658447.0</td>\n",
       "      <td>31.057922</td>\n",
       "    </tr>\n",
       "    <tr>\n",
       "      <th>6</th>\n",
       "      <td>2019</td>\n",
       "      <td>14262.983</td>\n",
       "      <td>-228.161</td>\n",
       "      <td>-1.574486</td>\n",
       "      <td>46937060.0</td>\n",
       "      <td>30.387466</td>\n",
       "    </tr>\n",
       "    <tr>\n",
       "      <th>7</th>\n",
       "      <td>2020</td>\n",
       "      <td>13636.784</td>\n",
       "      <td>-626.199</td>\n",
       "      <td>-4.390379</td>\n",
       "      <td>47332614.0</td>\n",
       "      <td>28.810545</td>\n",
       "    </tr>\n",
       "    <tr>\n",
       "      <th>8</th>\n",
       "      <td>2021</td>\n",
       "      <td>15296.949</td>\n",
       "      <td>1660.165</td>\n",
       "      <td>12.174168</td>\n",
       "      <td>47400798.0</td>\n",
       "      <td>32.271501</td>\n",
       "    </tr>\n",
       "  </tbody>\n",
       "</table>\n",
       "</div>"
      ],
      "text/plain": [
       "   Periodo      Total  Incremento  Incremento%  \\\n",
       "0     2013  13433.882       0.000     0.000000   \n",
       "1     2014  13789.608     355.726     2.647976   \n",
       "2     2015  15460.483    1670.875    12.116914   \n",
       "3     2016  16536.454    1075.971     6.959491   \n",
       "4     2017  16437.758     -98.696    -0.596839   \n",
       "5     2018  14491.144   -1946.614   -11.842333   \n",
       "6     2019  14262.983    -228.161    -1.574486   \n",
       "7     2020  13636.784    -626.199    -4.390379   \n",
       "8     2021  15296.949    1660.165    12.174168   \n",
       "\n",
       "    Poblacion  Tasa_Crim  \n",
       "0  46727890.0  28.749173  \n",
       "1  46512199.0  29.647293  \n",
       "2  46449565.0  33.284452  \n",
       "3  46440099.0  35.608137  \n",
       "4  46528966.0  35.328011  \n",
       "5  46658447.0  31.057922  \n",
       "6  46937060.0  30.387466  \n",
       "7  47332614.0  28.810545  \n",
       "8  47400798.0  32.271501  "
      ]
     },
     "execution_count": 305,
     "metadata": {},
     "output_type": "execute_result"
    }
   ],
   "source": [
    "# Calculamos la tasa de criminalidad por año (número de infracciones penales por 1.000 habitantes)\n",
    "\n",
    "spain_population = {2013: 46727890, 2014: 46512199, 2015: 46449565, \n",
    "                    2016: 46440099, 2017: 46528966, 2018: 46658447, \n",
    "                    2019: 46937060, 2020: 47332614, 2021: 47400798}\n",
    "\n",
    "for k, v in spain_population.items():\n",
    "    delitos_tipo_py.loc[delitos_tipo_py[\"Periodo\"] == k, \"Poblacion\"] = v\n",
    "\n",
    "delitos_tipo_py[\"Tasa_Crim\"] = (delitos_tipo_py[\"Total\"] / (delitos_tipo_py[\"Poblacion\"]/1000)) * 100\n",
    "delitos_tipo_py"
   ]
  },
  {
   "cell_type": "code",
   "execution_count": 306,
   "metadata": {},
   "outputs": [
    {
     "data": {
      "application/vnd.plotly.v1+json": {
       "config": {
        "plotlyServerURL": "https://plot.ly"
       },
       "data": [
        {
         "marker": {
          "color": "#5594B0"
         },
         "name": "Total",
         "type": "bar",
         "x": [
          2013,
          2014,
          2015,
          2016,
          2017,
          2018,
          2019,
          2020,
          2021
         ],
         "y": [
          28.749173138354845,
          29.647293175710743,
          33.28445164125864,
          35.60813683881251,
          35.32801051284914,
          31.057921837818565,
          30.387465682767523,
          28.81054488137925,
          32.27150099878065
         ]
        },
        {
         "line": {
          "color": "orange",
          "dash": "dash"
         },
         "mode": "lines",
         "name": "Total",
         "type": "scatter",
         "x": [
          2013,
          2014,
          2015,
          2016,
          2017,
          2018,
          2019,
          2020,
          2021
         ],
         "y": [
          28.749173138354845,
          29.647293175710743,
          33.28445164125864,
          35.60813683881251,
          35.32801051284914,
          31.057921837818565,
          30.387465682767523,
          28.81054488137925,
          32.27150099878065
         ]
        }
       ],
       "layout": {
        "annotations": [
         {
          "font": {
           "size": 14
          },
          "showarrow": false,
          "text": "28.75",
          "x": 2013,
          "y": 28.749173138354845
         },
         {
          "font": {
           "size": 14
          },
          "showarrow": false,
          "text": "29.65",
          "x": 2014,
          "y": 29.647293175710743
         },
         {
          "font": {
           "size": 14
          },
          "showarrow": false,
          "text": "33.28",
          "x": 2015,
          "y": 33.28445164125864
         },
         {
          "font": {
           "size": 14
          },
          "showarrow": false,
          "text": "35.61",
          "x": 2016,
          "y": 35.60813683881251
         },
         {
          "font": {
           "size": 14
          },
          "showarrow": false,
          "text": "35.33",
          "x": 2017,
          "y": 35.32801051284914
         },
         {
          "font": {
           "size": 14
          },
          "showarrow": false,
          "text": "31.06",
          "x": 2018,
          "y": 31.057921837818565
         },
         {
          "font": {
           "size": 14
          },
          "showarrow": false,
          "text": "30.39",
          "x": 2019,
          "y": 30.387465682767523
         },
         {
          "font": {
           "size": 14
          },
          "showarrow": false,
          "text": "28.81",
          "x": 2020,
          "y": 28.81054488137925
         },
         {
          "font": {
           "size": 14
          },
          "showarrow": false,
          "text": "32.27",
          "x": 2021,
          "y": 32.27150099878065
         }
        ],
        "height": 600,
        "showlegend": false,
        "template": {
         "data": {
          "bar": [
           {
            "error_x": {
             "color": "#f2f5fa"
            },
            "error_y": {
             "color": "#f2f5fa"
            },
            "marker": {
             "line": {
              "color": "rgb(17,17,17)",
              "width": 0.5
             },
             "pattern": {
              "fillmode": "overlay",
              "size": 10,
              "solidity": 0.2
             }
            },
            "type": "bar"
           }
          ],
          "barpolar": [
           {
            "marker": {
             "line": {
              "color": "rgb(17,17,17)",
              "width": 0.5
             },
             "pattern": {
              "fillmode": "overlay",
              "size": 10,
              "solidity": 0.2
             }
            },
            "type": "barpolar"
           }
          ],
          "carpet": [
           {
            "aaxis": {
             "endlinecolor": "#A2B1C6",
             "gridcolor": "#506784",
             "linecolor": "#506784",
             "minorgridcolor": "#506784",
             "startlinecolor": "#A2B1C6"
            },
            "baxis": {
             "endlinecolor": "#A2B1C6",
             "gridcolor": "#506784",
             "linecolor": "#506784",
             "minorgridcolor": "#506784",
             "startlinecolor": "#A2B1C6"
            },
            "type": "carpet"
           }
          ],
          "choropleth": [
           {
            "colorbar": {
             "outlinewidth": 0,
             "ticks": ""
            },
            "type": "choropleth"
           }
          ],
          "contour": [
           {
            "colorbar": {
             "outlinewidth": 0,
             "ticks": ""
            },
            "colorscale": [
             [
              0,
              "#0d0887"
             ],
             [
              0.1111111111111111,
              "#46039f"
             ],
             [
              0.2222222222222222,
              "#7201a8"
             ],
             [
              0.3333333333333333,
              "#9c179e"
             ],
             [
              0.4444444444444444,
              "#bd3786"
             ],
             [
              0.5555555555555556,
              "#d8576b"
             ],
             [
              0.6666666666666666,
              "#ed7953"
             ],
             [
              0.7777777777777778,
              "#fb9f3a"
             ],
             [
              0.8888888888888888,
              "#fdca26"
             ],
             [
              1,
              "#f0f921"
             ]
            ],
            "type": "contour"
           }
          ],
          "contourcarpet": [
           {
            "colorbar": {
             "outlinewidth": 0,
             "ticks": ""
            },
            "type": "contourcarpet"
           }
          ],
          "heatmap": [
           {
            "colorbar": {
             "outlinewidth": 0,
             "ticks": ""
            },
            "colorscale": [
             [
              0,
              "#0d0887"
             ],
             [
              0.1111111111111111,
              "#46039f"
             ],
             [
              0.2222222222222222,
              "#7201a8"
             ],
             [
              0.3333333333333333,
              "#9c179e"
             ],
             [
              0.4444444444444444,
              "#bd3786"
             ],
             [
              0.5555555555555556,
              "#d8576b"
             ],
             [
              0.6666666666666666,
              "#ed7953"
             ],
             [
              0.7777777777777778,
              "#fb9f3a"
             ],
             [
              0.8888888888888888,
              "#fdca26"
             ],
             [
              1,
              "#f0f921"
             ]
            ],
            "type": "heatmap"
           }
          ],
          "heatmapgl": [
           {
            "colorbar": {
             "outlinewidth": 0,
             "ticks": ""
            },
            "colorscale": [
             [
              0,
              "#0d0887"
             ],
             [
              0.1111111111111111,
              "#46039f"
             ],
             [
              0.2222222222222222,
              "#7201a8"
             ],
             [
              0.3333333333333333,
              "#9c179e"
             ],
             [
              0.4444444444444444,
              "#bd3786"
             ],
             [
              0.5555555555555556,
              "#d8576b"
             ],
             [
              0.6666666666666666,
              "#ed7953"
             ],
             [
              0.7777777777777778,
              "#fb9f3a"
             ],
             [
              0.8888888888888888,
              "#fdca26"
             ],
             [
              1,
              "#f0f921"
             ]
            ],
            "type": "heatmapgl"
           }
          ],
          "histogram": [
           {
            "marker": {
             "pattern": {
              "fillmode": "overlay",
              "size": 10,
              "solidity": 0.2
             }
            },
            "type": "histogram"
           }
          ],
          "histogram2d": [
           {
            "colorbar": {
             "outlinewidth": 0,
             "ticks": ""
            },
            "colorscale": [
             [
              0,
              "#0d0887"
             ],
             [
              0.1111111111111111,
              "#46039f"
             ],
             [
              0.2222222222222222,
              "#7201a8"
             ],
             [
              0.3333333333333333,
              "#9c179e"
             ],
             [
              0.4444444444444444,
              "#bd3786"
             ],
             [
              0.5555555555555556,
              "#d8576b"
             ],
             [
              0.6666666666666666,
              "#ed7953"
             ],
             [
              0.7777777777777778,
              "#fb9f3a"
             ],
             [
              0.8888888888888888,
              "#fdca26"
             ],
             [
              1,
              "#f0f921"
             ]
            ],
            "type": "histogram2d"
           }
          ],
          "histogram2dcontour": [
           {
            "colorbar": {
             "outlinewidth": 0,
             "ticks": ""
            },
            "colorscale": [
             [
              0,
              "#0d0887"
             ],
             [
              0.1111111111111111,
              "#46039f"
             ],
             [
              0.2222222222222222,
              "#7201a8"
             ],
             [
              0.3333333333333333,
              "#9c179e"
             ],
             [
              0.4444444444444444,
              "#bd3786"
             ],
             [
              0.5555555555555556,
              "#d8576b"
             ],
             [
              0.6666666666666666,
              "#ed7953"
             ],
             [
              0.7777777777777778,
              "#fb9f3a"
             ],
             [
              0.8888888888888888,
              "#fdca26"
             ],
             [
              1,
              "#f0f921"
             ]
            ],
            "type": "histogram2dcontour"
           }
          ],
          "mesh3d": [
           {
            "colorbar": {
             "outlinewidth": 0,
             "ticks": ""
            },
            "type": "mesh3d"
           }
          ],
          "parcoords": [
           {
            "line": {
             "colorbar": {
              "outlinewidth": 0,
              "ticks": ""
             }
            },
            "type": "parcoords"
           }
          ],
          "pie": [
           {
            "automargin": true,
            "type": "pie"
           }
          ],
          "scatter": [
           {
            "marker": {
             "line": {
              "color": "#283442"
             }
            },
            "type": "scatter"
           }
          ],
          "scatter3d": [
           {
            "line": {
             "colorbar": {
              "outlinewidth": 0,
              "ticks": ""
             }
            },
            "marker": {
             "colorbar": {
              "outlinewidth": 0,
              "ticks": ""
             }
            },
            "type": "scatter3d"
           }
          ],
          "scattercarpet": [
           {
            "marker": {
             "colorbar": {
              "outlinewidth": 0,
              "ticks": ""
             }
            },
            "type": "scattercarpet"
           }
          ],
          "scattergeo": [
           {
            "marker": {
             "colorbar": {
              "outlinewidth": 0,
              "ticks": ""
             }
            },
            "type": "scattergeo"
           }
          ],
          "scattergl": [
           {
            "marker": {
             "line": {
              "color": "#283442"
             }
            },
            "type": "scattergl"
           }
          ],
          "scattermapbox": [
           {
            "marker": {
             "colorbar": {
              "outlinewidth": 0,
              "ticks": ""
             }
            },
            "type": "scattermapbox"
           }
          ],
          "scatterpolar": [
           {
            "marker": {
             "colorbar": {
              "outlinewidth": 0,
              "ticks": ""
             }
            },
            "type": "scatterpolar"
           }
          ],
          "scatterpolargl": [
           {
            "marker": {
             "colorbar": {
              "outlinewidth": 0,
              "ticks": ""
             }
            },
            "type": "scatterpolargl"
           }
          ],
          "scatterternary": [
           {
            "marker": {
             "colorbar": {
              "outlinewidth": 0,
              "ticks": ""
             }
            },
            "type": "scatterternary"
           }
          ],
          "surface": [
           {
            "colorbar": {
             "outlinewidth": 0,
             "ticks": ""
            },
            "colorscale": [
             [
              0,
              "#0d0887"
             ],
             [
              0.1111111111111111,
              "#46039f"
             ],
             [
              0.2222222222222222,
              "#7201a8"
             ],
             [
              0.3333333333333333,
              "#9c179e"
             ],
             [
              0.4444444444444444,
              "#bd3786"
             ],
             [
              0.5555555555555556,
              "#d8576b"
             ],
             [
              0.6666666666666666,
              "#ed7953"
             ],
             [
              0.7777777777777778,
              "#fb9f3a"
             ],
             [
              0.8888888888888888,
              "#fdca26"
             ],
             [
              1,
              "#f0f921"
             ]
            ],
            "type": "surface"
           }
          ],
          "table": [
           {
            "cells": {
             "fill": {
              "color": "#506784"
             },
             "line": {
              "color": "rgb(17,17,17)"
             }
            },
            "header": {
             "fill": {
              "color": "#2a3f5f"
             },
             "line": {
              "color": "rgb(17,17,17)"
             }
            },
            "type": "table"
           }
          ]
         },
         "layout": {
          "annotationdefaults": {
           "arrowcolor": "#f2f5fa",
           "arrowhead": 0,
           "arrowwidth": 1
          },
          "autotypenumbers": "strict",
          "coloraxis": {
           "colorbar": {
            "outlinewidth": 0,
            "ticks": ""
           }
          },
          "colorscale": {
           "diverging": [
            [
             0,
             "#8e0152"
            ],
            [
             0.1,
             "#c51b7d"
            ],
            [
             0.2,
             "#de77ae"
            ],
            [
             0.3,
             "#f1b6da"
            ],
            [
             0.4,
             "#fde0ef"
            ],
            [
             0.5,
             "#f7f7f7"
            ],
            [
             0.6,
             "#e6f5d0"
            ],
            [
             0.7,
             "#b8e186"
            ],
            [
             0.8,
             "#7fbc41"
            ],
            [
             0.9,
             "#4d9221"
            ],
            [
             1,
             "#276419"
            ]
           ],
           "sequential": [
            [
             0,
             "#0d0887"
            ],
            [
             0.1111111111111111,
             "#46039f"
            ],
            [
             0.2222222222222222,
             "#7201a8"
            ],
            [
             0.3333333333333333,
             "#9c179e"
            ],
            [
             0.4444444444444444,
             "#bd3786"
            ],
            [
             0.5555555555555556,
             "#d8576b"
            ],
            [
             0.6666666666666666,
             "#ed7953"
            ],
            [
             0.7777777777777778,
             "#fb9f3a"
            ],
            [
             0.8888888888888888,
             "#fdca26"
            ],
            [
             1,
             "#f0f921"
            ]
           ],
           "sequentialminus": [
            [
             0,
             "#0d0887"
            ],
            [
             0.1111111111111111,
             "#46039f"
            ],
            [
             0.2222222222222222,
             "#7201a8"
            ],
            [
             0.3333333333333333,
             "#9c179e"
            ],
            [
             0.4444444444444444,
             "#bd3786"
            ],
            [
             0.5555555555555556,
             "#d8576b"
            ],
            [
             0.6666666666666666,
             "#ed7953"
            ],
            [
             0.7777777777777778,
             "#fb9f3a"
            ],
            [
             0.8888888888888888,
             "#fdca26"
            ],
            [
             1,
             "#f0f921"
            ]
           ]
          },
          "colorway": [
           "#636efa",
           "#EF553B",
           "#00cc96",
           "#ab63fa",
           "#FFA15A",
           "#19d3f3",
           "#FF6692",
           "#B6E880",
           "#FF97FF",
           "#FECB52"
          ],
          "font": {
           "color": "#f2f5fa"
          },
          "geo": {
           "bgcolor": "rgb(17,17,17)",
           "lakecolor": "rgb(17,17,17)",
           "landcolor": "rgb(17,17,17)",
           "showlakes": true,
           "showland": true,
           "subunitcolor": "#506784"
          },
          "hoverlabel": {
           "align": "left"
          },
          "hovermode": "closest",
          "mapbox": {
           "style": "dark"
          },
          "paper_bgcolor": "rgb(17,17,17)",
          "plot_bgcolor": "rgb(17,17,17)",
          "polar": {
           "angularaxis": {
            "gridcolor": "#506784",
            "linecolor": "#506784",
            "ticks": ""
           },
           "bgcolor": "rgb(17,17,17)",
           "radialaxis": {
            "gridcolor": "#506784",
            "linecolor": "#506784",
            "ticks": ""
           }
          },
          "scene": {
           "xaxis": {
            "backgroundcolor": "rgb(17,17,17)",
            "gridcolor": "#506784",
            "gridwidth": 2,
            "linecolor": "#506784",
            "showbackground": true,
            "ticks": "",
            "zerolinecolor": "#C8D4E3"
           },
           "yaxis": {
            "backgroundcolor": "rgb(17,17,17)",
            "gridcolor": "#506784",
            "gridwidth": 2,
            "linecolor": "#506784",
            "showbackground": true,
            "ticks": "",
            "zerolinecolor": "#C8D4E3"
           },
           "zaxis": {
            "backgroundcolor": "rgb(17,17,17)",
            "gridcolor": "#506784",
            "gridwidth": 2,
            "linecolor": "#506784",
            "showbackground": true,
            "ticks": "",
            "zerolinecolor": "#C8D4E3"
           }
          },
          "shapedefaults": {
           "line": {
            "color": "#f2f5fa"
           }
          },
          "sliderdefaults": {
           "bgcolor": "#C8D4E3",
           "bordercolor": "rgb(17,17,17)",
           "borderwidth": 1,
           "tickwidth": 0
          },
          "ternary": {
           "aaxis": {
            "gridcolor": "#506784",
            "linecolor": "#506784",
            "ticks": ""
           },
           "baxis": {
            "gridcolor": "#506784",
            "linecolor": "#506784",
            "ticks": ""
           },
           "bgcolor": "rgb(17,17,17)",
           "caxis": {
            "gridcolor": "#506784",
            "linecolor": "#506784",
            "ticks": ""
           }
          },
          "title": {
           "x": 0.05
          },
          "updatemenudefaults": {
           "bgcolor": "#506784",
           "borderwidth": 0
          },
          "xaxis": {
           "automargin": true,
           "gridcolor": "#283442",
           "linecolor": "#506784",
           "ticks": "",
           "title": {
            "standoff": 15
           },
           "zerolinecolor": "#283442",
           "zerolinewidth": 2
          },
          "yaxis": {
           "automargin": true,
           "gridcolor": "#283442",
           "linecolor": "#506784",
           "ticks": "",
           "title": {
            "standoff": 15
           },
           "zerolinecolor": "#283442",
           "zerolinewidth": 2
          }
         }
        },
        "title": {
         "text": "Variación de la Tasa de criminalidad"
        },
        "width": 800,
        "xaxis": {
         "title": {
          "text": "Periodo"
         }
        },
        "yaxis": {
         "title": {
          "text": "Total"
         }
        }
       }
      }
     },
     "metadata": {},
     "output_type": "display_data"
    }
   ],
   "source": [
    "# Gráfica tasa de criminalidad\n",
    "\n",
    "fig = go.Figure()\n",
    "fig.add_trace(go.Bar(x=delitos_tipo_py[\"Periodo\"], y=delitos_tipo_py[\"Tasa_Crim\"], name=\"Total\", marker_color=\"#5594B0\"))\n",
    "fig.add_trace(go.Scatter(x=delitos_tipo_py[\"Periodo\"], y=delitos_tipo_py[\"Tasa_Crim\"], name=\"Total\", mode=\"lines\", line=dict(color=\"orange\", dash=\"dash\")))\n",
    "\n",
    "fig.update_layout(title=\"Variación de la Tasa de criminalidad\", \n",
    "                  xaxis_title=\"Periodo\", yaxis_title=\"Total\",\n",
    "                  showlegend=False, template=\"plotly_dark\", \n",
    "                  width=800, height=600)\n",
    "\n",
    "for i, row in delitos_tipo_py.iterrows():\n",
    "    fig.add_annotation(x=row[\"Periodo\"], y=row[\"Tasa_Crim\"], text=f\"{row['Tasa_Crim']:.2f}\", showarrow=False, font=dict(size=14))\n",
    "\n",
    "fig.show()"
   ]
  },
  {
   "cell_type": "code",
   "execution_count": 307,
   "metadata": {},
   "outputs": [],
   "source": [
    "# Condenados por género y año filtrados\n",
    "\n",
    "gender_filtered = delit_gender[(delit_gender[\"Número de delitos\"] == \"Total\") & (delit_gender[\"Nacionalidad\"] == \"Total\") & (delit_gender[\"Edad\"] == \"Total \")]\n",
    "\n",
    "# Filtro por género (Sin uso)\n",
    "gender_filtered_mal = gender_filtered[gender_filtered[\"Sexo\"] == \"Hombres\"]\n",
    "gender_filtered_fem = gender_filtered[gender_filtered[\"Sexo\"] == \"Mujeres\"]\n",
    "\n",
    "# Filtros por año\n",
    "gender_2021 = gender_filtered[gender_filtered[\"Periodo\"]==2021]\n",
    "gender_2020 = gender_filtered[gender_filtered[\"Periodo\"]==2020]\n",
    "gender_2019 = gender_filtered[gender_filtered[\"Periodo\"]==2019]\n",
    "gender_2018 = gender_filtered[gender_filtered[\"Periodo\"]==2018]"
   ]
  },
  {
   "cell_type": "code",
   "execution_count": 308,
   "metadata": {},
   "outputs": [
    {
     "data": {
      "application/vnd.plotly.v1+json": {
       "config": {
        "plotlyServerURL": "https://plot.ly"
       },
       "data": [
        {
         "domain": {
          "x": [
           0,
           0.45
          ],
          "y": [
           0.625,
           1
          ]
         },
         "labels": [
          "Total",
          "Hombres",
          "Mujeres"
         ],
         "name": "2021",
         "pull": [
          0.05,
          0.05,
          0.05
         ],
         "textinfo": "percent+label",
         "textposition": "inside",
         "type": "pie",
         "values": [
          282.21,
          227.789,
          54.421
         ]
        },
        {
         "domain": {
          "x": [
           0.55,
           1
          ],
          "y": [
           0.625,
           1
          ]
         },
         "labels": [
          "Total",
          "Hombres",
          "Mujeres"
         ],
         "name": "2020",
         "pull": [
          0.05,
          0.05,
          0.05
         ],
         "textinfo": "percent+label",
         "textposition": "inside",
         "type": "pie",
         "values": [
          221.437,
          178.256,
          43.181
         ]
        },
        {
         "domain": {
          "x": [
           0,
           0.45
          ],
          "y": [
           0,
           0.375
          ]
         },
         "labels": [
          "Total",
          "Hombres",
          "Mujeres"
         ],
         "name": "2019",
         "pull": [
          0.05,
          0.05,
          0.05
         ],
         "textinfo": "percent+label",
         "textposition": "inside",
         "type": "pie",
         "values": [
          286.931,
          227.722,
          59.209
         ]
        },
        {
         "domain": {
          "x": [
           0.55,
           1
          ],
          "y": [
           0,
           0.375
          ]
         },
         "labels": [
          "Total",
          "Hombres",
          "Mujeres"
         ],
         "name": "2018",
         "pull": [
          0.05,
          0.05,
          0.05
         ],
         "textinfo": "percent+label",
         "textposition": "inside",
         "type": "pie",
         "values": [
          286.637,
          227.211,
          59.426
         ]
        }
       ],
       "layout": {
        "annotations": [
         {
          "font": {
           "size": 16
          },
          "showarrow": false,
          "text": "2021",
          "x": 0.225,
          "xanchor": "center",
          "xref": "paper",
          "y": 1,
          "yanchor": "bottom",
          "yref": "paper"
         },
         {
          "font": {
           "size": 16
          },
          "showarrow": false,
          "text": "2020",
          "x": 0.775,
          "xanchor": "center",
          "xref": "paper",
          "y": 1,
          "yanchor": "bottom",
          "yref": "paper"
         },
         {
          "font": {
           "size": 16
          },
          "showarrow": false,
          "text": "2019",
          "x": 0.225,
          "xanchor": "center",
          "xref": "paper",
          "y": 0.375,
          "yanchor": "bottom",
          "yref": "paper"
         },
         {
          "font": {
           "size": 16
          },
          "showarrow": false,
          "text": "2018",
          "x": 0.775,
          "xanchor": "center",
          "xref": "paper",
          "y": 0.375,
          "yanchor": "bottom",
          "yref": "paper"
         }
        ],
        "height": 800,
        "showlegend": true,
        "template": {
         "data": {
          "bar": [
           {
            "error_x": {
             "color": "#f2f5fa"
            },
            "error_y": {
             "color": "#f2f5fa"
            },
            "marker": {
             "line": {
              "color": "rgb(17,17,17)",
              "width": 0.5
             },
             "pattern": {
              "fillmode": "overlay",
              "size": 10,
              "solidity": 0.2
             }
            },
            "type": "bar"
           }
          ],
          "barpolar": [
           {
            "marker": {
             "line": {
              "color": "rgb(17,17,17)",
              "width": 0.5
             },
             "pattern": {
              "fillmode": "overlay",
              "size": 10,
              "solidity": 0.2
             }
            },
            "type": "barpolar"
           }
          ],
          "carpet": [
           {
            "aaxis": {
             "endlinecolor": "#A2B1C6",
             "gridcolor": "#506784",
             "linecolor": "#506784",
             "minorgridcolor": "#506784",
             "startlinecolor": "#A2B1C6"
            },
            "baxis": {
             "endlinecolor": "#A2B1C6",
             "gridcolor": "#506784",
             "linecolor": "#506784",
             "minorgridcolor": "#506784",
             "startlinecolor": "#A2B1C6"
            },
            "type": "carpet"
           }
          ],
          "choropleth": [
           {
            "colorbar": {
             "outlinewidth": 0,
             "ticks": ""
            },
            "type": "choropleth"
           }
          ],
          "contour": [
           {
            "colorbar": {
             "outlinewidth": 0,
             "ticks": ""
            },
            "colorscale": [
             [
              0,
              "#0d0887"
             ],
             [
              0.1111111111111111,
              "#46039f"
             ],
             [
              0.2222222222222222,
              "#7201a8"
             ],
             [
              0.3333333333333333,
              "#9c179e"
             ],
             [
              0.4444444444444444,
              "#bd3786"
             ],
             [
              0.5555555555555556,
              "#d8576b"
             ],
             [
              0.6666666666666666,
              "#ed7953"
             ],
             [
              0.7777777777777778,
              "#fb9f3a"
             ],
             [
              0.8888888888888888,
              "#fdca26"
             ],
             [
              1,
              "#f0f921"
             ]
            ],
            "type": "contour"
           }
          ],
          "contourcarpet": [
           {
            "colorbar": {
             "outlinewidth": 0,
             "ticks": ""
            },
            "type": "contourcarpet"
           }
          ],
          "heatmap": [
           {
            "colorbar": {
             "outlinewidth": 0,
             "ticks": ""
            },
            "colorscale": [
             [
              0,
              "#0d0887"
             ],
             [
              0.1111111111111111,
              "#46039f"
             ],
             [
              0.2222222222222222,
              "#7201a8"
             ],
             [
              0.3333333333333333,
              "#9c179e"
             ],
             [
              0.4444444444444444,
              "#bd3786"
             ],
             [
              0.5555555555555556,
              "#d8576b"
             ],
             [
              0.6666666666666666,
              "#ed7953"
             ],
             [
              0.7777777777777778,
              "#fb9f3a"
             ],
             [
              0.8888888888888888,
              "#fdca26"
             ],
             [
              1,
              "#f0f921"
             ]
            ],
            "type": "heatmap"
           }
          ],
          "heatmapgl": [
           {
            "colorbar": {
             "outlinewidth": 0,
             "ticks": ""
            },
            "colorscale": [
             [
              0,
              "#0d0887"
             ],
             [
              0.1111111111111111,
              "#46039f"
             ],
             [
              0.2222222222222222,
              "#7201a8"
             ],
             [
              0.3333333333333333,
              "#9c179e"
             ],
             [
              0.4444444444444444,
              "#bd3786"
             ],
             [
              0.5555555555555556,
              "#d8576b"
             ],
             [
              0.6666666666666666,
              "#ed7953"
             ],
             [
              0.7777777777777778,
              "#fb9f3a"
             ],
             [
              0.8888888888888888,
              "#fdca26"
             ],
             [
              1,
              "#f0f921"
             ]
            ],
            "type": "heatmapgl"
           }
          ],
          "histogram": [
           {
            "marker": {
             "pattern": {
              "fillmode": "overlay",
              "size": 10,
              "solidity": 0.2
             }
            },
            "type": "histogram"
           }
          ],
          "histogram2d": [
           {
            "colorbar": {
             "outlinewidth": 0,
             "ticks": ""
            },
            "colorscale": [
             [
              0,
              "#0d0887"
             ],
             [
              0.1111111111111111,
              "#46039f"
             ],
             [
              0.2222222222222222,
              "#7201a8"
             ],
             [
              0.3333333333333333,
              "#9c179e"
             ],
             [
              0.4444444444444444,
              "#bd3786"
             ],
             [
              0.5555555555555556,
              "#d8576b"
             ],
             [
              0.6666666666666666,
              "#ed7953"
             ],
             [
              0.7777777777777778,
              "#fb9f3a"
             ],
             [
              0.8888888888888888,
              "#fdca26"
             ],
             [
              1,
              "#f0f921"
             ]
            ],
            "type": "histogram2d"
           }
          ],
          "histogram2dcontour": [
           {
            "colorbar": {
             "outlinewidth": 0,
             "ticks": ""
            },
            "colorscale": [
             [
              0,
              "#0d0887"
             ],
             [
              0.1111111111111111,
              "#46039f"
             ],
             [
              0.2222222222222222,
              "#7201a8"
             ],
             [
              0.3333333333333333,
              "#9c179e"
             ],
             [
              0.4444444444444444,
              "#bd3786"
             ],
             [
              0.5555555555555556,
              "#d8576b"
             ],
             [
              0.6666666666666666,
              "#ed7953"
             ],
             [
              0.7777777777777778,
              "#fb9f3a"
             ],
             [
              0.8888888888888888,
              "#fdca26"
             ],
             [
              1,
              "#f0f921"
             ]
            ],
            "type": "histogram2dcontour"
           }
          ],
          "mesh3d": [
           {
            "colorbar": {
             "outlinewidth": 0,
             "ticks": ""
            },
            "type": "mesh3d"
           }
          ],
          "parcoords": [
           {
            "line": {
             "colorbar": {
              "outlinewidth": 0,
              "ticks": ""
             }
            },
            "type": "parcoords"
           }
          ],
          "pie": [
           {
            "automargin": true,
            "type": "pie"
           }
          ],
          "scatter": [
           {
            "marker": {
             "line": {
              "color": "#283442"
             }
            },
            "type": "scatter"
           }
          ],
          "scatter3d": [
           {
            "line": {
             "colorbar": {
              "outlinewidth": 0,
              "ticks": ""
             }
            },
            "marker": {
             "colorbar": {
              "outlinewidth": 0,
              "ticks": ""
             }
            },
            "type": "scatter3d"
           }
          ],
          "scattercarpet": [
           {
            "marker": {
             "colorbar": {
              "outlinewidth": 0,
              "ticks": ""
             }
            },
            "type": "scattercarpet"
           }
          ],
          "scattergeo": [
           {
            "marker": {
             "colorbar": {
              "outlinewidth": 0,
              "ticks": ""
             }
            },
            "type": "scattergeo"
           }
          ],
          "scattergl": [
           {
            "marker": {
             "line": {
              "color": "#283442"
             }
            },
            "type": "scattergl"
           }
          ],
          "scattermapbox": [
           {
            "marker": {
             "colorbar": {
              "outlinewidth": 0,
              "ticks": ""
             }
            },
            "type": "scattermapbox"
           }
          ],
          "scatterpolar": [
           {
            "marker": {
             "colorbar": {
              "outlinewidth": 0,
              "ticks": ""
             }
            },
            "type": "scatterpolar"
           }
          ],
          "scatterpolargl": [
           {
            "marker": {
             "colorbar": {
              "outlinewidth": 0,
              "ticks": ""
             }
            },
            "type": "scatterpolargl"
           }
          ],
          "scatterternary": [
           {
            "marker": {
             "colorbar": {
              "outlinewidth": 0,
              "ticks": ""
             }
            },
            "type": "scatterternary"
           }
          ],
          "surface": [
           {
            "colorbar": {
             "outlinewidth": 0,
             "ticks": ""
            },
            "colorscale": [
             [
              0,
              "#0d0887"
             ],
             [
              0.1111111111111111,
              "#46039f"
             ],
             [
              0.2222222222222222,
              "#7201a8"
             ],
             [
              0.3333333333333333,
              "#9c179e"
             ],
             [
              0.4444444444444444,
              "#bd3786"
             ],
             [
              0.5555555555555556,
              "#d8576b"
             ],
             [
              0.6666666666666666,
              "#ed7953"
             ],
             [
              0.7777777777777778,
              "#fb9f3a"
             ],
             [
              0.8888888888888888,
              "#fdca26"
             ],
             [
              1,
              "#f0f921"
             ]
            ],
            "type": "surface"
           }
          ],
          "table": [
           {
            "cells": {
             "fill": {
              "color": "#506784"
             },
             "line": {
              "color": "rgb(17,17,17)"
             }
            },
            "header": {
             "fill": {
              "color": "#2a3f5f"
             },
             "line": {
              "color": "rgb(17,17,17)"
             }
            },
            "type": "table"
           }
          ]
         },
         "layout": {
          "annotationdefaults": {
           "arrowcolor": "#f2f5fa",
           "arrowhead": 0,
           "arrowwidth": 1
          },
          "autotypenumbers": "strict",
          "coloraxis": {
           "colorbar": {
            "outlinewidth": 0,
            "ticks": ""
           }
          },
          "colorscale": {
           "diverging": [
            [
             0,
             "#8e0152"
            ],
            [
             0.1,
             "#c51b7d"
            ],
            [
             0.2,
             "#de77ae"
            ],
            [
             0.3,
             "#f1b6da"
            ],
            [
             0.4,
             "#fde0ef"
            ],
            [
             0.5,
             "#f7f7f7"
            ],
            [
             0.6,
             "#e6f5d0"
            ],
            [
             0.7,
             "#b8e186"
            ],
            [
             0.8,
             "#7fbc41"
            ],
            [
             0.9,
             "#4d9221"
            ],
            [
             1,
             "#276419"
            ]
           ],
           "sequential": [
            [
             0,
             "#0d0887"
            ],
            [
             0.1111111111111111,
             "#46039f"
            ],
            [
             0.2222222222222222,
             "#7201a8"
            ],
            [
             0.3333333333333333,
             "#9c179e"
            ],
            [
             0.4444444444444444,
             "#bd3786"
            ],
            [
             0.5555555555555556,
             "#d8576b"
            ],
            [
             0.6666666666666666,
             "#ed7953"
            ],
            [
             0.7777777777777778,
             "#fb9f3a"
            ],
            [
             0.8888888888888888,
             "#fdca26"
            ],
            [
             1,
             "#f0f921"
            ]
           ],
           "sequentialminus": [
            [
             0,
             "#0d0887"
            ],
            [
             0.1111111111111111,
             "#46039f"
            ],
            [
             0.2222222222222222,
             "#7201a8"
            ],
            [
             0.3333333333333333,
             "#9c179e"
            ],
            [
             0.4444444444444444,
             "#bd3786"
            ],
            [
             0.5555555555555556,
             "#d8576b"
            ],
            [
             0.6666666666666666,
             "#ed7953"
            ],
            [
             0.7777777777777778,
             "#fb9f3a"
            ],
            [
             0.8888888888888888,
             "#fdca26"
            ],
            [
             1,
             "#f0f921"
            ]
           ]
          },
          "colorway": [
           "#636efa",
           "#EF553B",
           "#00cc96",
           "#ab63fa",
           "#FFA15A",
           "#19d3f3",
           "#FF6692",
           "#B6E880",
           "#FF97FF",
           "#FECB52"
          ],
          "font": {
           "color": "#f2f5fa"
          },
          "geo": {
           "bgcolor": "rgb(17,17,17)",
           "lakecolor": "rgb(17,17,17)",
           "landcolor": "rgb(17,17,17)",
           "showlakes": true,
           "showland": true,
           "subunitcolor": "#506784"
          },
          "hoverlabel": {
           "align": "left"
          },
          "hovermode": "closest",
          "mapbox": {
           "style": "dark"
          },
          "paper_bgcolor": "rgb(17,17,17)",
          "plot_bgcolor": "rgb(17,17,17)",
          "polar": {
           "angularaxis": {
            "gridcolor": "#506784",
            "linecolor": "#506784",
            "ticks": ""
           },
           "bgcolor": "rgb(17,17,17)",
           "radialaxis": {
            "gridcolor": "#506784",
            "linecolor": "#506784",
            "ticks": ""
           }
          },
          "scene": {
           "xaxis": {
            "backgroundcolor": "rgb(17,17,17)",
            "gridcolor": "#506784",
            "gridwidth": 2,
            "linecolor": "#506784",
            "showbackground": true,
            "ticks": "",
            "zerolinecolor": "#C8D4E3"
           },
           "yaxis": {
            "backgroundcolor": "rgb(17,17,17)",
            "gridcolor": "#506784",
            "gridwidth": 2,
            "linecolor": "#506784",
            "showbackground": true,
            "ticks": "",
            "zerolinecolor": "#C8D4E3"
           },
           "zaxis": {
            "backgroundcolor": "rgb(17,17,17)",
            "gridcolor": "#506784",
            "gridwidth": 2,
            "linecolor": "#506784",
            "showbackground": true,
            "ticks": "",
            "zerolinecolor": "#C8D4E3"
           }
          },
          "shapedefaults": {
           "line": {
            "color": "#f2f5fa"
           }
          },
          "sliderdefaults": {
           "bgcolor": "#C8D4E3",
           "bordercolor": "rgb(17,17,17)",
           "borderwidth": 1,
           "tickwidth": 0
          },
          "ternary": {
           "aaxis": {
            "gridcolor": "#506784",
            "linecolor": "#506784",
            "ticks": ""
           },
           "baxis": {
            "gridcolor": "#506784",
            "linecolor": "#506784",
            "ticks": ""
           },
           "bgcolor": "rgb(17,17,17)",
           "caxis": {
            "gridcolor": "#506784",
            "linecolor": "#506784",
            "ticks": ""
           }
          },
          "title": {
           "x": 0.05
          },
          "updatemenudefaults": {
           "bgcolor": "#506784",
           "borderwidth": 0
          },
          "xaxis": {
           "automargin": true,
           "gridcolor": "#283442",
           "linecolor": "#506784",
           "ticks": "",
           "title": {
            "standoff": 15
           },
           "zerolinecolor": "#283442",
           "zerolinewidth": 2
          },
          "yaxis": {
           "automargin": true,
           "gridcolor": "#283442",
           "linecolor": "#506784",
           "ticks": "",
           "title": {
            "standoff": 15
           },
           "zerolinecolor": "#283442",
           "zerolinewidth": 2
          }
         }
        },
        "title": {
         "text": "Condenados por género 2018-2021"
        },
        "width": 1200
       }
      }
     },
     "metadata": {},
     "output_type": "display_data"
    }
   ],
   "source": [
    "from plotly.subplots import make_subplots\n",
    "\n",
    "specs = [[{'type':'domain'}, {'type':'domain'}], [{'type':'domain'}, {'type':'domain'}]]\n",
    "fig = make_subplots(rows=2, cols=2, specs=specs, subplot_titles=['2021', '2020', '2019', '2018'])\n",
    "fig.add_trace(go.Pie(labels = gender_2021[\"Sexo\"],values=gender_2021[\"Total\"], pull=[0.05, 0.05, 0.05],name=\"2021\"), 1, 1)\n",
    "fig.add_trace(go.Pie(labels = gender_2020[\"Sexo\"],values=gender_2020[\"Total\"], pull=[0.05, 0.05, 0.05],name=\"2020\"), 1, 2)\n",
    "fig.add_trace(go.Pie(labels = gender_2019[\"Sexo\"],values=gender_2019[\"Total\"], pull=[0.05, 0.05, 0.05],name=\"2019\"), 2, 1)\n",
    "fig.add_trace(go.Pie(labels = gender_2018[\"Sexo\"],values=gender_2018[\"Total\"], pull=[0.05, 0.05, 0.05],name=\"2018\"), 2, 2)\n",
    "\n",
    "# fig = px.pie(gender_2021, values=\"Total\", names=\"Sexo\",hover_data=\"Sexo\", color_discrete_sequence=px.colors.sequential.RdBu)\n",
    "# fig = go.Figure(data=go.Pie(labels = gender_2021[\"Sexo\"],values=gender_2021[\"Total\"], pull=[0.05, 0.05, 0.05]))\n",
    "fig.update_traces(textposition='inside', textinfo='percent+label')\n",
    "fig.update_layout(title=\"Condenados por género 2018-2021\", \n",
    "                  showlegend=True, template=\"plotly_dark\", \n",
    "                  width=1200, height=800)\n",
    "fig.show()"
   ]
  },
  {
   "cell_type": "code",
   "execution_count": 309,
   "metadata": {},
   "outputs": [],
   "source": [
    "# Scrapping time\n",
    "\n",
    "import requests\n",
    "import re\n",
    "\n",
    "URL = \"https://www.boe.es/buscar/act.php?id=BOE-A-1995-25444&p=20230329&tn=6\"\n",
    "web_html= requests.get(URL).content\n",
    "soup = BeautifulSoup (web_html, 'lxml')\n",
    "\n",
    "# Localizamos las modificaciones y adiciones en la sopa\n",
    "\n",
    "sub_soup = soup.find(\"div\", class_=\"analisisDoc\")\n",
    "\n",
    "adding = sub_soup.find_all(string=re.compile(\"SE AÑADE\"))\n",
    "modif = sub_soup.find_all(string=re.compile(\"SE MODIFICA\"))\n",
    "\n",
    "# Creamos una lista con las fechas y artículos\n",
    "\n",
    "modifications = []\n",
    "for texto in adding:\n",
    "    date_pattern = re.compile(r\"\\b\\d{1,2}/\\d{4}\\b\")\n",
    "    dates = date_pattern.findall(texto)\n",
    "    dates = str(dates)\n",
    "    dates = dates.replace(\"[\",\"\").replace(\"]\",\"\").replace(\"'\",\"\")\n",
    "    art_pattern = re.compile(r\"\\b\\d{3}\\.?\\b\")\n",
    "    arts = art_pattern.findall(texto)\n",
    "    modif = {dates:arts}\n",
    "    modifications.append(modif)\n",
    "\n",
    "for texto in modif:\n",
    "    date_pattern = re.compile(r\"\\b\\d{1,2}/\\d{4}\\b\")\n",
    "    dates = date_pattern.findall(texto)\n",
    "    dates = str(dates)\n",
    "    dates = dates.replace(\"[\",\"\").replace(\"]\",\"\").replace(\"'\",\"\")\n",
    "    art_pattern = re.compile(r\"\\b\\d{3}\\.?\\b\")\n",
    "    arts = art_pattern.findall(texto)\n",
    "    modif = {dates:arts}\n",
    "    modifications.append(modif)\n",
    "\n",
    "modifications = list(filter(lambda d: d[list(d.keys())[0]] != [], modifications))"
   ]
  },
  {
   "cell_type": "code",
   "execution_count": 310,
   "metadata": {},
   "outputs": [
    {
     "data": {
      "text/html": [
       "<div>\n",
       "<style scoped>\n",
       "    .dataframe tbody tr th:only-of-type {\n",
       "        vertical-align: middle;\n",
       "    }\n",
       "\n",
       "    .dataframe tbody tr th {\n",
       "        vertical-align: top;\n",
       "    }\n",
       "\n",
       "    .dataframe thead th {\n",
       "        text-align: right;\n",
       "    }\n",
       "</style>\n",
       "<table border=\"1\" class=\"dataframe\">\n",
       "  <thead>\n",
       "    <tr style=\"text-align: right;\">\n",
       "      <th></th>\n",
       "      <th>Fechas</th>\n",
       "      <th>Articulos</th>\n",
       "      <th>Modificaciones</th>\n",
       "    </tr>\n",
       "  </thead>\n",
       "  <tbody>\n",
       "    <tr>\n",
       "      <th>0</th>\n",
       "      <td>2015</td>\n",
       "      <td>'128'</td>\n",
       "      <td>1</td>\n",
       "    </tr>\n",
       "    <tr>\n",
       "      <th>1</th>\n",
       "      <td>2019</td>\n",
       "      <td>'142', '152', '382', '142', '152', '382', '285...</td>\n",
       "      <td>11</td>\n",
       "    </tr>\n",
       "    <tr>\n",
       "      <th>2</th>\n",
       "      <td>2022</td>\n",
       "      <td>'172'</td>\n",
       "      <td>1</td>\n",
       "    </tr>\n",
       "  </tbody>\n",
       "</table>\n",
       "</div>"
      ],
      "text/plain": [
       "   Fechas  \\\n",
       "0    2015   \n",
       "1    2019   \n",
       "2    2022   \n",
       "\n",
       "                                           Articulos  \\\n",
       "0                                              '128'   \n",
       "1  '142', '152', '382', '142', '152', '382', '285...   \n",
       "2                                              '172'   \n",
       "\n",
       "   Modificaciones  \n",
       "0               1  \n",
       "1              11  \n",
       "2               1  "
      ]
     },
     "execution_count": 310,
     "metadata": {},
     "output_type": "execute_result"
    }
   ],
   "source": [
    "# Creamos un dataframe a partir de los datos scrapeados\n",
    "\n",
    "art_modif = pd.DataFrame(modifications, columns=['Fechas', 'Articulos'])\n",
    "\n",
    "dates_2 = []\n",
    "arts_2 = []\n",
    "for element in modifications:\n",
    "    dates_2.append(list(element.keys()))\n",
    "    arts_2.append(list(element.values()))\n",
    "    \n",
    "# Limpiamos el dataframe y añadimos una columna para su representación gráfica\n",
    "art_modif[\"Fechas\"] = dates_2\n",
    "art_modif[\"Articulos\"] = arts_2\n",
    "art_modif[\"Fechas\"] = art_modif[\"Fechas\"].apply(lambda x: \"\".join(x))\n",
    "art_modif = art_modif[art_modif[\"Fechas\"].apply(lambda x: int(x.split(\"/\")[1]))>2014]\n",
    "art_modif[\"Fechas\"] = pd.to_datetime(art_modif[\"Fechas\"].apply(lambda x: \"01/\"+x), format=\"%d/%m/%Y\").dt.year\n",
    "art_modif['Articulos'] = art_modif['Articulos'].apply(lambda x: str(x).replace(\"[\", \"\").replace(\"]\", \"\"))\n",
    "art_modif[\"Modificaciones\"] = art_modif[\"Articulos\"].apply(lambda x: len(x.split(\",\")))\n",
    "\n",
    "art_modif = art_modif.sort_values(by=\"Fechas\", ascending=True)\n",
    "art_modif = art_modif.groupby('Fechas').agg({'Articulos': ', '.join, 'Modificaciones': 'sum'}).reset_index()\n",
    "\n",
    "art_modif"
   ]
  },
  {
   "cell_type": "code",
   "execution_count": 311,
   "metadata": {},
   "outputs": [
    {
     "data": {
      "text/html": [
       "<div>\n",
       "<style scoped>\n",
       "    .dataframe tbody tr th:only-of-type {\n",
       "        vertical-align: middle;\n",
       "    }\n",
       "\n",
       "    .dataframe tbody tr th {\n",
       "        vertical-align: top;\n",
       "    }\n",
       "\n",
       "    .dataframe thead th {\n",
       "        text-align: right;\n",
       "    }\n",
       "</style>\n",
       "<table border=\"1\" class=\"dataframe\">\n",
       "  <thead>\n",
       "    <tr style=\"text-align: right;\">\n",
       "      <th></th>\n",
       "      <th>Fechas</th>\n",
       "      <th>Articulos</th>\n",
       "      <th>Modificaciones</th>\n",
       "    </tr>\n",
       "  </thead>\n",
       "  <tbody>\n",
       "    <tr>\n",
       "      <th>0</th>\n",
       "      <td>2013</td>\n",
       "      <td>0</td>\n",
       "      <td>0</td>\n",
       "    </tr>\n",
       "    <tr>\n",
       "      <th>1</th>\n",
       "      <td>2014</td>\n",
       "      <td>0</td>\n",
       "      <td>0</td>\n",
       "    </tr>\n",
       "    <tr>\n",
       "      <th>2</th>\n",
       "      <td>2015</td>\n",
       "      <td>'128'</td>\n",
       "      <td>1</td>\n",
       "    </tr>\n",
       "    <tr>\n",
       "      <th>3</th>\n",
       "      <td>2016</td>\n",
       "      <td>0</td>\n",
       "      <td>0</td>\n",
       "    </tr>\n",
       "    <tr>\n",
       "      <th>4</th>\n",
       "      <td>2017</td>\n",
       "      <td>0</td>\n",
       "      <td>0</td>\n",
       "    </tr>\n",
       "    <tr>\n",
       "      <th>5</th>\n",
       "      <td>2018</td>\n",
       "      <td>0</td>\n",
       "      <td>0</td>\n",
       "    </tr>\n",
       "    <tr>\n",
       "      <th>6</th>\n",
       "      <td>2019</td>\n",
       "      <td>'142', '152', '382', '142', '152', '382', '285...</td>\n",
       "      <td>11</td>\n",
       "    </tr>\n",
       "    <tr>\n",
       "      <th>7</th>\n",
       "      <td>2020</td>\n",
       "      <td>0</td>\n",
       "      <td>0</td>\n",
       "    </tr>\n",
       "    <tr>\n",
       "      <th>8</th>\n",
       "      <td>2021</td>\n",
       "      <td>0</td>\n",
       "      <td>0</td>\n",
       "    </tr>\n",
       "    <tr>\n",
       "      <th>9</th>\n",
       "      <td>2022</td>\n",
       "      <td>'172'</td>\n",
       "      <td>1</td>\n",
       "    </tr>\n",
       "  </tbody>\n",
       "</table>\n",
       "</div>"
      ],
      "text/plain": [
       "   Fechas  \\\n",
       "0    2013   \n",
       "1    2014   \n",
       "2    2015   \n",
       "3    2016   \n",
       "4    2017   \n",
       "5    2018   \n",
       "6    2019   \n",
       "7    2020   \n",
       "8    2021   \n",
       "9    2022   \n",
       "\n",
       "                                           Articulos  \\\n",
       "0                                                  0   \n",
       "1                                                  0   \n",
       "2                                              '128'   \n",
       "3                                                  0   \n",
       "4                                                  0   \n",
       "5                                                  0   \n",
       "6  '142', '152', '382', '142', '152', '382', '285...   \n",
       "7                                                  0   \n",
       "8                                                  0   \n",
       "9                                              '172'   \n",
       "\n",
       "   Modificaciones  \n",
       "0               0  \n",
       "1               0  \n",
       "2               1  \n",
       "3               0  \n",
       "4               0  \n",
       "5               0  \n",
       "6              11  \n",
       "7               0  \n",
       "8               0  \n",
       "9               1  "
      ]
     },
     "execution_count": 311,
     "metadata": {},
     "output_type": "execute_result"
    }
   ],
   "source": [
    "# Rellenamos el dataframe para que coincida con las fechas del resto de gráficas\n",
    "\n",
    "fill_dates = {\"Fechas\":(2013, 2014, 2016, 2017, 2018, 2020, 2021), \"Articulos\":(0, 0, 0, 0, 0, 0, 0), \"Modificaciones\": (0, 0, 0, 0, 0, 0, 0)}\n",
    "fill_dates_df = pd.DataFrame(fill_dates)\n",
    "art_modif = pd.concat([art_modif,fill_dates_df])\n",
    "art_modif = art_modif.sort_values(by=\"Fechas\").reset_index(drop=True)\n",
    "art_modif\n"
   ]
  },
  {
   "cell_type": "code",
   "execution_count": 312,
   "metadata": {},
   "outputs": [
    {
     "data": {
      "application/vnd.plotly.v1+json": {
       "config": {
        "plotlyServerURL": "https://plot.ly"
       },
       "data": [
        {
         "line": {
          "color": "orange",
          "dash": "dash"
         },
         "mode": "lines",
         "name": "Total",
         "type": "scatter",
         "x": [
          2013,
          2014,
          2015,
          2016,
          2017,
          2018,
          2019,
          2020,
          2021,
          2022
         ],
         "y": [
          0,
          0,
          1,
          0,
          0,
          0,
          11,
          0,
          0,
          1
         ]
        }
       ],
       "layout": {
        "height": 600,
        "showlegend": false,
        "template": {
         "data": {
          "bar": [
           {
            "error_x": {
             "color": "#f2f5fa"
            },
            "error_y": {
             "color": "#f2f5fa"
            },
            "marker": {
             "line": {
              "color": "rgb(17,17,17)",
              "width": 0.5
             },
             "pattern": {
              "fillmode": "overlay",
              "size": 10,
              "solidity": 0.2
             }
            },
            "type": "bar"
           }
          ],
          "barpolar": [
           {
            "marker": {
             "line": {
              "color": "rgb(17,17,17)",
              "width": 0.5
             },
             "pattern": {
              "fillmode": "overlay",
              "size": 10,
              "solidity": 0.2
             }
            },
            "type": "barpolar"
           }
          ],
          "carpet": [
           {
            "aaxis": {
             "endlinecolor": "#A2B1C6",
             "gridcolor": "#506784",
             "linecolor": "#506784",
             "minorgridcolor": "#506784",
             "startlinecolor": "#A2B1C6"
            },
            "baxis": {
             "endlinecolor": "#A2B1C6",
             "gridcolor": "#506784",
             "linecolor": "#506784",
             "minorgridcolor": "#506784",
             "startlinecolor": "#A2B1C6"
            },
            "type": "carpet"
           }
          ],
          "choropleth": [
           {
            "colorbar": {
             "outlinewidth": 0,
             "ticks": ""
            },
            "type": "choropleth"
           }
          ],
          "contour": [
           {
            "colorbar": {
             "outlinewidth": 0,
             "ticks": ""
            },
            "colorscale": [
             [
              0,
              "#0d0887"
             ],
             [
              0.1111111111111111,
              "#46039f"
             ],
             [
              0.2222222222222222,
              "#7201a8"
             ],
             [
              0.3333333333333333,
              "#9c179e"
             ],
             [
              0.4444444444444444,
              "#bd3786"
             ],
             [
              0.5555555555555556,
              "#d8576b"
             ],
             [
              0.6666666666666666,
              "#ed7953"
             ],
             [
              0.7777777777777778,
              "#fb9f3a"
             ],
             [
              0.8888888888888888,
              "#fdca26"
             ],
             [
              1,
              "#f0f921"
             ]
            ],
            "type": "contour"
           }
          ],
          "contourcarpet": [
           {
            "colorbar": {
             "outlinewidth": 0,
             "ticks": ""
            },
            "type": "contourcarpet"
           }
          ],
          "heatmap": [
           {
            "colorbar": {
             "outlinewidth": 0,
             "ticks": ""
            },
            "colorscale": [
             [
              0,
              "#0d0887"
             ],
             [
              0.1111111111111111,
              "#46039f"
             ],
             [
              0.2222222222222222,
              "#7201a8"
             ],
             [
              0.3333333333333333,
              "#9c179e"
             ],
             [
              0.4444444444444444,
              "#bd3786"
             ],
             [
              0.5555555555555556,
              "#d8576b"
             ],
             [
              0.6666666666666666,
              "#ed7953"
             ],
             [
              0.7777777777777778,
              "#fb9f3a"
             ],
             [
              0.8888888888888888,
              "#fdca26"
             ],
             [
              1,
              "#f0f921"
             ]
            ],
            "type": "heatmap"
           }
          ],
          "heatmapgl": [
           {
            "colorbar": {
             "outlinewidth": 0,
             "ticks": ""
            },
            "colorscale": [
             [
              0,
              "#0d0887"
             ],
             [
              0.1111111111111111,
              "#46039f"
             ],
             [
              0.2222222222222222,
              "#7201a8"
             ],
             [
              0.3333333333333333,
              "#9c179e"
             ],
             [
              0.4444444444444444,
              "#bd3786"
             ],
             [
              0.5555555555555556,
              "#d8576b"
             ],
             [
              0.6666666666666666,
              "#ed7953"
             ],
             [
              0.7777777777777778,
              "#fb9f3a"
             ],
             [
              0.8888888888888888,
              "#fdca26"
             ],
             [
              1,
              "#f0f921"
             ]
            ],
            "type": "heatmapgl"
           }
          ],
          "histogram": [
           {
            "marker": {
             "pattern": {
              "fillmode": "overlay",
              "size": 10,
              "solidity": 0.2
             }
            },
            "type": "histogram"
           }
          ],
          "histogram2d": [
           {
            "colorbar": {
             "outlinewidth": 0,
             "ticks": ""
            },
            "colorscale": [
             [
              0,
              "#0d0887"
             ],
             [
              0.1111111111111111,
              "#46039f"
             ],
             [
              0.2222222222222222,
              "#7201a8"
             ],
             [
              0.3333333333333333,
              "#9c179e"
             ],
             [
              0.4444444444444444,
              "#bd3786"
             ],
             [
              0.5555555555555556,
              "#d8576b"
             ],
             [
              0.6666666666666666,
              "#ed7953"
             ],
             [
              0.7777777777777778,
              "#fb9f3a"
             ],
             [
              0.8888888888888888,
              "#fdca26"
             ],
             [
              1,
              "#f0f921"
             ]
            ],
            "type": "histogram2d"
           }
          ],
          "histogram2dcontour": [
           {
            "colorbar": {
             "outlinewidth": 0,
             "ticks": ""
            },
            "colorscale": [
             [
              0,
              "#0d0887"
             ],
             [
              0.1111111111111111,
              "#46039f"
             ],
             [
              0.2222222222222222,
              "#7201a8"
             ],
             [
              0.3333333333333333,
              "#9c179e"
             ],
             [
              0.4444444444444444,
              "#bd3786"
             ],
             [
              0.5555555555555556,
              "#d8576b"
             ],
             [
              0.6666666666666666,
              "#ed7953"
             ],
             [
              0.7777777777777778,
              "#fb9f3a"
             ],
             [
              0.8888888888888888,
              "#fdca26"
             ],
             [
              1,
              "#f0f921"
             ]
            ],
            "type": "histogram2dcontour"
           }
          ],
          "mesh3d": [
           {
            "colorbar": {
             "outlinewidth": 0,
             "ticks": ""
            },
            "type": "mesh3d"
           }
          ],
          "parcoords": [
           {
            "line": {
             "colorbar": {
              "outlinewidth": 0,
              "ticks": ""
             }
            },
            "type": "parcoords"
           }
          ],
          "pie": [
           {
            "automargin": true,
            "type": "pie"
           }
          ],
          "scatter": [
           {
            "marker": {
             "line": {
              "color": "#283442"
             }
            },
            "type": "scatter"
           }
          ],
          "scatter3d": [
           {
            "line": {
             "colorbar": {
              "outlinewidth": 0,
              "ticks": ""
             }
            },
            "marker": {
             "colorbar": {
              "outlinewidth": 0,
              "ticks": ""
             }
            },
            "type": "scatter3d"
           }
          ],
          "scattercarpet": [
           {
            "marker": {
             "colorbar": {
              "outlinewidth": 0,
              "ticks": ""
             }
            },
            "type": "scattercarpet"
           }
          ],
          "scattergeo": [
           {
            "marker": {
             "colorbar": {
              "outlinewidth": 0,
              "ticks": ""
             }
            },
            "type": "scattergeo"
           }
          ],
          "scattergl": [
           {
            "marker": {
             "line": {
              "color": "#283442"
             }
            },
            "type": "scattergl"
           }
          ],
          "scattermapbox": [
           {
            "marker": {
             "colorbar": {
              "outlinewidth": 0,
              "ticks": ""
             }
            },
            "type": "scattermapbox"
           }
          ],
          "scatterpolar": [
           {
            "marker": {
             "colorbar": {
              "outlinewidth": 0,
              "ticks": ""
             }
            },
            "type": "scatterpolar"
           }
          ],
          "scatterpolargl": [
           {
            "marker": {
             "colorbar": {
              "outlinewidth": 0,
              "ticks": ""
             }
            },
            "type": "scatterpolargl"
           }
          ],
          "scatterternary": [
           {
            "marker": {
             "colorbar": {
              "outlinewidth": 0,
              "ticks": ""
             }
            },
            "type": "scatterternary"
           }
          ],
          "surface": [
           {
            "colorbar": {
             "outlinewidth": 0,
             "ticks": ""
            },
            "colorscale": [
             [
              0,
              "#0d0887"
             ],
             [
              0.1111111111111111,
              "#46039f"
             ],
             [
              0.2222222222222222,
              "#7201a8"
             ],
             [
              0.3333333333333333,
              "#9c179e"
             ],
             [
              0.4444444444444444,
              "#bd3786"
             ],
             [
              0.5555555555555556,
              "#d8576b"
             ],
             [
              0.6666666666666666,
              "#ed7953"
             ],
             [
              0.7777777777777778,
              "#fb9f3a"
             ],
             [
              0.8888888888888888,
              "#fdca26"
             ],
             [
              1,
              "#f0f921"
             ]
            ],
            "type": "surface"
           }
          ],
          "table": [
           {
            "cells": {
             "fill": {
              "color": "#506784"
             },
             "line": {
              "color": "rgb(17,17,17)"
             }
            },
            "header": {
             "fill": {
              "color": "#2a3f5f"
             },
             "line": {
              "color": "rgb(17,17,17)"
             }
            },
            "type": "table"
           }
          ]
         },
         "layout": {
          "annotationdefaults": {
           "arrowcolor": "#f2f5fa",
           "arrowhead": 0,
           "arrowwidth": 1
          },
          "autotypenumbers": "strict",
          "coloraxis": {
           "colorbar": {
            "outlinewidth": 0,
            "ticks": ""
           }
          },
          "colorscale": {
           "diverging": [
            [
             0,
             "#8e0152"
            ],
            [
             0.1,
             "#c51b7d"
            ],
            [
             0.2,
             "#de77ae"
            ],
            [
             0.3,
             "#f1b6da"
            ],
            [
             0.4,
             "#fde0ef"
            ],
            [
             0.5,
             "#f7f7f7"
            ],
            [
             0.6,
             "#e6f5d0"
            ],
            [
             0.7,
             "#b8e186"
            ],
            [
             0.8,
             "#7fbc41"
            ],
            [
             0.9,
             "#4d9221"
            ],
            [
             1,
             "#276419"
            ]
           ],
           "sequential": [
            [
             0,
             "#0d0887"
            ],
            [
             0.1111111111111111,
             "#46039f"
            ],
            [
             0.2222222222222222,
             "#7201a8"
            ],
            [
             0.3333333333333333,
             "#9c179e"
            ],
            [
             0.4444444444444444,
             "#bd3786"
            ],
            [
             0.5555555555555556,
             "#d8576b"
            ],
            [
             0.6666666666666666,
             "#ed7953"
            ],
            [
             0.7777777777777778,
             "#fb9f3a"
            ],
            [
             0.8888888888888888,
             "#fdca26"
            ],
            [
             1,
             "#f0f921"
            ]
           ],
           "sequentialminus": [
            [
             0,
             "#0d0887"
            ],
            [
             0.1111111111111111,
             "#46039f"
            ],
            [
             0.2222222222222222,
             "#7201a8"
            ],
            [
             0.3333333333333333,
             "#9c179e"
            ],
            [
             0.4444444444444444,
             "#bd3786"
            ],
            [
             0.5555555555555556,
             "#d8576b"
            ],
            [
             0.6666666666666666,
             "#ed7953"
            ],
            [
             0.7777777777777778,
             "#fb9f3a"
            ],
            [
             0.8888888888888888,
             "#fdca26"
            ],
            [
             1,
             "#f0f921"
            ]
           ]
          },
          "colorway": [
           "#636efa",
           "#EF553B",
           "#00cc96",
           "#ab63fa",
           "#FFA15A",
           "#19d3f3",
           "#FF6692",
           "#B6E880",
           "#FF97FF",
           "#FECB52"
          ],
          "font": {
           "color": "#f2f5fa"
          },
          "geo": {
           "bgcolor": "rgb(17,17,17)",
           "lakecolor": "rgb(17,17,17)",
           "landcolor": "rgb(17,17,17)",
           "showlakes": true,
           "showland": true,
           "subunitcolor": "#506784"
          },
          "hoverlabel": {
           "align": "left"
          },
          "hovermode": "closest",
          "mapbox": {
           "style": "dark"
          },
          "paper_bgcolor": "rgb(17,17,17)",
          "plot_bgcolor": "rgb(17,17,17)",
          "polar": {
           "angularaxis": {
            "gridcolor": "#506784",
            "linecolor": "#506784",
            "ticks": ""
           },
           "bgcolor": "rgb(17,17,17)",
           "radialaxis": {
            "gridcolor": "#506784",
            "linecolor": "#506784",
            "ticks": ""
           }
          },
          "scene": {
           "xaxis": {
            "backgroundcolor": "rgb(17,17,17)",
            "gridcolor": "#506784",
            "gridwidth": 2,
            "linecolor": "#506784",
            "showbackground": true,
            "ticks": "",
            "zerolinecolor": "#C8D4E3"
           },
           "yaxis": {
            "backgroundcolor": "rgb(17,17,17)",
            "gridcolor": "#506784",
            "gridwidth": 2,
            "linecolor": "#506784",
            "showbackground": true,
            "ticks": "",
            "zerolinecolor": "#C8D4E3"
           },
           "zaxis": {
            "backgroundcolor": "rgb(17,17,17)",
            "gridcolor": "#506784",
            "gridwidth": 2,
            "linecolor": "#506784",
            "showbackground": true,
            "ticks": "",
            "zerolinecolor": "#C8D4E3"
           }
          },
          "shapedefaults": {
           "line": {
            "color": "#f2f5fa"
           }
          },
          "sliderdefaults": {
           "bgcolor": "#C8D4E3",
           "bordercolor": "rgb(17,17,17)",
           "borderwidth": 1,
           "tickwidth": 0
          },
          "ternary": {
           "aaxis": {
            "gridcolor": "#506784",
            "linecolor": "#506784",
            "ticks": ""
           },
           "baxis": {
            "gridcolor": "#506784",
            "linecolor": "#506784",
            "ticks": ""
           },
           "bgcolor": "rgb(17,17,17)",
           "caxis": {
            "gridcolor": "#506784",
            "linecolor": "#506784",
            "ticks": ""
           }
          },
          "title": {
           "x": 0.05
          },
          "updatemenudefaults": {
           "bgcolor": "#506784",
           "borderwidth": 0
          },
          "xaxis": {
           "automargin": true,
           "gridcolor": "#283442",
           "linecolor": "#506784",
           "ticks": "",
           "title": {
            "standoff": 15
           },
           "zerolinecolor": "#283442",
           "zerolinewidth": 2
          },
          "yaxis": {
           "automargin": true,
           "gridcolor": "#283442",
           "linecolor": "#506784",
           "ticks": "",
           "title": {
            "standoff": 15
           },
           "zerolinecolor": "#283442",
           "zerolinewidth": 2
          }
         }
        },
        "title": {
         "text": "Modificaciones codigo penal por fecha"
        },
        "width": 800,
        "xaxis": {
         "title": {
          "text": "Periodo"
         }
        },
        "yaxis": {
         "title": {
          "text": "Total"
         }
        }
       }
      }
     },
     "metadata": {},
     "output_type": "display_data"
    }
   ],
   "source": [
    "# Crear la gráfica\n",
    "fig = go.Figure()\n",
    "# fig.add_trace(go.Bar(x=delitos_tipo_py[\"Periodo\"], y=delitos_tipo_py[\"Total\"], name=\"Total\", marker_color=\"#5594B0\"))\n",
    "fig.add_trace(go.Scatter(x=art_modif[\"Fechas\"], y=art_modif[\"Modificaciones\"], name=\"Total\", mode=\"lines\", line=dict(color=\"orange\", dash=\"dash\")))\n",
    "\n",
    "# Personalizar el diseño de la gráfica\n",
    "fig.update_layout(title=\"Modificaciones codigo penal por fecha\", xaxis_title=\"Periodo\", yaxis_title=\"Total\", showlegend=False, template=\"plotly_dark\", width=800, height=600)\n",
    "\n",
    "# Mostrar la gráfica\n",
    "fig.show()"
   ]
  },
  {
   "cell_type": "code",
   "execution_count": 315,
   "metadata": {},
   "outputs": [
    {
     "data": {
      "application/vnd.plotly.v1+json": {
       "config": {
        "plotlyServerURL": "https://plot.ly"
       },
       "data": [
        {
         "marker": {
          "color": "#5594B0"
         },
         "name": "Total",
         "type": "bar",
         "x": [
          2013,
          2014,
          2015,
          2016,
          2017,
          2018,
          2019,
          2020,
          2021
         ],
         "y": [
          13433.882,
          13789.608,
          15460.483,
          16536.454,
          16437.758,
          14491.144,
          14262.983,
          13636.784,
          15296.949
         ],
         "yaxis": "y"
        },
        {
         "line": {
          "color": "orange",
          "dash": "dash"
         },
         "mode": "lines",
         "name": "Modificaciones",
         "type": "scatter",
         "x": [
          2013,
          2014,
          2015,
          2016,
          2017,
          2018,
          2019,
          2020,
          2021,
          2022
         ],
         "y": [
          0,
          0,
          1,
          0,
          0,
          0,
          11,
          0,
          0,
          1
         ],
         "yaxis": "y2"
        }
       ],
       "layout": {
        "height": 600,
        "template": {
         "data": {
          "bar": [
           {
            "error_x": {
             "color": "#f2f5fa"
            },
            "error_y": {
             "color": "#f2f5fa"
            },
            "marker": {
             "line": {
              "color": "rgb(17,17,17)",
              "width": 0.5
             },
             "pattern": {
              "fillmode": "overlay",
              "size": 10,
              "solidity": 0.2
             }
            },
            "type": "bar"
           }
          ],
          "barpolar": [
           {
            "marker": {
             "line": {
              "color": "rgb(17,17,17)",
              "width": 0.5
             },
             "pattern": {
              "fillmode": "overlay",
              "size": 10,
              "solidity": 0.2
             }
            },
            "type": "barpolar"
           }
          ],
          "carpet": [
           {
            "aaxis": {
             "endlinecolor": "#A2B1C6",
             "gridcolor": "#506784",
             "linecolor": "#506784",
             "minorgridcolor": "#506784",
             "startlinecolor": "#A2B1C6"
            },
            "baxis": {
             "endlinecolor": "#A2B1C6",
             "gridcolor": "#506784",
             "linecolor": "#506784",
             "minorgridcolor": "#506784",
             "startlinecolor": "#A2B1C6"
            },
            "type": "carpet"
           }
          ],
          "choropleth": [
           {
            "colorbar": {
             "outlinewidth": 0,
             "ticks": ""
            },
            "type": "choropleth"
           }
          ],
          "contour": [
           {
            "colorbar": {
             "outlinewidth": 0,
             "ticks": ""
            },
            "colorscale": [
             [
              0,
              "#0d0887"
             ],
             [
              0.1111111111111111,
              "#46039f"
             ],
             [
              0.2222222222222222,
              "#7201a8"
             ],
             [
              0.3333333333333333,
              "#9c179e"
             ],
             [
              0.4444444444444444,
              "#bd3786"
             ],
             [
              0.5555555555555556,
              "#d8576b"
             ],
             [
              0.6666666666666666,
              "#ed7953"
             ],
             [
              0.7777777777777778,
              "#fb9f3a"
             ],
             [
              0.8888888888888888,
              "#fdca26"
             ],
             [
              1,
              "#f0f921"
             ]
            ],
            "type": "contour"
           }
          ],
          "contourcarpet": [
           {
            "colorbar": {
             "outlinewidth": 0,
             "ticks": ""
            },
            "type": "contourcarpet"
           }
          ],
          "heatmap": [
           {
            "colorbar": {
             "outlinewidth": 0,
             "ticks": ""
            },
            "colorscale": [
             [
              0,
              "#0d0887"
             ],
             [
              0.1111111111111111,
              "#46039f"
             ],
             [
              0.2222222222222222,
              "#7201a8"
             ],
             [
              0.3333333333333333,
              "#9c179e"
             ],
             [
              0.4444444444444444,
              "#bd3786"
             ],
             [
              0.5555555555555556,
              "#d8576b"
             ],
             [
              0.6666666666666666,
              "#ed7953"
             ],
             [
              0.7777777777777778,
              "#fb9f3a"
             ],
             [
              0.8888888888888888,
              "#fdca26"
             ],
             [
              1,
              "#f0f921"
             ]
            ],
            "type": "heatmap"
           }
          ],
          "heatmapgl": [
           {
            "colorbar": {
             "outlinewidth": 0,
             "ticks": ""
            },
            "colorscale": [
             [
              0,
              "#0d0887"
             ],
             [
              0.1111111111111111,
              "#46039f"
             ],
             [
              0.2222222222222222,
              "#7201a8"
             ],
             [
              0.3333333333333333,
              "#9c179e"
             ],
             [
              0.4444444444444444,
              "#bd3786"
             ],
             [
              0.5555555555555556,
              "#d8576b"
             ],
             [
              0.6666666666666666,
              "#ed7953"
             ],
             [
              0.7777777777777778,
              "#fb9f3a"
             ],
             [
              0.8888888888888888,
              "#fdca26"
             ],
             [
              1,
              "#f0f921"
             ]
            ],
            "type": "heatmapgl"
           }
          ],
          "histogram": [
           {
            "marker": {
             "pattern": {
              "fillmode": "overlay",
              "size": 10,
              "solidity": 0.2
             }
            },
            "type": "histogram"
           }
          ],
          "histogram2d": [
           {
            "colorbar": {
             "outlinewidth": 0,
             "ticks": ""
            },
            "colorscale": [
             [
              0,
              "#0d0887"
             ],
             [
              0.1111111111111111,
              "#46039f"
             ],
             [
              0.2222222222222222,
              "#7201a8"
             ],
             [
              0.3333333333333333,
              "#9c179e"
             ],
             [
              0.4444444444444444,
              "#bd3786"
             ],
             [
              0.5555555555555556,
              "#d8576b"
             ],
             [
              0.6666666666666666,
              "#ed7953"
             ],
             [
              0.7777777777777778,
              "#fb9f3a"
             ],
             [
              0.8888888888888888,
              "#fdca26"
             ],
             [
              1,
              "#f0f921"
             ]
            ],
            "type": "histogram2d"
           }
          ],
          "histogram2dcontour": [
           {
            "colorbar": {
             "outlinewidth": 0,
             "ticks": ""
            },
            "colorscale": [
             [
              0,
              "#0d0887"
             ],
             [
              0.1111111111111111,
              "#46039f"
             ],
             [
              0.2222222222222222,
              "#7201a8"
             ],
             [
              0.3333333333333333,
              "#9c179e"
             ],
             [
              0.4444444444444444,
              "#bd3786"
             ],
             [
              0.5555555555555556,
              "#d8576b"
             ],
             [
              0.6666666666666666,
              "#ed7953"
             ],
             [
              0.7777777777777778,
              "#fb9f3a"
             ],
             [
              0.8888888888888888,
              "#fdca26"
             ],
             [
              1,
              "#f0f921"
             ]
            ],
            "type": "histogram2dcontour"
           }
          ],
          "mesh3d": [
           {
            "colorbar": {
             "outlinewidth": 0,
             "ticks": ""
            },
            "type": "mesh3d"
           }
          ],
          "parcoords": [
           {
            "line": {
             "colorbar": {
              "outlinewidth": 0,
              "ticks": ""
             }
            },
            "type": "parcoords"
           }
          ],
          "pie": [
           {
            "automargin": true,
            "type": "pie"
           }
          ],
          "scatter": [
           {
            "marker": {
             "line": {
              "color": "#283442"
             }
            },
            "type": "scatter"
           }
          ],
          "scatter3d": [
           {
            "line": {
             "colorbar": {
              "outlinewidth": 0,
              "ticks": ""
             }
            },
            "marker": {
             "colorbar": {
              "outlinewidth": 0,
              "ticks": ""
             }
            },
            "type": "scatter3d"
           }
          ],
          "scattercarpet": [
           {
            "marker": {
             "colorbar": {
              "outlinewidth": 0,
              "ticks": ""
             }
            },
            "type": "scattercarpet"
           }
          ],
          "scattergeo": [
           {
            "marker": {
             "colorbar": {
              "outlinewidth": 0,
              "ticks": ""
             }
            },
            "type": "scattergeo"
           }
          ],
          "scattergl": [
           {
            "marker": {
             "line": {
              "color": "#283442"
             }
            },
            "type": "scattergl"
           }
          ],
          "scattermapbox": [
           {
            "marker": {
             "colorbar": {
              "outlinewidth": 0,
              "ticks": ""
             }
            },
            "type": "scattermapbox"
           }
          ],
          "scatterpolar": [
           {
            "marker": {
             "colorbar": {
              "outlinewidth": 0,
              "ticks": ""
             }
            },
            "type": "scatterpolar"
           }
          ],
          "scatterpolargl": [
           {
            "marker": {
             "colorbar": {
              "outlinewidth": 0,
              "ticks": ""
             }
            },
            "type": "scatterpolargl"
           }
          ],
          "scatterternary": [
           {
            "marker": {
             "colorbar": {
              "outlinewidth": 0,
              "ticks": ""
             }
            },
            "type": "scatterternary"
           }
          ],
          "surface": [
           {
            "colorbar": {
             "outlinewidth": 0,
             "ticks": ""
            },
            "colorscale": [
             [
              0,
              "#0d0887"
             ],
             [
              0.1111111111111111,
              "#46039f"
             ],
             [
              0.2222222222222222,
              "#7201a8"
             ],
             [
              0.3333333333333333,
              "#9c179e"
             ],
             [
              0.4444444444444444,
              "#bd3786"
             ],
             [
              0.5555555555555556,
              "#d8576b"
             ],
             [
              0.6666666666666666,
              "#ed7953"
             ],
             [
              0.7777777777777778,
              "#fb9f3a"
             ],
             [
              0.8888888888888888,
              "#fdca26"
             ],
             [
              1,
              "#f0f921"
             ]
            ],
            "type": "surface"
           }
          ],
          "table": [
           {
            "cells": {
             "fill": {
              "color": "#506784"
             },
             "line": {
              "color": "rgb(17,17,17)"
             }
            },
            "header": {
             "fill": {
              "color": "#2a3f5f"
             },
             "line": {
              "color": "rgb(17,17,17)"
             }
            },
            "type": "table"
           }
          ]
         },
         "layout": {
          "annotationdefaults": {
           "arrowcolor": "#f2f5fa",
           "arrowhead": 0,
           "arrowwidth": 1
          },
          "autotypenumbers": "strict",
          "coloraxis": {
           "colorbar": {
            "outlinewidth": 0,
            "ticks": ""
           }
          },
          "colorscale": {
           "diverging": [
            [
             0,
             "#8e0152"
            ],
            [
             0.1,
             "#c51b7d"
            ],
            [
             0.2,
             "#de77ae"
            ],
            [
             0.3,
             "#f1b6da"
            ],
            [
             0.4,
             "#fde0ef"
            ],
            [
             0.5,
             "#f7f7f7"
            ],
            [
             0.6,
             "#e6f5d0"
            ],
            [
             0.7,
             "#b8e186"
            ],
            [
             0.8,
             "#7fbc41"
            ],
            [
             0.9,
             "#4d9221"
            ],
            [
             1,
             "#276419"
            ]
           ],
           "sequential": [
            [
             0,
             "#0d0887"
            ],
            [
             0.1111111111111111,
             "#46039f"
            ],
            [
             0.2222222222222222,
             "#7201a8"
            ],
            [
             0.3333333333333333,
             "#9c179e"
            ],
            [
             0.4444444444444444,
             "#bd3786"
            ],
            [
             0.5555555555555556,
             "#d8576b"
            ],
            [
             0.6666666666666666,
             "#ed7953"
            ],
            [
             0.7777777777777778,
             "#fb9f3a"
            ],
            [
             0.8888888888888888,
             "#fdca26"
            ],
            [
             1,
             "#f0f921"
            ]
           ],
           "sequentialminus": [
            [
             0,
             "#0d0887"
            ],
            [
             0.1111111111111111,
             "#46039f"
            ],
            [
             0.2222222222222222,
             "#7201a8"
            ],
            [
             0.3333333333333333,
             "#9c179e"
            ],
            [
             0.4444444444444444,
             "#bd3786"
            ],
            [
             0.5555555555555556,
             "#d8576b"
            ],
            [
             0.6666666666666666,
             "#ed7953"
            ],
            [
             0.7777777777777778,
             "#fb9f3a"
            ],
            [
             0.8888888888888888,
             "#fdca26"
            ],
            [
             1,
             "#f0f921"
            ]
           ]
          },
          "colorway": [
           "#636efa",
           "#EF553B",
           "#00cc96",
           "#ab63fa",
           "#FFA15A",
           "#19d3f3",
           "#FF6692",
           "#B6E880",
           "#FF97FF",
           "#FECB52"
          ],
          "font": {
           "color": "#f2f5fa"
          },
          "geo": {
           "bgcolor": "rgb(17,17,17)",
           "lakecolor": "rgb(17,17,17)",
           "landcolor": "rgb(17,17,17)",
           "showlakes": true,
           "showland": true,
           "subunitcolor": "#506784"
          },
          "hoverlabel": {
           "align": "left"
          },
          "hovermode": "closest",
          "mapbox": {
           "style": "dark"
          },
          "paper_bgcolor": "rgb(17,17,17)",
          "plot_bgcolor": "rgb(17,17,17)",
          "polar": {
           "angularaxis": {
            "gridcolor": "#506784",
            "linecolor": "#506784",
            "ticks": ""
           },
           "bgcolor": "rgb(17,17,17)",
           "radialaxis": {
            "gridcolor": "#506784",
            "linecolor": "#506784",
            "ticks": ""
           }
          },
          "scene": {
           "xaxis": {
            "backgroundcolor": "rgb(17,17,17)",
            "gridcolor": "#506784",
            "gridwidth": 2,
            "linecolor": "#506784",
            "showbackground": true,
            "ticks": "",
            "zerolinecolor": "#C8D4E3"
           },
           "yaxis": {
            "backgroundcolor": "rgb(17,17,17)",
            "gridcolor": "#506784",
            "gridwidth": 2,
            "linecolor": "#506784",
            "showbackground": true,
            "ticks": "",
            "zerolinecolor": "#C8D4E3"
           },
           "zaxis": {
            "backgroundcolor": "rgb(17,17,17)",
            "gridcolor": "#506784",
            "gridwidth": 2,
            "linecolor": "#506784",
            "showbackground": true,
            "ticks": "",
            "zerolinecolor": "#C8D4E3"
           }
          },
          "shapedefaults": {
           "line": {
            "color": "#f2f5fa"
           }
          },
          "sliderdefaults": {
           "bgcolor": "#C8D4E3",
           "bordercolor": "rgb(17,17,17)",
           "borderwidth": 1,
           "tickwidth": 0
          },
          "ternary": {
           "aaxis": {
            "gridcolor": "#506784",
            "linecolor": "#506784",
            "ticks": ""
           },
           "baxis": {
            "gridcolor": "#506784",
            "linecolor": "#506784",
            "ticks": ""
           },
           "bgcolor": "rgb(17,17,17)",
           "caxis": {
            "gridcolor": "#506784",
            "linecolor": "#506784",
            "ticks": ""
           }
          },
          "title": {
           "x": 0.05
          },
          "updatemenudefaults": {
           "bgcolor": "#506784",
           "borderwidth": 0
          },
          "xaxis": {
           "automargin": true,
           "gridcolor": "#283442",
           "linecolor": "#506784",
           "ticks": "",
           "title": {
            "standoff": 15
           },
           "zerolinecolor": "#283442",
           "zerolinewidth": 2
          },
          "yaxis": {
           "automargin": true,
           "gridcolor": "#283442",
           "linecolor": "#506784",
           "ticks": "",
           "title": {
            "standoff": 15
           },
           "zerolinecolor": "#283442",
           "zerolinewidth": 2
          }
         }
        },
        "width": 800,
        "yaxis": {
         "title": {
          "text": "Delitos totales por año"
         }
        },
        "yaxis2": {
         "overlaying": "y",
         "side": "right",
         "title": {
          "text": "Modificaciones codigo penal por fecha"
         }
        }
       }
      }
     },
     "metadata": {},
     "output_type": "display_data"
    }
   ],
   "source": [
    "# Gráfica comparando crecimiento de delitos con modificaciones del Código Penal\n",
    "\n",
    "fig = go.Figure()\n",
    "\n",
    "fig.add_trace(go.Bar(x=delitos_tipo_py[\"Periodo\"], y=delitos_tipo_py[\"Total\"], name=\"Total\", marker_color=\"#5594B0\", yaxis = \"y\"))\n",
    "\n",
    "fig.add_trace(go.Scatter(x=art_modif[\"Fechas\"], y=art_modif[\"Modificaciones\"], name=\"Modificaciones\", mode=\"lines\", line=dict(color=\"orange\", dash=\"dash\"), yaxis=\"y2\"))\n",
    "\n",
    "fig.update_layout(\n",
    "    yaxis=dict(title='Delitos totales por año'),\n",
    "    yaxis2=dict(title='Modificaciones codigo penal por fecha', overlaying='y', side='right'),\n",
    "    template=\"plotly_dark\", width=800, height=600)\n",
    "\n",
    "fig.show()\n"
   ]
  }
 ],
 "metadata": {
  "kernelspec": {
   "display_name": "Python 3",
   "language": "python",
   "name": "python3"
  },
  "language_info": {
   "codemirror_mode": {
    "name": "ipython",
    "version": 3
   },
   "file_extension": ".py",
   "mimetype": "text/x-python",
   "name": "python",
   "nbconvert_exporter": "python",
   "pygments_lexer": "ipython3",
   "version": "3.10.8"
  },
  "orig_nbformat": 4
 },
 "nbformat": 4,
 "nbformat_minor": 2
}
